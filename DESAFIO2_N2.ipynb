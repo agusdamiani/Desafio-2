{
 "cells": [
  {
   "cell_type": "markdown",
   "id": "dcd989b6",
   "metadata": {},
   "source": [
    "# Importamos librerías y cargamos la base de datos para comenzar a analizar"
   ]
  },
  {
   "cell_type": "code",
   "execution_count": 1,
   "id": "74473dee",
   "metadata": {},
   "outputs": [],
   "source": [
    "import pandas as pd\n",
    "import numpy as np\n",
    "import re\n",
    "from matplotlib import pyplot as plt"
   ]
  },
  {
   "cell_type": "code",
   "execution_count": 2,
   "id": "044f6b12",
   "metadata": {},
   "outputs": [],
   "source": [
    "data   = pd.read_csv('./data/properati-fase2.csv', sep = \",\", low_memory=False)"
   ]
  },
  {
   "cell_type": "code",
   "execution_count": 3,
   "id": "7c165592",
   "metadata": {},
   "outputs": [
    {
     "name": "stdout",
     "output_type": "stream",
     "text": [
      "<class 'pandas.core.frame.DataFrame'>\n",
      "RangeIndex: 82627 entries, 0 to 82626\n",
      "Data columns (total 23 columns):\n",
      " #   Column                 Non-Null Count  Dtype  \n",
      "---  ------                 --------------  -----  \n",
      " 0   Tipo_Propiedad         82627 non-null  object \n",
      " 1   Barrio                 82627 non-null  object \n",
      " 2   Región                 82627 non-null  object \n",
      " 3   lat-lon                48977 non-null  object \n",
      " 4   lat                    48977 non-null  float64\n",
      " 5   lon                    48977 non-null  float64\n",
      " 6   Precio                 82627 non-null  float64\n",
      " 7   surface_total_in_m2    82627 non-null  float64\n",
      " 8   surface_covered_in_m2  82627 non-null  float64\n",
      " 9   Descripción            82626 non-null  object \n",
      " 10  Título                 82627 non-null  object \n",
      " 11  Precio_por_m2          82627 non-null  float64\n",
      " 12  Garage                 82627 non-null  int64  \n",
      " 13  Estado                 82627 non-null  int64  \n",
      " 14  Pileta                 82627 non-null  int64  \n",
      " 15  Balcon                 82627 non-null  int64  \n",
      " 16  Gimnasio               82627 non-null  int64  \n",
      " 17  Quincho                82627 non-null  int64  \n",
      " 18  Parrilla               82627 non-null  int64  \n",
      " 19  Patio                  82627 non-null  int64  \n",
      " 20  Lavadero               82627 non-null  int64  \n",
      " 21  Amenities              82627 non-null  int64  \n",
      " 22  Ambientes              27359 non-null  float64\n",
      "dtypes: float64(7), int64(10), object(6)\n",
      "memory usage: 14.5+ MB\n"
     ]
    }
   ],
   "source": [
    "data.info()"
   ]
  },
  {
   "cell_type": "code",
   "execution_count": 4,
   "id": "53781312",
   "metadata": {},
   "outputs": [
    {
     "data": {
      "text/plain": [
       "Belgrano             2057\n",
       "Caballito            1937\n",
       "Palermo              1896\n",
       "Villa Urquiza        1261\n",
       "Flores               1165\n",
       "Recoleta             1123\n",
       "Villa Crespo         1079\n",
       "San Telmo            1059\n",
       "Almagro               902\n",
       "Barrio Norte          836\n",
       "Capital Federal       810\n",
       "Balvanera             592\n",
       "Nuñez                 577\n",
       "Saavedra              476\n",
       "Monserrat             466\n",
       "Floresta              408\n",
       "Villa del Parque      396\n",
       "Boedo                 394\n",
       "Barracas              373\n",
       "Palermo Hollywood     356\n",
       "Name: Barrio, dtype: int64"
      ]
     },
     "execution_count": 4,
     "metadata": {},
     "output_type": "execute_result"
    }
   ],
   "source": [
    "data_caba_mask = data.Región == \"Capital Federal\"\n",
    "data_caba = data[data_caba_mask]\n",
    "data_caba.Barrio.value_counts().head(20)"
   ]
  },
  {
   "cell_type": "code",
   "execution_count": 5,
   "id": "07f5e159",
   "metadata": {},
   "outputs": [
    {
     "data": {
      "text/html": [
       "<div>\n",
       "<style scoped>\n",
       "    .dataframe tbody tr th:only-of-type {\n",
       "        vertical-align: middle;\n",
       "    }\n",
       "\n",
       "    .dataframe tbody tr th {\n",
       "        vertical-align: top;\n",
       "    }\n",
       "\n",
       "    .dataframe thead th {\n",
       "        text-align: right;\n",
       "    }\n",
       "</style>\n",
       "<table border=\"1\" class=\"dataframe\">\n",
       "  <thead>\n",
       "    <tr style=\"text-align: right;\">\n",
       "      <th></th>\n",
       "      <th>id</th>\n",
       "      <th>fecha</th>\n",
       "      <th>franja_horaria</th>\n",
       "      <th>tipo_delito</th>\n",
       "      <th>subtipo_delito</th>\n",
       "      <th>cantidad_registrada</th>\n",
       "      <th>comuna</th>\n",
       "      <th>barrio</th>\n",
       "      <th>lat</th>\n",
       "      <th>long</th>\n",
       "    </tr>\n",
       "  </thead>\n",
       "  <tbody>\n",
       "    <tr>\n",
       "      <th>0</th>\n",
       "      <td>1038983</td>\n",
       "      <td>13-09-19</td>\n",
       "      <td>14</td>\n",
       "      <td>Robo (con violencia)</td>\n",
       "      <td>NaN</td>\n",
       "      <td>NaN</td>\n",
       "      <td>6.0</td>\n",
       "      <td>Caballito</td>\n",
       "      <td>-34.609876</td>\n",
       "      <td>-58.456159</td>\n",
       "    </tr>\n",
       "    <tr>\n",
       "      <th>1</th>\n",
       "      <td>1038986</td>\n",
       "      <td>13-09-19</td>\n",
       "      <td>16</td>\n",
       "      <td>Robo (con violencia)</td>\n",
       "      <td>NaN</td>\n",
       "      <td>NaN</td>\n",
       "      <td>3.0</td>\n",
       "      <td>Balvanera</td>\n",
       "      <td>-34.609394</td>\n",
       "      <td>-58.395934</td>\n",
       "    </tr>\n",
       "    <tr>\n",
       "      <th>2</th>\n",
       "      <td>1038989</td>\n",
       "      <td>13-09-19</td>\n",
       "      <td>13</td>\n",
       "      <td>Robo (con violencia)</td>\n",
       "      <td>NaN</td>\n",
       "      <td>NaN</td>\n",
       "      <td>3.0</td>\n",
       "      <td>Balvanera</td>\n",
       "      <td>-34.609231</td>\n",
       "      <td>-58.411177</td>\n",
       "    </tr>\n",
       "    <tr>\n",
       "      <th>3</th>\n",
       "      <td>1038990</td>\n",
       "      <td>13-09-19</td>\n",
       "      <td>16</td>\n",
       "      <td>Robo (con violencia)</td>\n",
       "      <td>NaN</td>\n",
       "      <td>NaN</td>\n",
       "      <td>3.0</td>\n",
       "      <td>Balvanera</td>\n",
       "      <td>-34.609095</td>\n",
       "      <td>-58.405899</td>\n",
       "    </tr>\n",
       "    <tr>\n",
       "      <th>4</th>\n",
       "      <td>1038991</td>\n",
       "      <td>13-09-19</td>\n",
       "      <td>11</td>\n",
       "      <td>Robo (con violencia)</td>\n",
       "      <td>NaN</td>\n",
       "      <td>NaN</td>\n",
       "      <td>1.0</td>\n",
       "      <td>Monserrat</td>\n",
       "      <td>-34.609073</td>\n",
       "      <td>-58.380570</td>\n",
       "    </tr>\n",
       "    <tr>\n",
       "      <th>...</th>\n",
       "      <td>...</td>\n",
       "      <td>...</td>\n",
       "      <td>...</td>\n",
       "      <td>...</td>\n",
       "      <td>...</td>\n",
       "      <td>...</td>\n",
       "      <td>...</td>\n",
       "      <td>...</td>\n",
       "      <td>...</td>\n",
       "      <td>...</td>\n",
       "    </tr>\n",
       "    <tr>\n",
       "      <th>122479</th>\n",
       "      <td>1038888</td>\n",
       "      <td>13-09-19</td>\n",
       "      <td>21</td>\n",
       "      <td>Robo (con violencia)</td>\n",
       "      <td>NaN</td>\n",
       "      <td>NaN</td>\n",
       "      <td>10.0</td>\n",
       "      <td>Vélez Sársfield</td>\n",
       "      <td>-34.631202</td>\n",
       "      <td>-58.500760</td>\n",
       "    </tr>\n",
       "    <tr>\n",
       "      <th>122480</th>\n",
       "      <td>1038920</td>\n",
       "      <td>13-09-19</td>\n",
       "      <td>20</td>\n",
       "      <td>Robo (con violencia)</td>\n",
       "      <td>NaN</td>\n",
       "      <td>NaN</td>\n",
       "      <td>10.0</td>\n",
       "      <td>Vélez Sársfield</td>\n",
       "      <td>-34.624261</td>\n",
       "      <td>-58.495508</td>\n",
       "    </tr>\n",
       "    <tr>\n",
       "      <th>122481</th>\n",
       "      <td>1038975</td>\n",
       "      <td>13-09-19</td>\n",
       "      <td>18</td>\n",
       "      <td>Robo (con violencia)</td>\n",
       "      <td>NaN</td>\n",
       "      <td>NaN</td>\n",
       "      <td>5.0</td>\n",
       "      <td>Almagro</td>\n",
       "      <td>-34.611807</td>\n",
       "      <td>-58.421817</td>\n",
       "    </tr>\n",
       "    <tr>\n",
       "      <th>122482</th>\n",
       "      <td>1038977</td>\n",
       "      <td>13-09-19</td>\n",
       "      <td>19</td>\n",
       "      <td>Robo (con violencia)</td>\n",
       "      <td>NaN</td>\n",
       "      <td>NaN</td>\n",
       "      <td>11.0</td>\n",
       "      <td>Villa Santa Rita</td>\n",
       "      <td>-34.611037</td>\n",
       "      <td>-58.483334</td>\n",
       "    </tr>\n",
       "    <tr>\n",
       "      <th>122483</th>\n",
       "      <td>1038982</td>\n",
       "      <td>13-09-19</td>\n",
       "      <td>9</td>\n",
       "      <td>Robo (con violencia)</td>\n",
       "      <td>NaN</td>\n",
       "      <td>NaN</td>\n",
       "      <td>3.0</td>\n",
       "      <td>Balvanera</td>\n",
       "      <td>-34.610367</td>\n",
       "      <td>-58.408288</td>\n",
       "    </tr>\n",
       "  </tbody>\n",
       "</table>\n",
       "<p>122484 rows × 10 columns</p>\n",
       "</div>"
      ],
      "text/plain": [
       "             id     fecha franja_horaria           tipo_delito subtipo_delito  \\\n",
       "0       1038983  13-09-19             14  Robo (con violencia)            NaN   \n",
       "1       1038986  13-09-19             16  Robo (con violencia)            NaN   \n",
       "2       1038989  13-09-19             13  Robo (con violencia)            NaN   \n",
       "3       1038990  13-09-19             16  Robo (con violencia)            NaN   \n",
       "4       1038991  13-09-19             11  Robo (con violencia)            NaN   \n",
       "...         ...       ...            ...                   ...            ...   \n",
       "122479  1038888  13-09-19             21  Robo (con violencia)            NaN   \n",
       "122480  1038920  13-09-19             20  Robo (con violencia)            NaN   \n",
       "122481  1038975  13-09-19             18  Robo (con violencia)            NaN   \n",
       "122482  1038977  13-09-19             19  Robo (con violencia)            NaN   \n",
       "122483  1038982  13-09-19              9  Robo (con violencia)            NaN   \n",
       "\n",
       "        cantidad_registrada  comuna            barrio        lat       long  \n",
       "0                       NaN     6.0         Caballito -34.609876 -58.456159  \n",
       "1                       NaN     3.0         Balvanera -34.609394 -58.395934  \n",
       "2                       NaN     3.0         Balvanera -34.609231 -58.411177  \n",
       "3                       NaN     3.0         Balvanera -34.609095 -58.405899  \n",
       "4                       NaN     1.0         Monserrat -34.609073 -58.380570  \n",
       "...                     ...     ...               ...        ...        ...  \n",
       "122479                  NaN    10.0   Vélez Sársfield -34.631202 -58.500760  \n",
       "122480                  NaN    10.0   Vélez Sársfield -34.624261 -58.495508  \n",
       "122481                  NaN     5.0           Almagro -34.611807 -58.421817  \n",
       "122482                  NaN    11.0  Villa Santa Rita -34.611037 -58.483334  \n",
       "122483                  NaN     3.0         Balvanera -34.610367 -58.408288  \n",
       "\n",
       "[122484 rows x 10 columns]"
      ]
     },
     "execution_count": 5,
     "metadata": {},
     "output_type": "execute_result"
    }
   ],
   "source": [
    "location_delitos = \"./data/barrios_CABA_descr.csv\"\n",
    "data_delitos = pd.read_csv(location_delitos, low_memory = False)\n",
    "data_delitos"
   ]
  },
  {
   "cell_type": "code",
   "execution_count": 6,
   "id": "e6908c06",
   "metadata": {},
   "outputs": [
    {
     "data": {
      "text/plain": [
       "(62,)"
      ]
     },
     "execution_count": 6,
     "metadata": {},
     "output_type": "execute_result"
    }
   ],
   "source": [
    "#Tenemos 62 Barrios en CABA según el DF Nuestro\n",
    "barrios_caba = data_caba.Barrio.unique()\n",
    "barrios_caba.shape"
   ]
  },
  {
   "cell_type": "code",
   "execution_count": 7,
   "id": "b9e379ac",
   "metadata": {},
   "outputs": [
    {
     "name": "stdout",
     "output_type": "stream",
     "text": [
      "(49,)\n",
      "['Caballito' 'Balvanera' 'Monserrat' 'Villa Gral. Mitre' 'Villa Crespo'\n",
      " 'Villa Devoto' 'Almagro' 'Paternal' 'Villa del Parque' 'Recoleta'\n",
      " 'Chacarita' 'Palermo' 'Retiro' 'San Nicolás' 'Villa Ortuzar' 'Colegiales'\n",
      " 'Villa Urquiza' 'Belgrano' 'Nuñez' 'Saavedra' 'Villa Lugano'\n",
      " 'Villa Soldati' 'Parque Avellaneda' 'Barracas' 'Mataderos'\n",
      " 'Nueva Pompeya' 'Flores' 'Parque Patricios' 'Boca' 'Parque Chacabuco'\n",
      " 'Liniers' 'Boedo' 'Floresta' 'Vélez Sársfield' 'Monte Castro' 'San Telmo'\n",
      " 'Villa Santa Rita' 'San Cristóbal' 'Parque Chas' 'Villa Riachuelo'\n",
      " 'Villa Luro' 'Villa Pueyrredón' 'Coghlan' 'Villa Real' 'Versalles'\n",
      " 'Puerto Madero' nan 'Constitución' 'Agronomía']\n"
     ]
    }
   ],
   "source": [
    "#Son 49 los barrios realmente\n",
    "barrios_delitos = data_delitos.barrio.unique()\n",
    "print(barrios_delitos.shape)\n",
    "print(barrios_delitos)"
   ]
  },
  {
   "cell_type": "code",
   "execution_count": 8,
   "id": "168034b7",
   "metadata": {},
   "outputs": [
    {
     "data": {
      "text/plain": [
       "Parque Avellaneda    2\n",
       "Mataderos            2\n",
       "Villa Pueyrredón     2\n",
       "Nuñez                2\n",
       "Villa Ortuzar        2\n",
       "                    ..\n",
       "Palermo Soho         1\n",
       "Palermo Viejo        1\n",
       "Parque Centenario    1\n",
       "Pompeya              1\n",
       "Vélez Sársfield      1\n",
       "Length: 66, dtype: int64"
      ]
     },
     "execution_count": 8,
     "metadata": {},
     "output_type": "execute_result"
    }
   ],
   "source": [
    "todos_barrios_lista = barrios_caba.tolist() + barrios_delitos.tolist()\n",
    "df_todos_barrios = pd.DataFrame(todos_barrios_lista)\n",
    "df_todos_barrios.value_counts()"
   ]
  },
  {
   "cell_type": "code",
   "execution_count": 9,
   "id": "6c69b799",
   "metadata": {},
   "outputs": [],
   "source": [
    "def no_duplicados (data_uno, data_dos):\n",
    "    result = []\n",
    "    for x in data_uno:\n",
    "        if x not in data_dos:\n",
    "            result += [x]\n",
    "    return(result)"
   ]
  },
  {
   "cell_type": "code",
   "execution_count": 10,
   "id": "0e6532cc",
   "metadata": {},
   "outputs": [
    {
     "name": "stdout",
     "output_type": "stream",
     "text": [
      "['Abasto', 'Barrio Norte', 'Capital Federal', 'Catalinas', 'Centro / Microcentro', 'Congreso', 'Las Cañitas', 'Once', 'Palermo Chico', 'Palermo Hollywood', 'Palermo Soho', 'Palermo Viejo', 'Parque Centenario', 'Pompeya', 'San Cristobal', 'Tribunales', 'Velez Sarsfield', 'Villa General Mitre']\n"
     ]
    }
   ],
   "source": [
    "barrios_extra = no_duplicados(barrios_caba, barrios_delitos)\n",
    "barrios_extra.sort()\n",
    "print(barrios_extra)"
   ]
  },
  {
   "cell_type": "code",
   "execution_count": 11,
   "id": "492213de",
   "metadata": {},
   "outputs": [],
   "source": [
    "diccionario = {\"Catalinas\": \"Retiro\", \"Congreso\":\"Balvanera\", \"Las Cañitas\": \"Palermo\", \"Once\":\"Balvanera\",\\\n",
    "               \"Palermo Chico\":\"Palermo\",\"Palermo Hollywood\": \"Palermo\", \"Palermo Soho\":\"Palermo\", \"Palermo Viejo\":\"Palermo\",\\\n",
    "               \"Parque Centenario\":\"Caballito\", \"Pompeya\":\"Nueva Pompeya\", \"San Cristobal\":\"San Cristóbal\",\\\n",
    "               \"Tribunales\": \"San Nicolás\", \"Velez Sarsfield\":\"Vélez Sársfield\", \"Villa General Mitre\":\"Villa Gral. Mitre\",\\\n",
    "              \"Abasto\": \"Balvanera\", \"Barrio Norte\":\"Recoleta\", \"Centro / Microcentro\":\"San Nicolás\",\\\n",
    "               \"Nan\":np.NaN}"
   ]
  },
  {
   "cell_type": "code",
   "execution_count": 12,
   "id": "2fa371a1",
   "metadata": {},
   "outputs": [
    {
     "data": {
      "text/html": [
       "<div>\n",
       "<style scoped>\n",
       "    .dataframe tbody tr th:only-of-type {\n",
       "        vertical-align: middle;\n",
       "    }\n",
       "\n",
       "    .dataframe tbody tr th {\n",
       "        vertical-align: top;\n",
       "    }\n",
       "\n",
       "    .dataframe thead th {\n",
       "        text-align: right;\n",
       "    }\n",
       "</style>\n",
       "<table border=\"1\" class=\"dataframe\">\n",
       "  <thead>\n",
       "    <tr style=\"text-align: right;\">\n",
       "      <th></th>\n",
       "      <th>Barrio</th>\n",
       "      <th>new_place</th>\n",
       "    </tr>\n",
       "  </thead>\n",
       "  <tbody>\n",
       "    <tr>\n",
       "      <th>9391</th>\n",
       "      <td>Liniers</td>\n",
       "      <td>Liniers</td>\n",
       "    </tr>\n",
       "    <tr>\n",
       "      <th>315</th>\n",
       "      <td>Flores</td>\n",
       "      <td>Flores</td>\n",
       "    </tr>\n",
       "    <tr>\n",
       "      <th>78181</th>\n",
       "      <td>Villa Lugano</td>\n",
       "      <td>Villa Lugano</td>\n",
       "    </tr>\n",
       "    <tr>\n",
       "      <th>26328</th>\n",
       "      <td>Barrio Norte</td>\n",
       "      <td>Recoleta</td>\n",
       "    </tr>\n",
       "    <tr>\n",
       "      <th>78143</th>\n",
       "      <td>Villa del Parque</td>\n",
       "      <td>Villa del Parque</td>\n",
       "    </tr>\n",
       "    <tr>\n",
       "      <th>19433</th>\n",
       "      <td>Parque Patricios</td>\n",
       "      <td>Parque Patricios</td>\n",
       "    </tr>\n",
       "    <tr>\n",
       "      <th>23750</th>\n",
       "      <td>Flores</td>\n",
       "      <td>Flores</td>\n",
       "    </tr>\n",
       "    <tr>\n",
       "      <th>15501</th>\n",
       "      <td>Belgrano</td>\n",
       "      <td>Belgrano</td>\n",
       "    </tr>\n",
       "    <tr>\n",
       "      <th>14477</th>\n",
       "      <td>Balvanera</td>\n",
       "      <td>Balvanera</td>\n",
       "    </tr>\n",
       "    <tr>\n",
       "      <th>6482</th>\n",
       "      <td>Parque Patricios</td>\n",
       "      <td>Parque Patricios</td>\n",
       "    </tr>\n",
       "    <tr>\n",
       "      <th>23390</th>\n",
       "      <td>Palermo</td>\n",
       "      <td>Palermo</td>\n",
       "    </tr>\n",
       "    <tr>\n",
       "      <th>28401</th>\n",
       "      <td>Nuñez</td>\n",
       "      <td>Nuñez</td>\n",
       "    </tr>\n",
       "    <tr>\n",
       "      <th>50957</th>\n",
       "      <td>Palermo Soho</td>\n",
       "      <td>Palermo</td>\n",
       "    </tr>\n",
       "    <tr>\n",
       "      <th>60269</th>\n",
       "      <td>Monserrat</td>\n",
       "      <td>Monserrat</td>\n",
       "    </tr>\n",
       "    <tr>\n",
       "      <th>38761</th>\n",
       "      <td>Palermo</td>\n",
       "      <td>Palermo</td>\n",
       "    </tr>\n",
       "  </tbody>\n",
       "</table>\n",
       "</div>"
      ],
      "text/plain": [
       "                 Barrio         new_place\n",
       "9391            Liniers           Liniers\n",
       "315              Flores            Flores\n",
       "78181      Villa Lugano      Villa Lugano\n",
       "26328      Barrio Norte          Recoleta\n",
       "78143  Villa del Parque  Villa del Parque\n",
       "19433  Parque Patricios  Parque Patricios\n",
       "23750            Flores            Flores\n",
       "15501          Belgrano          Belgrano\n",
       "14477         Balvanera         Balvanera\n",
       "6482   Parque Patricios  Parque Patricios\n",
       "23390           Palermo           Palermo\n",
       "28401             Nuñez             Nuñez\n",
       "50957      Palermo Soho           Palermo\n",
       "60269         Monserrat         Monserrat\n",
       "38761           Palermo           Palermo"
      ]
     },
     "execution_count": 12,
     "metadata": {},
     "output_type": "execute_result"
    }
   ],
   "source": [
    "#data_dos = data\n",
    "#data_dos[\"new_place\"] = data_dos.Barrio.map(lambda x: diccionario[x] if x in diccionario.keys() else x)\n",
    "data[\"new_place\"] = data.Barrio.map(lambda x: diccionario[x] if x in diccionario.keys() else x)\n",
    "mask_dos = data.Región == \"Capital Federal\"\n",
    "data[mask_dos][[\"Barrio\", \"new_place\"]].sample(15)\n"
   ]
  },
  {
   "cell_type": "code",
   "execution_count": 13,
   "id": "4efc16f3",
   "metadata": {},
   "outputs": [],
   "source": [
    "# borrar Columna Barrio y poner \"New_place\" renombrarla como Barrio\n",
    "data.drop([\"Barrio\"], axis=1, inplace = True)"
   ]
  },
  {
   "cell_type": "code",
   "execution_count": 14,
   "id": "006964a5",
   "metadata": {},
   "outputs": [],
   "source": [
    "data.rename(columns={'new_place':'Barrio'},inplace=True)"
   ]
  },
  {
   "cell_type": "code",
   "execution_count": 15,
   "id": "cc376561",
   "metadata": {},
   "outputs": [
    {
     "data": {
      "text/plain": [
       "(49,)"
      ]
     },
     "execution_count": 15,
     "metadata": {},
     "output_type": "execute_result"
    }
   ],
   "source": [
    "#Son 48 barrios en CABA, si le sumamos \"Capital Federal\" quedan 49 OK\n",
    "data_caba_mask = data.Región == \"Capital Federal\"\n",
    "data_caba = data[data_caba_mask]\n",
    "barrios_caba = data_caba.Barrio.unique()\n",
    "barrios_caba.shape"
   ]
  },
  {
   "cell_type": "code",
   "execution_count": 16,
   "id": "2dc3efd1",
   "metadata": {},
   "outputs": [
    {
     "data": {
      "text/plain": [
       "(82627, 23)"
      ]
     },
     "execution_count": 16,
     "metadata": {},
     "output_type": "execute_result"
    }
   ],
   "source": [
    "data.shape"
   ]
  },
  {
   "cell_type": "code",
   "execution_count": 17,
   "id": "0b89cdf6",
   "metadata": {},
   "outputs": [
    {
     "data": {
      "text/plain": [
       "(295, 23)"
      ]
     },
     "execution_count": 17,
     "metadata": {},
     "output_type": "execute_result"
    }
   ],
   "source": [
    "#cuales dicen Capita Federal y tienen lat-lon? Podríamos recuperar 295 valores.\n",
    "sin_barrio_mask1 = data.Barrio == \"Capital Federal\"\n",
    "sin_barrio_mask2 = data.lat.notnull() == True\n",
    "sin_barrio_mask = sin_barrio_mask1 & sin_barrio_mask2\n",
    "caba_sin_barrio = data[sin_barrio_mask]\n",
    "caba_sin_barrio.shape"
   ]
  },
  {
   "cell_type": "code",
   "execution_count": 18,
   "id": "86515005",
   "metadata": {},
   "outputs": [],
   "source": [
    "import pandas as pd\n",
    "import numpy as np\n",
    "import geopandas as gpd\n",
    "import matplotlib.pyplot as plt\n",
    "import descartes\n",
    "import pyproj\n",
    "pol_barrios = gpd.read_file(\"./data/barrios_CABA_pol.csv\", encoding='latin1')"
   ]
  },
  {
   "cell_type": "code",
   "execution_count": 19,
   "id": "898b59f9",
   "metadata": {},
   "outputs": [
    {
     "data": {
      "text/plain": [
       "610     POINT (-58.41171 -34.61086)\n",
       "730     POINT (-58.46600 -34.54790)\n",
       "1924    POINT (-58.36832 -34.60277)\n",
       "1925    POINT (-58.38793 -34.59942)\n",
       "3933    POINT (-58.43082 -34.59581)\n",
       "Name: geometry, dtype: geometry"
      ]
     },
     "execution_count": 19,
     "metadata": {},
     "output_type": "execute_result"
    }
   ],
   "source": [
    "geometria_sin_barrio = gpd.points_from_xy(caba_sin_barrio.lon, caba_sin_barrio.lat)\n",
    "geo_sin_barrio = gpd.GeoDataFrame(caba_sin_barrio, geometry = geometria_sin_barrio)\n",
    "geo_sin_barrio.geometry.head()"
   ]
  },
  {
   "cell_type": "code",
   "execution_count": 20,
   "id": "ba06a905",
   "metadata": {},
   "outputs": [
    {
     "data": {
      "image/png": "[encoded data removed]",
      "text/plain": [
       "<Figure size 432x288 with 1 Axes>"
      ]
     },
     "metadata": {
      "needs_background": "light"
     },
     "output_type": "display_data"
    }
   ],
   "source": [
    "fig, ax = plt.subplots()\n",
    "ax.set_aspect('equal')\n",
    "pol_barrios.plot(ax=ax, color='white', edgecolor='black')\n",
    "geo_sin_barrio.plot(ax=ax, marker='o', color='red', markersize=40)\n",
    "plt.show();"
   ]
  },
  {
   "cell_type": "code",
   "execution_count": 21,
   "id": "b3462522",
   "metadata": {},
   "outputs": [
    {
     "data": {
      "text/plain": [
       "Index(['WKT', 'barrio', 'comuna', 'perimetro', 'area', 'geometry'], dtype='object')"
      ]
     },
     "execution_count": 21,
     "metadata": {},
     "output_type": "execute_result"
    }
   ],
   "source": [
    "pol_barrios.columns"
   ]
  },
  {
   "cell_type": "code",
   "execution_count": 22,
   "id": "1fb41cca",
   "metadata": {},
   "outputs": [
    {
     "data": {
      "text/plain": [
       "SAN NICOLAS          54\n",
       "PARQUE CHACABUCO     39\n",
       "CABALLITO            29\n",
       "PARQUE AVELLANEDA    26\n",
       "VERSALLES            21\n",
       "VILLA SANTA RITA     15\n",
       "VILLA GRAL. MITRE    15\n",
       "VILLA CRESPO         13\n",
       "MONSERRAT            11\n",
       "RECOLETA              9\n",
       "RETIRO                8\n",
       "BARRACAS              7\n",
       "ALMAGRO               6\n",
       "FLORESTA              5\n",
       "VELEZ SARSFIELD       5\n",
       "BELGRANO              5\n",
       "FLORES                4\n",
       "PALERMO               4\n",
       "VILLA LURO            3\n",
       "VILLA REAL            3\n",
       "BOEDO                 2\n",
       "CONSTITUCION          2\n",
       "BALVANERA             2\n",
       "SAN CRISTOBAL         1\n",
       "PARQUE CHAS           1\n",
       "MONTE CASTRO          1\n",
       "NUEVA POMPEYA         1\n",
       "VILLA DEVOTO          1\n",
       "NUÃEZ                1\n",
       "COLEGIALES            1\n",
       "Name: new_place, dtype: int64"
      ]
     },
     "execution_count": 22,
     "metadata": {},
     "output_type": "execute_result"
    }
   ],
   "source": [
    "geo_sin_barrio[\"new_place\"] = geo_sin_barrio.geometry.apply(lambda x: pol_barrios[pol_barrios.contains(x)][\"barrio\"].iloc[0])\n",
    "geo_sin_barrio.new_place.value_counts(dropna = False)"
   ]
  },
  {
   "cell_type": "code",
   "execution_count": 23,
   "id": "83f7971e",
   "metadata": {},
   "outputs": [
    {
     "data": {
      "text/plain": [
       "pandas.core.frame.DataFrame"
      ]
     },
     "execution_count": 23,
     "metadata": {},
     "output_type": "execute_result"
    }
   ],
   "source": [
    "barrios_nuevos = pd.DataFrame(geo_sin_barrio)\n",
    "type(barrios_nuevos)"
   ]
  },
  {
   "cell_type": "code",
   "execution_count": 24,
   "id": "d3f34551",
   "metadata": {},
   "outputs": [
    {
     "name": "stdout",
     "output_type": "stream",
     "text": [
      "<class 'pandas.core.frame.DataFrame'>\n",
      "Int64Index: 295 entries, 610 to 82571\n",
      "Data columns (total 25 columns):\n",
      " #   Column                 Non-Null Count  Dtype   \n",
      "---  ------                 --------------  -----   \n",
      " 0   Tipo_Propiedad         295 non-null    object  \n",
      " 1   Región                 295 non-null    object  \n",
      " 2   lat-lon                295 non-null    object  \n",
      " 3   lat                    295 non-null    float64 \n",
      " 4   lon                    295 non-null    float64 \n",
      " 5   Precio                 295 non-null    float64 \n",
      " 6   surface_total_in_m2    295 non-null    float64 \n",
      " 7   surface_covered_in_m2  295 non-null    float64 \n",
      " 8   Descripción            295 non-null    object  \n",
      " 9   Título                 295 non-null    object  \n",
      " 10  Precio_por_m2          295 non-null    float64 \n",
      " 11  Garage                 295 non-null    int64   \n",
      " 12  Estado                 295 non-null    int64   \n",
      " 13  Pileta                 295 non-null    int64   \n",
      " 14  Balcon                 295 non-null    int64   \n",
      " 15  Gimnasio               295 non-null    int64   \n",
      " 16  Quincho                295 non-null    int64   \n",
      " 17  Parrilla               295 non-null    int64   \n",
      " 18  Patio                  295 non-null    int64   \n",
      " 19  Lavadero               295 non-null    int64   \n",
      " 20  Amenities              295 non-null    int64   \n",
      " 21  Ambientes              118 non-null    float64 \n",
      " 22  Barrio                 295 non-null    object  \n",
      " 23  geometry               295 non-null    geometry\n",
      " 24  new_place              295 non-null    object  \n",
      "dtypes: float64(7), geometry(1), int64(10), object(7)\n",
      "memory usage: 59.9+ KB\n"
     ]
    }
   ],
   "source": [
    "barrios_nuevos.info()"
   ]
  },
  {
   "cell_type": "code",
   "execution_count": 25,
   "id": "91befa58",
   "metadata": {},
   "outputs": [],
   "source": [
    "barrios_nuevos = barrios_nuevos.drop(columns = \"geometry\")\n",
    "barrios_nuevos = barrios_nuevos.drop(columns = \"Barrio\")"
   ]
  },
  {
   "cell_type": "code",
   "execution_count": 26,
   "id": "48af3de9",
   "metadata": {},
   "outputs": [],
   "source": [
    "barrios_nuevos.rename(columns={'new_place':'Barrio'},inplace=True)"
   ]
  },
  {
   "cell_type": "code",
   "execution_count": 27,
   "id": "e772bdb3",
   "metadata": {},
   "outputs": [
    {
     "data": {
      "text/plain": [
       "(295, 23)"
      ]
     },
     "execution_count": 27,
     "metadata": {},
     "output_type": "execute_result"
    }
   ],
   "source": [
    "barrios_nuevos.shape"
   ]
  },
  {
   "cell_type": "code",
   "execution_count": 28,
   "id": "b8ef6180",
   "metadata": {},
   "outputs": [
    {
     "data": {
      "text/plain": [
       "(82627, 23)"
      ]
     },
     "execution_count": 28,
     "metadata": {},
     "output_type": "execute_result"
    }
   ],
   "source": [
    "data.shape"
   ]
  },
  {
   "cell_type": "code",
   "execution_count": 29,
   "id": "9887c552",
   "metadata": {},
   "outputs": [
    {
     "data": {
      "text/plain": [
       "810"
      ]
     },
     "execution_count": 29,
     "metadata": {},
     "output_type": "execute_result"
    }
   ],
   "source": [
    "data = data.replace({\"Barrio\":{\"Capital Federal\": np.NaN}})\n",
    "data.Barrio.isnull().sum()"
   ]
  },
  {
   "cell_type": "code",
   "execution_count": 30,
   "id": "3232e1b4",
   "metadata": {},
   "outputs": [
    {
     "name": "stdout",
     "output_type": "stream",
     "text": [
      "<class 'pandas.core.frame.DataFrame'>\n",
      "Int64Index: 81817 entries, 0 to 82625\n",
      "Data columns (total 23 columns):\n",
      " #   Column                 Non-Null Count  Dtype  \n",
      "---  ------                 --------------  -----  \n",
      " 0   Tipo_Propiedad         81817 non-null  object \n",
      " 1   Región                 81817 non-null  object \n",
      " 2   lat-lon                48682 non-null  object \n",
      " 3   lat                    48682 non-null  float64\n",
      " 4   lon                    48682 non-null  float64\n",
      " 5   Precio                 81817 non-null  float64\n",
      " 6   surface_total_in_m2    81817 non-null  float64\n",
      " 7   surface_covered_in_m2  81817 non-null  float64\n",
      " 8   Descripción            81816 non-null  object \n",
      " 9   Título                 81817 non-null  object \n",
      " 10  Precio_por_m2          81817 non-null  float64\n",
      " 11  Garage                 81817 non-null  int64  \n",
      " 12  Estado                 81817 non-null  int64  \n",
      " 13  Pileta                 81817 non-null  int64  \n",
      " 14  Balcon                 81817 non-null  int64  \n",
      " 15  Gimnasio               81817 non-null  int64  \n",
      " 16  Quincho                81817 non-null  int64  \n",
      " 17  Parrilla               81817 non-null  int64  \n",
      " 18  Patio                  81817 non-null  int64  \n",
      " 19  Lavadero               81817 non-null  int64  \n",
      " 20  Amenities              81817 non-null  int64  \n",
      " 21  Ambientes              27131 non-null  float64\n",
      " 22  Barrio                 81817 non-null  object \n",
      "dtypes: float64(7), int64(10), object(6)\n",
      "memory usage: 15.0+ MB\n"
     ]
    },
    {
     "data": {
      "text/plain": [
       "(81817, 23)"
      ]
     },
     "execution_count": 30,
     "metadata": {},
     "output_type": "execute_result"
    }
   ],
   "source": [
    "data = data.dropna(subset=['Barrio'], axis = 0) \n",
    "data.info()\n",
    "data.shape"
   ]
  },
  {
   "cell_type": "code",
   "execution_count": 31,
   "id": "8a0510f4",
   "metadata": {},
   "outputs": [],
   "source": [
    "data = pd.concat([data, barrios_nuevos], axis=0)"
   ]
  },
  {
   "cell_type": "code",
   "execution_count": 32,
   "id": "a963171b",
   "metadata": {},
   "outputs": [
    {
     "name": "stdout",
     "output_type": "stream",
     "text": [
      "<class 'pandas.core.frame.DataFrame'>\n",
      "Int64Index: 82112 entries, 0 to 82571\n",
      "Data columns (total 23 columns):\n",
      " #   Column                 Non-Null Count  Dtype  \n",
      "---  ------                 --------------  -----  \n",
      " 0   Tipo_Propiedad         82112 non-null  object \n",
      " 1   Región                 82112 non-null  object \n",
      " 2   lat-lon                48977 non-null  object \n",
      " 3   lat                    48977 non-null  float64\n",
      " 4   lon                    48977 non-null  float64\n",
      " 5   Precio                 82112 non-null  float64\n",
      " 6   surface_total_in_m2    82112 non-null  float64\n",
      " 7   surface_covered_in_m2  82112 non-null  float64\n",
      " 8   Descripción            82111 non-null  object \n",
      " 9   Título                 82112 non-null  object \n",
      " 10  Precio_por_m2          82112 non-null  float64\n",
      " 11  Garage                 82112 non-null  int64  \n",
      " 12  Estado                 82112 non-null  int64  \n",
      " 13  Pileta                 82112 non-null  int64  \n",
      " 14  Balcon                 82112 non-null  int64  \n",
      " 15  Gimnasio               82112 non-null  int64  \n",
      " 16  Quincho                82112 non-null  int64  \n",
      " 17  Parrilla               82112 non-null  int64  \n",
      " 18  Patio                  82112 non-null  int64  \n",
      " 19  Lavadero               82112 non-null  int64  \n",
      " 20  Amenities              82112 non-null  int64  \n",
      " 21  Ambientes              27249 non-null  float64\n",
      " 22  Barrio                 82112 non-null  object \n",
      "dtypes: float64(7), int64(10), object(6)\n",
      "memory usage: 15.0+ MB\n"
     ]
    },
    {
     "data": {
      "text/plain": [
       "(82112, 23)"
      ]
     },
     "execution_count": 32,
     "metadata": {},
     "output_type": "execute_result"
    }
   ],
   "source": [
    "data.info()\n",
    "data.shape"
   ]
  },
  {
   "cell_type": "code",
   "execution_count": 33,
   "id": "d5fc3788",
   "metadata": {},
   "outputs": [
    {
     "data": {
      "text/plain": [
       "Mar del Plata                 4990\n",
       "Córdoba                       4513\n",
       "Rosario                       4047\n",
       "Tigre                         2914\n",
       "Palermo                       2706\n",
       "                              ... \n",
       "Barrio Cerrado La Masia          1\n",
       "Paso de los Libres               1\n",
       "Barrio Cerrado \"La Chacra\"       1\n",
       "Etcheverry                       1\n",
       "Ramallo                          1\n",
       "Name: Barrio, Length: 894, dtype: int64"
      ]
     },
     "execution_count": 33,
     "metadata": {},
     "output_type": "execute_result"
    }
   ],
   "source": [
    "data.Barrio.value_counts()"
   ]
  },
  {
   "cell_type": "code",
   "execution_count": 34,
   "id": "f7cc0c74",
   "metadata": {},
   "outputs": [
    {
     "data": {
      "text/plain": [
       "(78,)"
      ]
     },
     "execution_count": 34,
     "metadata": {},
     "output_type": "execute_result"
    }
   ],
   "source": [
    "#Tenemos 72 Barrios en CABA según el DF Nuestro\n",
    "barrios_caba = data[data.Región==\"Capital Federal\"].Barrio.unique()\n",
    "barrios_caba.shape"
   ]
  },
  {
   "cell_type": "code",
   "execution_count": 35,
   "id": "d279fe5e",
   "metadata": {},
   "outputs": [
    {
     "name": "stdout",
     "output_type": "stream",
     "text": [
      "(49,)\n",
      "['Caballito' 'Balvanera' 'Monserrat' 'Villa Gral. Mitre' 'Villa Crespo'\n",
      " 'Villa Devoto' 'Almagro' 'Paternal' 'Villa del Parque' 'Recoleta'\n",
      " 'Chacarita' 'Palermo' 'Retiro' 'San Nicolás' 'Villa Ortuzar' 'Colegiales'\n",
      " 'Villa Urquiza' 'Belgrano' 'Nuñez' 'Saavedra' 'Villa Lugano'\n",
      " 'Villa Soldati' 'Parque Avellaneda' 'Barracas' 'Mataderos'\n",
      " 'Nueva Pompeya' 'Flores' 'Parque Patricios' 'Boca' 'Parque Chacabuco'\n",
      " 'Liniers' 'Boedo' 'Floresta' 'Vélez Sársfield' 'Monte Castro' 'San Telmo'\n",
      " 'Villa Santa Rita' 'San Cristóbal' 'Parque Chas' 'Villa Riachuelo'\n",
      " 'Villa Luro' 'Villa Pueyrredón' 'Coghlan' 'Villa Real' 'Versalles'\n",
      " 'Puerto Madero' nan 'Constitución' 'Agronomía']\n"
     ]
    }
   ],
   "source": [
    "#Son 49 los barrios realmente\n",
    "barrios_delitos = data_delitos.barrio.unique()\n",
    "print(barrios_delitos.shape)\n",
    "print(barrios_delitos)"
   ]
  },
  {
   "cell_type": "code",
   "execution_count": 36,
   "id": "a315f496",
   "metadata": {},
   "outputs": [
    {
     "data": {
      "text/plain": [
       "Parque Avellaneda    2\n",
       "Nueva Pompeya        2\n",
       "Palermo              2\n",
       "Agronomía            2\n",
       "Parque Chacabuco     2\n",
       "                    ..\n",
       "SAN NICOLAS          1\n",
       "NUEVA POMPEYA        1\n",
       "VELEZ SARSFIELD      1\n",
       "VERSALLES            1\n",
       "ALMAGRO              1\n",
       "Length: 78, dtype: int64"
      ]
     },
     "execution_count": 36,
     "metadata": {},
     "output_type": "execute_result"
    }
   ],
   "source": [
    "todos_barrios_lista = barrios_caba.tolist() + barrios_delitos.tolist()\n",
    "df_todos_barrios = pd.DataFrame(todos_barrios_lista)\n",
    "df_todos_barrios.value_counts()"
   ]
  },
  {
   "cell_type": "code",
   "execution_count": 37,
   "id": "6e684dab",
   "metadata": {},
   "outputs": [],
   "source": [
    "def no_duplicados (data_uno, data_dos):\n",
    "    result = []\n",
    "    for x in data_uno:\n",
    "        if x not in data_dos:\n",
    "            result += [x]\n",
    "    return(result)"
   ]
  },
  {
   "cell_type": "code",
   "execution_count": 38,
   "id": "f8b7f91f",
   "metadata": {},
   "outputs": [
    {
     "name": "stdout",
     "output_type": "stream",
     "text": [
      "['ALMAGRO', 'BALVANERA', 'BARRACAS', 'BELGRANO', 'BOEDO', 'CABALLITO', 'COLEGIALES', 'CONSTITUCION', 'FLORES', 'FLORESTA', 'MONSERRAT', 'MONTE CASTRO', 'NUEVA POMPEYA', 'NUÃ\\x91EZ', 'PALERMO', 'PARQUE AVELLANEDA', 'PARQUE CHACABUCO', 'PARQUE CHAS', 'RECOLETA', 'RETIRO', 'SAN CRISTOBAL', 'SAN NICOLAS', 'VELEZ SARSFIELD', 'VERSALLES', 'VILLA CRESPO', 'VILLA DEVOTO', 'VILLA GRAL. MITRE', 'VILLA LURO', 'VILLA REAL', 'VILLA SANTA RITA']\n"
     ]
    }
   ],
   "source": [
    "barrios_extra = no_duplicados(barrios_caba, barrios_delitos)\n",
    "barrios_extra.sort()\n",
    "print(barrios_extra)"
   ]
  },
  {
   "cell_type": "code",
   "execution_count": 39,
   "id": "efefa290",
   "metadata": {},
   "outputs": [],
   "source": [
    "diccionario = {\"ALMAGRO\": \"Almagro\", \"BALVANERA\":\"Balvanera\", \"BARRACAS\": \"Barracas\", \"BOEDO\":\"Boedo\", \"BELGRANO\":\"Belgrano\",\\\n",
    "               \"CABALLITO\":\"Caballito\",\"COLEGIALES\": \"Colegiales\", \"CONSTITUCION\":\"Constitución\", \"FLORES\":\"Flores\",\\\n",
    "               \"FLORESTA\":\"Floresta\", \"MONSERRAT\":\"Monserrat\", \"MONTE CASTRO\":\"Monte Castro\",\\\n",
    "               \"NUEVA POMPEYA\": \"Nueva Pompeya\", \"NUÃ\\x91EZ\":\"Nuñez\", \"PALERMO\":\"Palermo\",\\\n",
    "              \"PARQUE AVELLANEDA\": \"Parque Avellaneda\", \"PARQUE CHACABUCO\":\"Parque Chacabuco\", \"PARQUE CHAS\":\"Parque Chas\",\\\n",
    "               \"RECOLETA\":\"Recoleta\", \"RETIRO\":\"Retiro\", \"SAN CRISTOBAL\":\"San Cristóbal\", \"SAN NICOLAS\":\"San Nicolás\",\\\n",
    "               \"VELEZ SARSFIELD\":\"Vélez Sársfield\", \"VERSALLES\":\"Versalles\", \"VILLA CRESPO\":\"Villa Crespo\", \"VILLA DEVOTO\":\"Villa Devoto\",\\\n",
    "              \"VILLA GRAL. MITRE\":\"Villa Gral. Mitre\", \"VILLA LURO\":\"Villa Luro\", \"VILLA REAL\":\"Villa Real\", \"VILLA SANTA RITA\":\"Villa Santa Rita\"}"
   ]
  },
  {
   "cell_type": "code",
   "execution_count": 40,
   "id": "d996e558",
   "metadata": {},
   "outputs": [],
   "source": [
    "#data_dos = data\n",
    "#data_dos[\"new_place\"] = data_dos.Barrio.map(lambda x: diccionario[x] if x in diccionario.keys() else x)\n",
    "data[\"new_place\"] = data.Barrio.map(lambda x: diccionario[x] if x in diccionario.keys() else x)"
   ]
  },
  {
   "cell_type": "code",
   "execution_count": 41,
   "id": "7df3636a",
   "metadata": {},
   "outputs": [
    {
     "data": {
      "text/html": [
       "<div>\n",
       "<style scoped>\n",
       "    .dataframe tbody tr th:only-of-type {\n",
       "        vertical-align: middle;\n",
       "    }\n",
       "\n",
       "    .dataframe tbody tr th {\n",
       "        vertical-align: top;\n",
       "    }\n",
       "\n",
       "    .dataframe thead th {\n",
       "        text-align: right;\n",
       "    }\n",
       "</style>\n",
       "<table border=\"1\" class=\"dataframe\">\n",
       "  <thead>\n",
       "    <tr style=\"text-align: right;\">\n",
       "      <th></th>\n",
       "      <th>Barrio</th>\n",
       "      <th>new_place</th>\n",
       "    </tr>\n",
       "  </thead>\n",
       "  <tbody>\n",
       "    <tr>\n",
       "      <th>50852</th>\n",
       "      <td>Villa Crespo</td>\n",
       "      <td>Villa Crespo</td>\n",
       "    </tr>\n",
       "    <tr>\n",
       "      <th>24101</th>\n",
       "      <td>Recoleta</td>\n",
       "      <td>Recoleta</td>\n",
       "    </tr>\n",
       "    <tr>\n",
       "      <th>27147</th>\n",
       "      <td>Colegiales</td>\n",
       "      <td>Colegiales</td>\n",
       "    </tr>\n",
       "    <tr>\n",
       "      <th>80306</th>\n",
       "      <td>San Nicolás</td>\n",
       "      <td>San Nicolás</td>\n",
       "    </tr>\n",
       "    <tr>\n",
       "      <th>66382</th>\n",
       "      <td>Caballito</td>\n",
       "      <td>Caballito</td>\n",
       "    </tr>\n",
       "    <tr>\n",
       "      <th>71773</th>\n",
       "      <td>Mataderos</td>\n",
       "      <td>Mataderos</td>\n",
       "    </tr>\n",
       "    <tr>\n",
       "      <th>17885</th>\n",
       "      <td>Boedo</td>\n",
       "      <td>Boedo</td>\n",
       "    </tr>\n",
       "    <tr>\n",
       "      <th>24464</th>\n",
       "      <td>Belgrano</td>\n",
       "      <td>Belgrano</td>\n",
       "    </tr>\n",
       "    <tr>\n",
       "      <th>50990</th>\n",
       "      <td>Villa Devoto</td>\n",
       "      <td>Villa Devoto</td>\n",
       "    </tr>\n",
       "    <tr>\n",
       "      <th>36580</th>\n",
       "      <td>Villa Urquiza</td>\n",
       "      <td>Villa Urquiza</td>\n",
       "    </tr>\n",
       "    <tr>\n",
       "      <th>5713</th>\n",
       "      <td>Monserrat</td>\n",
       "      <td>Monserrat</td>\n",
       "    </tr>\n",
       "    <tr>\n",
       "      <th>12292</th>\n",
       "      <td>Caballito</td>\n",
       "      <td>Caballito</td>\n",
       "    </tr>\n",
       "    <tr>\n",
       "      <th>16337</th>\n",
       "      <td>Barracas</td>\n",
       "      <td>Barracas</td>\n",
       "    </tr>\n",
       "    <tr>\n",
       "      <th>51943</th>\n",
       "      <td>Villa Luro</td>\n",
       "      <td>Villa Luro</td>\n",
       "    </tr>\n",
       "    <tr>\n",
       "      <th>44128</th>\n",
       "      <td>Caballito</td>\n",
       "      <td>Caballito</td>\n",
       "    </tr>\n",
       "    <tr>\n",
       "      <th>54718</th>\n",
       "      <td>Flores</td>\n",
       "      <td>Flores</td>\n",
       "    </tr>\n",
       "    <tr>\n",
       "      <th>65510</th>\n",
       "      <td>Belgrano</td>\n",
       "      <td>Belgrano</td>\n",
       "    </tr>\n",
       "    <tr>\n",
       "      <th>62534</th>\n",
       "      <td>Villa Urquiza</td>\n",
       "      <td>Villa Urquiza</td>\n",
       "    </tr>\n",
       "    <tr>\n",
       "      <th>42114</th>\n",
       "      <td>Belgrano</td>\n",
       "      <td>Belgrano</td>\n",
       "    </tr>\n",
       "    <tr>\n",
       "      <th>25509</th>\n",
       "      <td>Retiro</td>\n",
       "      <td>Retiro</td>\n",
       "    </tr>\n",
       "    <tr>\n",
       "      <th>59572</th>\n",
       "      <td>Balvanera</td>\n",
       "      <td>Balvanera</td>\n",
       "    </tr>\n",
       "    <tr>\n",
       "      <th>32458</th>\n",
       "      <td>Recoleta</td>\n",
       "      <td>Recoleta</td>\n",
       "    </tr>\n",
       "    <tr>\n",
       "      <th>50886</th>\n",
       "      <td>Recoleta</td>\n",
       "      <td>Recoleta</td>\n",
       "    </tr>\n",
       "    <tr>\n",
       "      <th>26152</th>\n",
       "      <td>Recoleta</td>\n",
       "      <td>Recoleta</td>\n",
       "    </tr>\n",
       "    <tr>\n",
       "      <th>8615</th>\n",
       "      <td>Palermo</td>\n",
       "      <td>Palermo</td>\n",
       "    </tr>\n",
       "    <tr>\n",
       "      <th>55378</th>\n",
       "      <td>San Telmo</td>\n",
       "      <td>San Telmo</td>\n",
       "    </tr>\n",
       "    <tr>\n",
       "      <th>18534</th>\n",
       "      <td>Palermo</td>\n",
       "      <td>Palermo</td>\n",
       "    </tr>\n",
       "    <tr>\n",
       "      <th>79266</th>\n",
       "      <td>Flores</td>\n",
       "      <td>Flores</td>\n",
       "    </tr>\n",
       "    <tr>\n",
       "      <th>63671</th>\n",
       "      <td>Barracas</td>\n",
       "      <td>Barracas</td>\n",
       "    </tr>\n",
       "    <tr>\n",
       "      <th>39272</th>\n",
       "      <td>Villa Real</td>\n",
       "      <td>Villa Real</td>\n",
       "    </tr>\n",
       "    <tr>\n",
       "      <th>40624</th>\n",
       "      <td>Retiro</td>\n",
       "      <td>Retiro</td>\n",
       "    </tr>\n",
       "    <tr>\n",
       "      <th>32557</th>\n",
       "      <td>Recoleta</td>\n",
       "      <td>Recoleta</td>\n",
       "    </tr>\n",
       "    <tr>\n",
       "      <th>1184</th>\n",
       "      <td>Almagro</td>\n",
       "      <td>Almagro</td>\n",
       "    </tr>\n",
       "    <tr>\n",
       "      <th>60256</th>\n",
       "      <td>Villa Urquiza</td>\n",
       "      <td>Villa Urquiza</td>\n",
       "    </tr>\n",
       "    <tr>\n",
       "      <th>66942</th>\n",
       "      <td>Palermo</td>\n",
       "      <td>Palermo</td>\n",
       "    </tr>\n",
       "  </tbody>\n",
       "</table>\n",
       "</div>"
      ],
      "text/plain": [
       "              Barrio      new_place\n",
       "50852   Villa Crespo   Villa Crespo\n",
       "24101       Recoleta       Recoleta\n",
       "27147     Colegiales     Colegiales\n",
       "80306    San Nicolás    San Nicolás\n",
       "66382      Caballito      Caballito\n",
       "71773      Mataderos      Mataderos\n",
       "17885          Boedo          Boedo\n",
       "24464       Belgrano       Belgrano\n",
       "50990   Villa Devoto   Villa Devoto\n",
       "36580  Villa Urquiza  Villa Urquiza\n",
       "5713       Monserrat      Monserrat\n",
       "12292      Caballito      Caballito\n",
       "16337       Barracas       Barracas\n",
       "51943     Villa Luro     Villa Luro\n",
       "44128      Caballito      Caballito\n",
       "54718         Flores         Flores\n",
       "65510       Belgrano       Belgrano\n",
       "62534  Villa Urquiza  Villa Urquiza\n",
       "42114       Belgrano       Belgrano\n",
       "25509         Retiro         Retiro\n",
       "59572      Balvanera      Balvanera\n",
       "32458       Recoleta       Recoleta\n",
       "50886       Recoleta       Recoleta\n",
       "26152       Recoleta       Recoleta\n",
       "8615         Palermo        Palermo\n",
       "55378      San Telmo      San Telmo\n",
       "18534        Palermo        Palermo\n",
       "79266         Flores         Flores\n",
       "63671       Barracas       Barracas\n",
       "39272     Villa Real     Villa Real\n",
       "40624         Retiro         Retiro\n",
       "32557       Recoleta       Recoleta\n",
       "1184         Almagro        Almagro\n",
       "60256  Villa Urquiza  Villa Urquiza\n",
       "66942        Palermo        Palermo"
      ]
     },
     "execution_count": 41,
     "metadata": {},
     "output_type": "execute_result"
    }
   ],
   "source": [
    "mask_dos = data.Región == \"Capital Federal\"\n",
    "data[mask_dos][[\"Barrio\", \"new_place\"]].sample(35)"
   ]
  },
  {
   "cell_type": "code",
   "execution_count": 42,
   "id": "b92ba3fd",
   "metadata": {},
   "outputs": [],
   "source": [
    "# borrar Columna Barrio y poner \"New_place\" renombrarla como Barrio\n",
    "data.drop([\"Barrio\"], axis=1, inplace = True)\n",
    "\n",
    "data.rename(columns={'new_place':'Barrio'},inplace=True)"
   ]
  },
  {
   "cell_type": "code",
   "execution_count": 43,
   "id": "24d083b3",
   "metadata": {},
   "outputs": [
    {
     "data": {
      "text/plain": [
       "(48,)"
      ]
     },
     "execution_count": 43,
     "metadata": {},
     "output_type": "execute_result"
    }
   ],
   "source": [
    "#Son 48 barrios en CABA\n",
    "data_caba_mask = data.Región == \"Capital Federal\"\n",
    "data_caba = data[data_caba_mask]\n",
    "barrios_caba = data_caba.Barrio.unique()\n",
    "barrios_caba.shape"
   ]
  },
  {
   "cell_type": "code",
   "execution_count": 44,
   "id": "3a54c670",
   "metadata": {},
   "outputs": [
    {
     "data": {
      "text/plain": [
       "(82112, 23)"
      ]
     },
     "execution_count": 44,
     "metadata": {},
     "output_type": "execute_result"
    }
   ],
   "source": [
    "data.shape"
   ]
  },
  {
   "cell_type": "code",
   "execution_count": 45,
   "id": "72e43e60",
   "metadata": {},
   "outputs": [
    {
     "name": "stdout",
     "output_type": "stream",
     "text": [
      "<class 'pandas.core.frame.DataFrame'>\n",
      "Int64Index: 82112 entries, 0 to 82571\n",
      "Data columns (total 23 columns):\n",
      " #   Column                 Non-Null Count  Dtype  \n",
      "---  ------                 --------------  -----  \n",
      " 0   Tipo_Propiedad         82112 non-null  object \n",
      " 1   Región                 82112 non-null  object \n",
      " 2   lat-lon                48977 non-null  object \n",
      " 3   lat                    48977 non-null  float64\n",
      " 4   lon                    48977 non-null  float64\n",
      " 5   Precio                 82112 non-null  float64\n",
      " 6   surface_total_in_m2    82112 non-null  float64\n",
      " 7   surface_covered_in_m2  82112 non-null  float64\n",
      " 8   Descripción            82111 non-null  object \n",
      " 9   Título                 82112 non-null  object \n",
      " 10  Precio_por_m2          82112 non-null  float64\n",
      " 11  Garage                 82112 non-null  int64  \n",
      " 12  Estado                 82112 non-null  int64  \n",
      " 13  Pileta                 82112 non-null  int64  \n",
      " 14  Balcon                 82112 non-null  int64  \n",
      " 15  Gimnasio               82112 non-null  int64  \n",
      " 16  Quincho                82112 non-null  int64  \n",
      " 17  Parrilla               82112 non-null  int64  \n",
      " 18  Patio                  82112 non-null  int64  \n",
      " 19  Lavadero               82112 non-null  int64  \n",
      " 20  Amenities              82112 non-null  int64  \n",
      " 21  Ambientes              27249 non-null  float64\n",
      " 22  Barrio                 82112 non-null  object \n",
      "dtypes: float64(7), int64(10), object(6)\n",
      "memory usage: 15.0+ MB\n"
     ]
    }
   ],
   "source": [
    "data.info()"
   ]
  },
  {
   "cell_type": "code",
   "execution_count": 46,
   "id": "1d798c6a",
   "metadata": {},
   "outputs": [],
   "source": [
    "data.to_csv('./data/properati-fase2Geo.csv', sep=',', index=False)"
   ]
  }
 ],
 "metadata": {
  "kernelspec": {
   "display_name": "Python [conda env:dhdsblend2021_geopandas]",
   "language": "python",
   "name": "conda-env-dhdsblend2021_geopandas-py"
  },
  "language_info": {
   "codemirror_mode": {
    "name": "ipython",
    "version": 3
   },
   "file_extension": ".py",
   "mimetype": "text/x-python",
   "name": "python",
   "nbconvert_exporter": "python",
   "pygments_lexer": "ipython3",
   "version": "3.7.10"
  }
 },
 "nbformat": 4,
 "nbformat_minor": 5
}
