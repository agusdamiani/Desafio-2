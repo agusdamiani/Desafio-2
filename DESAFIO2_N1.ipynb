{
 "cells": [
  {
   "cell_type": "markdown",
   "id": "fee45a53",
   "metadata": {},
   "source": [
    "# Importamos librerías y cargamos la base de datos para comenzar a analizar"
   ]
  },
  {
   "cell_type": "code",
   "execution_count": 1,
   "id": "ff6ed915",
   "metadata": {},
   "outputs": [],
   "source": [
    "import pandas as pd\n",
    "import numpy as np\n",
    "import re\n",
    "from matplotlib import pyplot as plt\n",
    "import seaborn as sns"
   ]
  },
  {
   "cell_type": "code",
   "execution_count": 2,
   "id": "317d0991",
   "metadata": {},
   "outputs": [],
   "source": [
    "data = pd.read_csv('./data/properatti.csv', index_col='Unnamed: 0')"
   ]
  },
  {
   "cell_type": "code",
   "execution_count": 3,
   "id": "7fd6b9a1",
   "metadata": {},
   "outputs": [
    {
     "data": {
      "text/html": [
       "<div>\n",
       "<style scoped>\n",
       "    .dataframe tbody tr th:only-of-type {\n",
       "        vertical-align: middle;\n",
       "    }\n",
       "\n",
       "    .dataframe tbody tr th {\n",
       "        vertical-align: top;\n",
       "    }\n",
       "\n",
       "    .dataframe thead th {\n",
       "        text-align: right;\n",
       "    }\n",
       "</style>\n",
       "<table border=\"1\" class=\"dataframe\">\n",
       "  <thead>\n",
       "    <tr style=\"text-align: right;\">\n",
       "      <th></th>\n",
       "      <th>operation</th>\n",
       "      <th>property_type</th>\n",
       "      <th>place_name</th>\n",
       "      <th>place_with_parent_names</th>\n",
       "      <th>country_name</th>\n",
       "      <th>state_name</th>\n",
       "      <th>geonames_id</th>\n",
       "      <th>lat-lon</th>\n",
       "      <th>lat</th>\n",
       "      <th>lon</th>\n",
       "      <th>...</th>\n",
       "      <th>surface_covered_in_m2</th>\n",
       "      <th>price_usd_per_m2</th>\n",
       "      <th>price_per_m2</th>\n",
       "      <th>floor</th>\n",
       "      <th>rooms</th>\n",
       "      <th>expenses</th>\n",
       "      <th>properati_url</th>\n",
       "      <th>description</th>\n",
       "      <th>title</th>\n",
       "      <th>image_thumbnail</th>\n",
       "    </tr>\n",
       "  </thead>\n",
       "  <tbody>\n",
       "    <tr>\n",
       "      <th>0</th>\n",
       "      <td>sell</td>\n",
       "      <td>PH</td>\n",
       "      <td>Mataderos</td>\n",
       "      <td>|Argentina|Capital Federal|Mataderos|</td>\n",
       "      <td>Argentina</td>\n",
       "      <td>Capital Federal</td>\n",
       "      <td>3430787.0</td>\n",
       "      <td>-34.6618237,-58.5088387</td>\n",
       "      <td>-34.661824</td>\n",
       "      <td>-58.508839</td>\n",
       "      <td>...</td>\n",
       "      <td>40.0</td>\n",
       "      <td>1127.272727</td>\n",
       "      <td>1550.000000</td>\n",
       "      <td>NaN</td>\n",
       "      <td>NaN</td>\n",
       "      <td>NaN</td>\n",
       "      <td>http://www.properati.com.ar/15bo8_venta_ph_mat...</td>\n",
       "      <td>2 AMBIENTES TIPO CASA PLANTA BAJA POR PASILLO,...</td>\n",
       "      <td>2 AMB TIPO CASA SIN EXPENSAS EN PB</td>\n",
       "      <td>https://thumbs4.properati.com/8/BluUYiHJLhgIIK...</td>\n",
       "    </tr>\n",
       "    <tr>\n",
       "      <th>1</th>\n",
       "      <td>sell</td>\n",
       "      <td>apartment</td>\n",
       "      <td>La Plata</td>\n",
       "      <td>|Argentina|Bs.As. G.B.A. Zona Sur|La Plata|</td>\n",
       "      <td>Argentina</td>\n",
       "      <td>Bs.As. G.B.A. Zona Sur</td>\n",
       "      <td>3432039.0</td>\n",
       "      <td>-34.9038831,-57.9643295</td>\n",
       "      <td>-34.903883</td>\n",
       "      <td>-57.964330</td>\n",
       "      <td>...</td>\n",
       "      <td>NaN</td>\n",
       "      <td>NaN</td>\n",
       "      <td>NaN</td>\n",
       "      <td>NaN</td>\n",
       "      <td>NaN</td>\n",
       "      <td>NaN</td>\n",
       "      <td>http://www.properati.com.ar/15bob_venta_depart...</td>\n",
       "      <td>Venta de departamento en décimo piso al frente...</td>\n",
       "      <td>VENTA Depto 2 dorm. a estrenar 7 e/ 36 y 37   ...</td>\n",
       "      <td>https://thumbs4.properati.com/7/ikpVBu2ztHA7jv...</td>\n",
       "    </tr>\n",
       "    <tr>\n",
       "      <th>2</th>\n",
       "      <td>sell</td>\n",
       "      <td>apartment</td>\n",
       "      <td>Mataderos</td>\n",
       "      <td>|Argentina|Capital Federal|Mataderos|</td>\n",
       "      <td>Argentina</td>\n",
       "      <td>Capital Federal</td>\n",
       "      <td>3430787.0</td>\n",
       "      <td>-34.6522615,-58.5229825</td>\n",
       "      <td>-34.652262</td>\n",
       "      <td>-58.522982</td>\n",
       "      <td>...</td>\n",
       "      <td>55.0</td>\n",
       "      <td>1309.090909</td>\n",
       "      <td>1309.090909</td>\n",
       "      <td>NaN</td>\n",
       "      <td>NaN</td>\n",
       "      <td>NaN</td>\n",
       "      <td>http://www.properati.com.ar/15bod_venta_depart...</td>\n",
       "      <td>2 AMBIENTES 3ER PISO LATERAL LIVING COMEDOR AM...</td>\n",
       "      <td>2 AMB 3ER PISO CON ASCENSOR APTO CREDITO</td>\n",
       "      <td>https://thumbs4.properati.com/5/SXKr34F_IwG3W_...</td>\n",
       "    </tr>\n",
       "  </tbody>\n",
       "</table>\n",
       "<p>3 rows × 25 columns</p>\n",
       "</div>"
      ],
      "text/plain": [
       "  operation property_type place_name  \\\n",
       "0      sell            PH  Mataderos   \n",
       "1      sell     apartment   La Plata   \n",
       "2      sell     apartment  Mataderos   \n",
       "\n",
       "                       place_with_parent_names country_name  \\\n",
       "0        |Argentina|Capital Federal|Mataderos|    Argentina   \n",
       "1  |Argentina|Bs.As. G.B.A. Zona Sur|La Plata|    Argentina   \n",
       "2        |Argentina|Capital Federal|Mataderos|    Argentina   \n",
       "\n",
       "               state_name  geonames_id                  lat-lon        lat  \\\n",
       "0         Capital Federal    3430787.0  -34.6618237,-58.5088387 -34.661824   \n",
       "1  Bs.As. G.B.A. Zona Sur    3432039.0  -34.9038831,-57.9643295 -34.903883   \n",
       "2         Capital Federal    3430787.0  -34.6522615,-58.5229825 -34.652262   \n",
       "\n",
       "         lon  ...  surface_covered_in_m2 price_usd_per_m2  price_per_m2  \\\n",
       "0 -58.508839  ...                   40.0      1127.272727   1550.000000   \n",
       "1 -57.964330  ...                    NaN              NaN           NaN   \n",
       "2 -58.522982  ...                   55.0      1309.090909   1309.090909   \n",
       "\n",
       "   floor  rooms  expenses                                      properati_url  \\\n",
       "0    NaN    NaN       NaN  http://www.properati.com.ar/15bo8_venta_ph_mat...   \n",
       "1    NaN    NaN       NaN  http://www.properati.com.ar/15bob_venta_depart...   \n",
       "2    NaN    NaN       NaN  http://www.properati.com.ar/15bod_venta_depart...   \n",
       "\n",
       "                                         description  \\\n",
       "0  2 AMBIENTES TIPO CASA PLANTA BAJA POR PASILLO,...   \n",
       "1  Venta de departamento en décimo piso al frente...   \n",
       "2  2 AMBIENTES 3ER PISO LATERAL LIVING COMEDOR AM...   \n",
       "\n",
       "                                               title  \\\n",
       "0                 2 AMB TIPO CASA SIN EXPENSAS EN PB   \n",
       "1  VENTA Depto 2 dorm. a estrenar 7 e/ 36 y 37   ...   \n",
       "2           2 AMB 3ER PISO CON ASCENSOR APTO CREDITO   \n",
       "\n",
       "                                     image_thumbnail  \n",
       "0  https://thumbs4.properati.com/8/BluUYiHJLhgIIK...  \n",
       "1  https://thumbs4.properati.com/7/ikpVBu2ztHA7jv...  \n",
       "2  https://thumbs4.properati.com/5/SXKr34F_IwG3W_...  \n",
       "\n",
       "[3 rows x 25 columns]"
      ]
     },
     "execution_count": 3,
     "metadata": {},
     "output_type": "execute_result"
    }
   ],
   "source": [
    "data.head(3)"
   ]
  },
  {
   "cell_type": "markdown",
   "id": "c37e0cf3",
   "metadata": {},
   "source": [
    " Vemos cuantas Filas y Columnas tiene"
   ]
  },
  {
   "cell_type": "code",
   "execution_count": 4,
   "id": "11d9f932",
   "metadata": {},
   "outputs": [
    {
     "name": "stdout",
     "output_type": "stream",
     "text": [
      "cantidad de filas: 121220\n",
      "cantidad de columnas: 25\n"
     ]
    }
   ],
   "source": [
    "print(\"cantidad de filas: \" + str(data.shape[0]))\n",
    "print(\"cantidad de columnas: \" + str(data.shape[1]))"
   ]
  },
  {
   "cell_type": "code",
   "execution_count": 5,
   "id": "c9e3cfb2",
   "metadata": {},
   "outputs": [
    {
     "name": "stdout",
     "output_type": "stream",
     "text": [
      "<class 'pandas.core.frame.DataFrame'>\n",
      "Int64Index: 121220 entries, 0 to 121219\n",
      "Data columns (total 25 columns):\n",
      " #   Column                      Non-Null Count   Dtype  \n",
      "---  ------                      --------------   -----  \n",
      " 0   operation                   121220 non-null  object \n",
      " 1   property_type               121220 non-null  object \n",
      " 2   place_name                  121197 non-null  object \n",
      " 3   place_with_parent_names     121220 non-null  object \n",
      " 4   country_name                121220 non-null  object \n",
      " 5   state_name                  121220 non-null  object \n",
      " 6   geonames_id                 102503 non-null  float64\n",
      " 7   lat-lon                     69670 non-null   object \n",
      " 8   lat                         69670 non-null   float64\n",
      " 9   lon                         69670 non-null   float64\n",
      " 10  price                       100810 non-null  float64\n",
      " 11  currency                    100809 non-null  object \n",
      " 12  price_aprox_local_currency  100810 non-null  float64\n",
      " 13  price_aprox_usd             100810 non-null  float64\n",
      " 14  surface_total_in_m2         81892 non-null   float64\n",
      " 15  surface_covered_in_m2       101313 non-null  float64\n",
      " 16  price_usd_per_m2            68617 non-null   float64\n",
      " 17  price_per_m2                87658 non-null   float64\n",
      " 18  floor                       7899 non-null    float64\n",
      " 19  rooms                       47390 non-null   float64\n",
      " 20  expenses                    14262 non-null   float64\n",
      " 21  properati_url               121220 non-null  object \n",
      " 22  description                 121218 non-null  object \n",
      " 23  title                       121220 non-null  object \n",
      " 24  image_thumbnail             118108 non-null  object \n",
      "dtypes: float64(13), object(12)\n",
      "memory usage: 24.0+ MB\n"
     ]
    }
   ],
   "source": [
    "data.info()"
   ]
  },
  {
   "cell_type": "code",
   "execution_count": 6,
   "id": "79eb7045",
   "metadata": {},
   "outputs": [
    {
     "data": {
      "text/html": [
       "<div>\n",
       "<style scoped>\n",
       "    .dataframe tbody tr th:only-of-type {\n",
       "        vertical-align: middle;\n",
       "    }\n",
       "\n",
       "    .dataframe tbody tr th {\n",
       "        vertical-align: top;\n",
       "    }\n",
       "\n",
       "    .dataframe thead th {\n",
       "        text-align: right;\n",
       "    }\n",
       "</style>\n",
       "<table border=\"1\" class=\"dataframe\">\n",
       "  <thead>\n",
       "    <tr style=\"text-align: right;\">\n",
       "      <th></th>\n",
       "      <th>geonames_id</th>\n",
       "      <th>lat</th>\n",
       "      <th>lon</th>\n",
       "      <th>price</th>\n",
       "      <th>price_aprox_local_currency</th>\n",
       "      <th>price_aprox_usd</th>\n",
       "      <th>surface_total_in_m2</th>\n",
       "      <th>surface_covered_in_m2</th>\n",
       "      <th>price_usd_per_m2</th>\n",
       "      <th>price_per_m2</th>\n",
       "      <th>floor</th>\n",
       "      <th>rooms</th>\n",
       "      <th>expenses</th>\n",
       "    </tr>\n",
       "  </thead>\n",
       "  <tbody>\n",
       "    <tr>\n",
       "      <th>count</th>\n",
       "      <td>1.025030e+05</td>\n",
       "      <td>69670.000000</td>\n",
       "      <td>69670.000000</td>\n",
       "      <td>1.008100e+05</td>\n",
       "      <td>1.008100e+05</td>\n",
       "      <td>1.008100e+05</td>\n",
       "      <td>81892.000000</td>\n",
       "      <td>101313.000000</td>\n",
       "      <td>68617.000000</td>\n",
       "      <td>8.765800e+04</td>\n",
       "      <td>7899.000000</td>\n",
       "      <td>47390.000000</td>\n",
       "      <td>1.426200e+04</td>\n",
       "    </tr>\n",
       "    <tr>\n",
       "      <th>mean</th>\n",
       "      <td>3.574442e+06</td>\n",
       "      <td>-34.626210</td>\n",
       "      <td>-59.266290</td>\n",
       "      <td>4.685259e+05</td>\n",
       "      <td>4.229397e+06</td>\n",
       "      <td>2.397006e+05</td>\n",
       "      <td>233.795328</td>\n",
       "      <td>133.050181</td>\n",
       "      <td>2160.086916</td>\n",
       "      <td>6.912216e+03</td>\n",
       "      <td>17.452336</td>\n",
       "      <td>3.080840</td>\n",
       "      <td>5.009234e+03</td>\n",
       "    </tr>\n",
       "    <tr>\n",
       "      <th>std</th>\n",
       "      <td>3.541306e+05</td>\n",
       "      <td>1.980936</td>\n",
       "      <td>2.299922</td>\n",
       "      <td>2.260101e+06</td>\n",
       "      <td>6.904714e+06</td>\n",
       "      <td>3.913239e+05</td>\n",
       "      <td>1782.222147</td>\n",
       "      <td>724.351479</td>\n",
       "      <td>2759.288621</td>\n",
       "      <td>2.837864e+04</td>\n",
       "      <td>120.243621</td>\n",
       "      <td>1.860773</td>\n",
       "      <td>1.204403e+05</td>\n",
       "    </tr>\n",
       "    <tr>\n",
       "      <th>min</th>\n",
       "      <td>3.427208e+06</td>\n",
       "      <td>-54.823985</td>\n",
       "      <td>-75.678931</td>\n",
       "      <td>0.000000e+00</td>\n",
       "      <td>0.000000e+00</td>\n",
       "      <td>0.000000e+00</td>\n",
       "      <td>0.000000</td>\n",
       "      <td>0.000000</td>\n",
       "      <td>0.600000</td>\n",
       "      <td>1.510204e+00</td>\n",
       "      <td>1.000000</td>\n",
       "      <td>1.000000</td>\n",
       "      <td>1.000000e+00</td>\n",
       "    </tr>\n",
       "    <tr>\n",
       "      <th>25%</th>\n",
       "      <td>3.430234e+06</td>\n",
       "      <td>-34.669065</td>\n",
       "      <td>-58.727040</td>\n",
       "      <td>1.100000e+05</td>\n",
       "      <td>1.583309e+06</td>\n",
       "      <td>8.973388e+04</td>\n",
       "      <td>50.000000</td>\n",
       "      <td>45.000000</td>\n",
       "      <td>1218.181818</td>\n",
       "      <td>1.550000e+03</td>\n",
       "      <td>1.000000</td>\n",
       "      <td>2.000000</td>\n",
       "      <td>1.000000e+03</td>\n",
       "    </tr>\n",
       "    <tr>\n",
       "      <th>50%</th>\n",
       "      <td>3.433910e+06</td>\n",
       "      <td>-34.597985</td>\n",
       "      <td>-58.480128</td>\n",
       "      <td>1.850000e+05</td>\n",
       "      <td>2.558452e+06</td>\n",
       "      <td>1.450000e+05</td>\n",
       "      <td>84.000000</td>\n",
       "      <td>75.000000</td>\n",
       "      <td>1800.000000</td>\n",
       "      <td>2.213115e+03</td>\n",
       "      <td>3.000000</td>\n",
       "      <td>3.000000</td>\n",
       "      <td>2.000000e+03</td>\n",
       "    </tr>\n",
       "    <tr>\n",
       "      <th>75%</th>\n",
       "      <td>3.836668e+06</td>\n",
       "      <td>-34.441299</td>\n",
       "      <td>-58.395908</td>\n",
       "      <td>4.200000e+05</td>\n",
       "      <td>4.675792e+06</td>\n",
       "      <td>2.650000e+05</td>\n",
       "      <td>200.000000</td>\n",
       "      <td>150.000000</td>\n",
       "      <td>2486.411765</td>\n",
       "      <td>3.355549e+03</td>\n",
       "      <td>6.000000</td>\n",
       "      <td>4.000000</td>\n",
       "      <td>4.000000e+03</td>\n",
       "    </tr>\n",
       "    <tr>\n",
       "      <th>max</th>\n",
       "      <td>6.948895e+06</td>\n",
       "      <td>4.545843</td>\n",
       "      <td>-53.733330</td>\n",
       "      <td>6.500000e+08</td>\n",
       "      <td>8.212711e+08</td>\n",
       "      <td>4.654544e+07</td>\n",
       "      <td>200000.000000</td>\n",
       "      <td>187000.000000</td>\n",
       "      <td>206333.333333</td>\n",
       "      <td>4.000000e+06</td>\n",
       "      <td>3150.000000</td>\n",
       "      <td>32.000000</td>\n",
       "      <td>1.000150e+07</td>\n",
       "    </tr>\n",
       "  </tbody>\n",
       "</table>\n",
       "</div>"
      ],
      "text/plain": [
       "        geonames_id           lat           lon         price  \\\n",
       "count  1.025030e+05  69670.000000  69670.000000  1.008100e+05   \n",
       "mean   3.574442e+06    -34.626210    -59.266290  4.685259e+05   \n",
       "std    3.541306e+05      1.980936      2.299922  2.260101e+06   \n",
       "min    3.427208e+06    -54.823985    -75.678931  0.000000e+00   \n",
       "25%    3.430234e+06    -34.669065    -58.727040  1.100000e+05   \n",
       "50%    3.433910e+06    -34.597985    -58.480128  1.850000e+05   \n",
       "75%    3.836668e+06    -34.441299    -58.395908  4.200000e+05   \n",
       "max    6.948895e+06      4.545843    -53.733330  6.500000e+08   \n",
       "\n",
       "       price_aprox_local_currency  price_aprox_usd  surface_total_in_m2  \\\n",
       "count                1.008100e+05     1.008100e+05         81892.000000   \n",
       "mean                 4.229397e+06     2.397006e+05           233.795328   \n",
       "std                  6.904714e+06     3.913239e+05          1782.222147   \n",
       "min                  0.000000e+00     0.000000e+00             0.000000   \n",
       "25%                  1.583309e+06     8.973388e+04            50.000000   \n",
       "50%                  2.558452e+06     1.450000e+05            84.000000   \n",
       "75%                  4.675792e+06     2.650000e+05           200.000000   \n",
       "max                  8.212711e+08     4.654544e+07        200000.000000   \n",
       "\n",
       "       surface_covered_in_m2  price_usd_per_m2  price_per_m2        floor  \\\n",
       "count          101313.000000      68617.000000  8.765800e+04  7899.000000   \n",
       "mean              133.050181       2160.086916  6.912216e+03    17.452336   \n",
       "std               724.351479       2759.288621  2.837864e+04   120.243621   \n",
       "min                 0.000000          0.600000  1.510204e+00     1.000000   \n",
       "25%                45.000000       1218.181818  1.550000e+03     1.000000   \n",
       "50%                75.000000       1800.000000  2.213115e+03     3.000000   \n",
       "75%               150.000000       2486.411765  3.355549e+03     6.000000   \n",
       "max            187000.000000     206333.333333  4.000000e+06  3150.000000   \n",
       "\n",
       "              rooms      expenses  \n",
       "count  47390.000000  1.426200e+04  \n",
       "mean       3.080840  5.009234e+03  \n",
       "std        1.860773  1.204403e+05  \n",
       "min        1.000000  1.000000e+00  \n",
       "25%        2.000000  1.000000e+03  \n",
       "50%        3.000000  2.000000e+03  \n",
       "75%        4.000000  4.000000e+03  \n",
       "max       32.000000  1.000150e+07  "
      ]
     },
     "execution_count": 6,
     "metadata": {},
     "output_type": "execute_result"
    }
   ],
   "source": [
    "data.describe()"
   ]
  },
  {
   "cell_type": "markdown",
   "id": "3b78039d",
   "metadata": {},
   "source": [
    "Eliminamos columnas que sabemos que no vamos a utilizar."
   ]
  },
  {
   "cell_type": "code",
   "execution_count": 7,
   "id": "4e1fff11",
   "metadata": {},
   "outputs": [],
   "source": [
    "data.drop([\"image_thumbnail\", \"properati_url\", \"expenses\", \"floor\"], axis=1, inplace = True)"
   ]
  },
  {
   "cell_type": "markdown",
   "id": "ba99192a",
   "metadata": {},
   "source": [
    "### Obtenemos los porcentajes de datos faltantes de cada columna"
   ]
  },
  {
   "cell_type": "code",
   "execution_count": 8,
   "id": "89185f5a",
   "metadata": {},
   "outputs": [
    {
     "data": {
      "text/html": [
       "<div>\n",
       "<style scoped>\n",
       "    .dataframe tbody tr th:only-of-type {\n",
       "        vertical-align: middle;\n",
       "    }\n",
       "\n",
       "    .dataframe tbody tr th {\n",
       "        vertical-align: top;\n",
       "    }\n",
       "\n",
       "    .dataframe thead th {\n",
       "        text-align: right;\n",
       "    }\n",
       "</style>\n",
       "<table border=\"1\" class=\"dataframe\">\n",
       "  <thead>\n",
       "    <tr style=\"text-align: right;\">\n",
       "      <th></th>\n",
       "      <th>total</th>\n",
       "      <th>proporcion</th>\n",
       "    </tr>\n",
       "  </thead>\n",
       "  <tbody>\n",
       "    <tr>\n",
       "      <th>rooms</th>\n",
       "      <td>73830</td>\n",
       "      <td>0.609058</td>\n",
       "    </tr>\n",
       "    <tr>\n",
       "      <th>price_usd_per_m2</th>\n",
       "      <td>52603</td>\n",
       "      <td>0.433947</td>\n",
       "    </tr>\n",
       "    <tr>\n",
       "      <th>lat-lon</th>\n",
       "      <td>51550</td>\n",
       "      <td>0.425260</td>\n",
       "    </tr>\n",
       "    <tr>\n",
       "      <th>lat</th>\n",
       "      <td>51550</td>\n",
       "      <td>0.425260</td>\n",
       "    </tr>\n",
       "    <tr>\n",
       "      <th>lon</th>\n",
       "      <td>51550</td>\n",
       "      <td>0.425260</td>\n",
       "    </tr>\n",
       "    <tr>\n",
       "      <th>surface_total_in_m2</th>\n",
       "      <td>39328</td>\n",
       "      <td>0.324435</td>\n",
       "    </tr>\n",
       "    <tr>\n",
       "      <th>price_per_m2</th>\n",
       "      <td>33562</td>\n",
       "      <td>0.276869</td>\n",
       "    </tr>\n",
       "    <tr>\n",
       "      <th>currency</th>\n",
       "      <td>20411</td>\n",
       "      <td>0.168380</td>\n",
       "    </tr>\n",
       "    <tr>\n",
       "      <th>price</th>\n",
       "      <td>20410</td>\n",
       "      <td>0.168372</td>\n",
       "    </tr>\n",
       "    <tr>\n",
       "      <th>price_aprox_local_currency</th>\n",
       "      <td>20410</td>\n",
       "      <td>0.168372</td>\n",
       "    </tr>\n",
       "    <tr>\n",
       "      <th>price_aprox_usd</th>\n",
       "      <td>20410</td>\n",
       "      <td>0.168372</td>\n",
       "    </tr>\n",
       "    <tr>\n",
       "      <th>surface_covered_in_m2</th>\n",
       "      <td>19907</td>\n",
       "      <td>0.164222</td>\n",
       "    </tr>\n",
       "    <tr>\n",
       "      <th>geonames_id</th>\n",
       "      <td>18717</td>\n",
       "      <td>0.154405</td>\n",
       "    </tr>\n",
       "    <tr>\n",
       "      <th>place_name</th>\n",
       "      <td>23</td>\n",
       "      <td>0.000190</td>\n",
       "    </tr>\n",
       "    <tr>\n",
       "      <th>description</th>\n",
       "      <td>2</td>\n",
       "      <td>0.000016</td>\n",
       "    </tr>\n",
       "  </tbody>\n",
       "</table>\n",
       "</div>"
      ],
      "text/plain": [
       "                            total  proporcion\n",
       "rooms                       73830    0.609058\n",
       "price_usd_per_m2            52603    0.433947\n",
       "lat-lon                     51550    0.425260\n",
       "lat                         51550    0.425260\n",
       "lon                         51550    0.425260\n",
       "surface_total_in_m2         39328    0.324435\n",
       "price_per_m2                33562    0.276869\n",
       "currency                    20411    0.168380\n",
       "price                       20410    0.168372\n",
       "price_aprox_local_currency  20410    0.168372\n",
       "price_aprox_usd             20410    0.168372\n",
       "surface_covered_in_m2       19907    0.164222\n",
       "geonames_id                 18717    0.154405\n",
       "place_name                     23    0.000190\n",
       "description                     2    0.000016"
      ]
     },
     "execution_count": 8,
     "metadata": {},
     "output_type": "execute_result"
    }
   ],
   "source": [
    "def freq_na(df, zeros=False):\n",
    "    miss      = df.isnull().sum(axis=0)\n",
    "    miss_prop = miss / len(df)\n",
    "    freq = pd.concat([miss, miss_prop], axis=1)\n",
    "    freq.columns = ['total', 'proporcion']\n",
    "    return freq if zeros else freq[freq['total'] > 0].sort_values(by='proporcion',ascending=False)\n",
    "\n",
    "freq_na(data)"
   ]
  },
  {
   "cell_type": "code",
   "execution_count": 9,
   "id": "e1be55f2",
   "metadata": {},
   "outputs": [
    {
     "data": {
      "image/png": "[encoded data removed]",
      "text/plain": [
       "<Figure size 432x288 with 1 Axes>"
      ]
     },
     "metadata": {},
     "output_type": "display_data"
    }
   ],
   "source": [
    "def mostrar_nulos(df):\n",
    "    \n",
    "    nulos = df.isnull().sum() / len(df)\n",
    "    nulos = nulos[nulos > 0]\n",
    "    nulos.sort_values(inplace=True)\n",
    "    \n",
    "    nulos = nulos.to_frame()\n",
    "    nulos.columns = ['total']\n",
    "    nulos.index.names = ['variable']\n",
    "    nulos['variable'] = nulos.index\n",
    "    # ploteo\n",
    "    sns.set(style=\"whitegrid\", color_codes=True)\n",
    "    sns.barplot(x='variable', y='total', data=nulos)\n",
    "    plt.xticks(rotation = 90)\n",
    "    plt.show()\n",
    "mostrar_nulos(data)"
   ]
  },
  {
   "cell_type": "markdown",
   "id": "ea5e6dc5",
   "metadata": {},
   "source": [
    "CONCLUSIÓN DE LA OBSERVACIÓN INICIAL:"
   ]
  },
  {
   "cell_type": "markdown",
   "id": "4f4a8a70",
   "metadata": {},
   "source": [
    "El DataSet posee algunas columnas con muchos valores faltantes, posibles duplicados o posibles datos no confiables.\n",
    "\n",
    "Las columnas o datos centrales del análisis que realizaremos son aquellos que nos indiquen:\n",
    "\n",
    "a) ubicación de las observaciones\n",
    "\n",
    "b) precio x M2\n",
    "\n",
    "c) las variables de las cuales dependan las mismas (como ser tipo de propiedad, amenities, garage).\n",
    "\n",
    "Por lo antes dicho, en este momento sólo nos limitaremos a realizar un drop de las observaciones duplicadas que puedan existir."
   ]
  },
  {
   "cell_type": "markdown",
   "id": "63746651",
   "metadata": {},
   "source": [
    "##### Evaluando data para ver si hay datos duplicados incluyendo la mayor cantidad de columnas que logicamente deban coincidir."
   ]
  },
  {
   "cell_type": "code",
   "execution_count": 10,
   "id": "4f5fe9bb",
   "metadata": {},
   "outputs": [
    {
     "name": "stdout",
     "output_type": "stream",
     "text": [
      "registros duplicados en data:  True\n",
      "cantidad de registros duplicados en data:  6496\n"
     ]
    }
   ],
   "source": [
    "data_duplicates_mask = data.duplicated(subset=[\"place_name\", \"country_name\", \"description\", \"title\", \"lat-lon\", \"state_name\", \"price_aprox_usd\"], keep=\"first\")\n",
    "print(\"registros duplicados en data: \", any(data_duplicates_mask))\n",
    "print(\"cantidad de registros duplicados en data: \", data_duplicates_mask.sum())"
   ]
  },
  {
   "cell_type": "code",
   "execution_count": 11,
   "id": "582fb5d0",
   "metadata": {},
   "outputs": [
    {
     "data": {
      "text/plain": [
       "(114724, 21)"
      ]
     },
     "execution_count": 11,
     "metadata": {},
     "output_type": "execute_result"
    }
   ],
   "source": [
    "data= data.drop_duplicates(subset=[\"place_name\", \"country_name\", \"description\", \"title\", \"lat-lon\", \"state_name\", \"price_aprox_usd\"], keep=\"first\")\n",
    "data.shape"
   ]
  },
  {
   "cell_type": "markdown",
   "id": "bd3b85ce",
   "metadata": {},
   "source": [
    "### ANÁLISIS DE COLUMNAS DE 0 A 9 - UBICACION DE LAS OBSERVACIONES"
   ]
  },
  {
   "cell_type": "markdown",
   "id": "1d77d960",
   "metadata": {},
   "source": [
    "##### Columna operation"
   ]
  },
  {
   "cell_type": "code",
   "execution_count": 12,
   "id": "0a9afaa7",
   "metadata": {},
   "outputs": [
    {
     "data": {
      "text/plain": [
       "operation\n",
       "sell    114724\n",
       "Name: country_name, dtype: int64"
      ]
     },
     "execution_count": 12,
     "metadata": {},
     "output_type": "execute_result"
    }
   ],
   "source": [
    "# Como vemos posee la totalidad de valores sell y sin vacíos, por lo que no agregaría valor. Atacaremos el Drop de columnas más adelante.\n",
    "operation_group = data.groupby('operation').country_name.count()\n",
    "operation_group"
   ]
  },
  {
   "cell_type": "markdown",
   "id": "ef720528",
   "metadata": {},
   "source": [
    "##### Columna property type"
   ]
  },
  {
   "cell_type": "code",
   "execution_count": 13,
   "id": "ec8375de",
   "metadata": {},
   "outputs": [
    {
     "data": {
      "text/plain": [
       "property_type\n",
       "PH            5532\n",
       "apartment    65439\n",
       "house        39705\n",
       "store         4048\n",
       "Name: property_type, dtype: int64"
      ]
     },
     "execution_count": 13,
     "metadata": {},
     "output_type": "execute_result"
    }
   ],
   "source": [
    "# Como vemos posee la totalidad de valores completos y nos será de mucha importancia para analizar los valores por tipo de propiedad.\n",
    "property_type_group = data.groupby('property_type').property_type.count()\n",
    "property_type_group"
   ]
  },
  {
   "cell_type": "markdown",
   "id": "dd4bffb4",
   "metadata": {},
   "source": [
    "Todos los valores estan son \"PH\", \"apartment\", \"house\" y \"store\". Sin valores nulos."
   ]
  },
  {
   "cell_type": "code",
   "execution_count": 14,
   "id": "24a2bb10",
   "metadata": {},
   "outputs": [
    {
     "data": {
      "text/plain": [
       "place_name\n",
       "Córdoba          8544\n",
       "Rosario          7142\n",
       "Mar del Plata    6486\n",
       "Tigre            3182\n",
       "Nordelta         3036\n",
       "Belgrano         2753\n",
       "Palermo          2669\n",
       "La Plata         2419\n",
       "Pilar            2199\n",
       "Caballito        2160\n",
       "Name: place_name, dtype: int64"
      ]
     },
     "execution_count": 14,
     "metadata": {},
     "output_type": "execute_result"
    }
   ],
   "source": [
    "ciudades = data.groupby('place_name').place_name.count()\n",
    "ciudades_ordenadas = ciudades.sort_values(ascending=False)\n",
    "ciudades_ordenadas.head(10)"
   ]
  },
  {
   "cell_type": "markdown",
   "id": "5bbfa568",
   "metadata": {},
   "source": [
    "##### Columna place_name"
   ]
  },
  {
   "cell_type": "code",
   "execution_count": 15,
   "id": "d37f48f8",
   "metadata": {},
   "outputs": [
    {
     "data": {
      "text/plain": [
       "23"
      ]
     },
     "execution_count": 15,
     "metadata": {},
     "output_type": "execute_result"
    }
   ],
   "source": [
    "data.place_name.isnull().sum()"
   ]
  },
  {
   "cell_type": "markdown",
   "id": "1749d0b5",
   "metadata": {},
   "source": [
    "Contiene 23 valores nulos."
   ]
  },
  {
   "cell_type": "code",
   "execution_count": 16,
   "id": "5469018f",
   "metadata": {},
   "outputs": [
    {
     "data": {
      "text/html": [
       "<div>\n",
       "<style scoped>\n",
       "    .dataframe tbody tr th:only-of-type {\n",
       "        vertical-align: middle;\n",
       "    }\n",
       "\n",
       "    .dataframe tbody tr th {\n",
       "        vertical-align: top;\n",
       "    }\n",
       "\n",
       "    .dataframe thead th {\n",
       "        text-align: right;\n",
       "    }\n",
       "</style>\n",
       "<table border=\"1\" class=\"dataframe\">\n",
       "  <thead>\n",
       "    <tr style=\"text-align: right;\">\n",
       "      <th></th>\n",
       "      <th>operation</th>\n",
       "      <th>property_type</th>\n",
       "      <th>place_name</th>\n",
       "      <th>place_with_parent_names</th>\n",
       "      <th>country_name</th>\n",
       "      <th>state_name</th>\n",
       "      <th>geonames_id</th>\n",
       "      <th>lat-lon</th>\n",
       "      <th>lat</th>\n",
       "      <th>lon</th>\n",
       "      <th>...</th>\n",
       "      <th>currency</th>\n",
       "      <th>price_aprox_local_currency</th>\n",
       "      <th>price_aprox_usd</th>\n",
       "      <th>surface_total_in_m2</th>\n",
       "      <th>surface_covered_in_m2</th>\n",
       "      <th>price_usd_per_m2</th>\n",
       "      <th>price_per_m2</th>\n",
       "      <th>rooms</th>\n",
       "      <th>description</th>\n",
       "      <th>title</th>\n",
       "    </tr>\n",
       "  </thead>\n",
       "  <tbody>\n",
       "    <tr>\n",
       "      <th>6489</th>\n",
       "      <td>sell</td>\n",
       "      <td>house</td>\n",
       "      <td>NaN</td>\n",
       "      <td>|Argentina|Bs.As. G.B.A. Zona Norte|Tigre||</td>\n",
       "      <td>Argentina</td>\n",
       "      <td>Bs.As. G.B.A. Zona Norte</td>\n",
       "      <td>NaN</td>\n",
       "      <td>-34.4008968545,-58.63809847</td>\n",
       "      <td>-34.400897</td>\n",
       "      <td>-58.638098</td>\n",
       "      <td>...</td>\n",
       "      <td>USD</td>\n",
       "      <td>11468925.0</td>\n",
       "      <td>650000.0</td>\n",
       "      <td>240.0</td>\n",
       "      <td>240.0</td>\n",
       "      <td>2708.333333</td>\n",
       "      <td>2708.333333</td>\n",
       "      <td>NaN</td>\n",
       "      <td>Espectacular casa moderna de una planta, con a...</td>\n",
       "      <td>Venta de casa en Santa María de Tigre</td>\n",
       "    </tr>\n",
       "    <tr>\n",
       "      <th>10201</th>\n",
       "      <td>sell</td>\n",
       "      <td>house</td>\n",
       "      <td>NaN</td>\n",
       "      <td>|Argentina|Bs.As. G.B.A. Zona Norte|Tigre||</td>\n",
       "      <td>Argentina</td>\n",
       "      <td>Bs.As. G.B.A. Zona Norte</td>\n",
       "      <td>NaN</td>\n",
       "      <td>-34.400704,-58.638067</td>\n",
       "      <td>-34.400704</td>\n",
       "      <td>-58.638067</td>\n",
       "      <td>...</td>\n",
       "      <td>USD</td>\n",
       "      <td>9439807.5</td>\n",
       "      <td>535000.0</td>\n",
       "      <td>NaN</td>\n",
       "      <td>300.0</td>\n",
       "      <td>NaN</td>\n",
       "      <td>1783.333333</td>\n",
       "      <td>5.0</td>\n",
       "      <td>Corredor Responsable: SABRINA COCCONI - CSI 62...</td>\n",
       "      <td>VENTA CASA SANTA MARÍA DE TIGRE COUNTRY BARRIO...</td>\n",
       "    </tr>\n",
       "    <tr>\n",
       "      <th>11451</th>\n",
       "      <td>sell</td>\n",
       "      <td>house</td>\n",
       "      <td>NaN</td>\n",
       "      <td>|Argentina|Bs.As. G.B.A. Zona Norte|Tigre||</td>\n",
       "      <td>Argentina</td>\n",
       "      <td>Bs.As. G.B.A. Zona Norte</td>\n",
       "      <td>NaN</td>\n",
       "      <td>-34.4026880384,-58.6262613379</td>\n",
       "      <td>-34.402688</td>\n",
       "      <td>-58.626261</td>\n",
       "      <td>...</td>\n",
       "      <td>USD</td>\n",
       "      <td>9704475.0</td>\n",
       "      <td>550000.0</td>\n",
       "      <td>2170.0</td>\n",
       "      <td>270.0</td>\n",
       "      <td>253.456221</td>\n",
       "      <td>2037.037037</td>\n",
       "      <td>NaN</td>\n",
       "      <td>MUY LINDA CASA EN EXCELENTE UBICACION!! Superf...</td>\n",
       "      <td>SANTA MARIA DE TIGRE IMPECABLE</td>\n",
       "    </tr>\n",
       "    <tr>\n",
       "      <th>14839</th>\n",
       "      <td>sell</td>\n",
       "      <td>house</td>\n",
       "      <td>NaN</td>\n",
       "      <td>|Argentina|Bs.As. G.B.A. Zona Norte|Tigre||</td>\n",
       "      <td>Argentina</td>\n",
       "      <td>Bs.As. G.B.A. Zona Norte</td>\n",
       "      <td>NaN</td>\n",
       "      <td>-34.4007994779,-58.6381735719</td>\n",
       "      <td>-34.400799</td>\n",
       "      <td>-58.638174</td>\n",
       "      <td>...</td>\n",
       "      <td>USD</td>\n",
       "      <td>8469360.0</td>\n",
       "      <td>480000.0</td>\n",
       "      <td>240.0</td>\n",
       "      <td>200.0</td>\n",
       "      <td>2000.000000</td>\n",
       "      <td>2400.000000</td>\n",
       "      <td>NaN</td>\n",
       "      <td>Muy linda casa de estilo clásico.-Planta baja;...</td>\n",
       "      <td>Venta de casa en Santa María de Tigre</td>\n",
       "    </tr>\n",
       "    <tr>\n",
       "      <th>18622</th>\n",
       "      <td>sell</td>\n",
       "      <td>house</td>\n",
       "      <td>NaN</td>\n",
       "      <td>|Argentina|Bs.As. G.B.A. Zona Norte|Tigre||</td>\n",
       "      <td>Argentina</td>\n",
       "      <td>Bs.As. G.B.A. Zona Norte</td>\n",
       "      <td>NaN</td>\n",
       "      <td>-34.4032781195,-58.6263503945</td>\n",
       "      <td>-34.403278</td>\n",
       "      <td>-58.626350</td>\n",
       "      <td>...</td>\n",
       "      <td>USD</td>\n",
       "      <td>22884916.5</td>\n",
       "      <td>1297000.0</td>\n",
       "      <td>340.0</td>\n",
       "      <td>340.0</td>\n",
       "      <td>3814.705882</td>\n",
       "      <td>3814.705882</td>\n",
       "      <td>NaN</td>\n",
       "      <td>Casa con increible vista al lago con playa de...</td>\n",
       "      <td>Casa con increible vista al lago con playa y m...</td>\n",
       "    </tr>\n",
       "    <tr>\n",
       "      <th>21922</th>\n",
       "      <td>sell</td>\n",
       "      <td>house</td>\n",
       "      <td>NaN</td>\n",
       "      <td>|Argentina|Bs.As. G.B.A. Zona Norte|Tigre||</td>\n",
       "      <td>Argentina</td>\n",
       "      <td>Bs.As. G.B.A. Zona Norte</td>\n",
       "      <td>NaN</td>\n",
       "      <td>-34.399704,-58.638405</td>\n",
       "      <td>-34.399704</td>\n",
       "      <td>-58.638405</td>\n",
       "      <td>...</td>\n",
       "      <td>USD</td>\n",
       "      <td>7763580.0</td>\n",
       "      <td>440000.0</td>\n",
       "      <td>NaN</td>\n",
       "      <td>220.0</td>\n",
       "      <td>NaN</td>\n",
       "      <td>2000.000000</td>\n",
       "      <td>5.0</td>\n",
       "      <td>Corredor Responsable: Matias Castelli - CUCICB...</td>\n",
       "      <td>Venta Casa - Barrio Santa Maria de Tigre</td>\n",
       "    </tr>\n",
       "    <tr>\n",
       "      <th>23664</th>\n",
       "      <td>sell</td>\n",
       "      <td>house</td>\n",
       "      <td>NaN</td>\n",
       "      <td>|Argentina|Bs.As. G.B.A. Zona Norte|Tigre||</td>\n",
       "      <td>Argentina</td>\n",
       "      <td>Bs.As. G.B.A. Zona Norte</td>\n",
       "      <td>NaN</td>\n",
       "      <td>-34.4005161998,-58.6417999185</td>\n",
       "      <td>-34.400516</td>\n",
       "      <td>-58.641800</td>\n",
       "      <td>...</td>\n",
       "      <td>USD</td>\n",
       "      <td>8469360.0</td>\n",
       "      <td>480000.0</td>\n",
       "      <td>294.0</td>\n",
       "      <td>294.0</td>\n",
       "      <td>1632.653061</td>\n",
       "      <td>1632.653061</td>\n",
       "      <td>NaN</td>\n",
       "      <td>EXCELENTE CASA CLASICA con grandes ventanas y ...</td>\n",
       "      <td>CASA EN VENTA EN SANTA MARIA DE TIGRE CON RENTA</td>\n",
       "    </tr>\n",
       "    <tr>\n",
       "      <th>24722</th>\n",
       "      <td>sell</td>\n",
       "      <td>house</td>\n",
       "      <td>NaN</td>\n",
       "      <td>|Argentina|Bs.As. G.B.A. Zona Norte|Tigre||</td>\n",
       "      <td>Argentina</td>\n",
       "      <td>Bs.As. G.B.A. Zona Norte</td>\n",
       "      <td>NaN</td>\n",
       "      <td>-34.4007292,-58.6377783</td>\n",
       "      <td>-34.400729</td>\n",
       "      <td>-58.637778</td>\n",
       "      <td>...</td>\n",
       "      <td>USD</td>\n",
       "      <td>9351585.0</td>\n",
       "      <td>530000.0</td>\n",
       "      <td>316.0</td>\n",
       "      <td>270.0</td>\n",
       "      <td>1677.215190</td>\n",
       "      <td>1962.962963</td>\n",
       "      <td>NaN</td>\n",
       "      <td>EN EXCLUSIVIDAD!!!!!!Lindísima casa, muy lumin...</td>\n",
       "      <td>Venta de casa en Santa María de Tigre</td>\n",
       "    </tr>\n",
       "    <tr>\n",
       "      <th>38856</th>\n",
       "      <td>sell</td>\n",
       "      <td>house</td>\n",
       "      <td>NaN</td>\n",
       "      <td>|Argentina|Bs.As. G.B.A. Zona Norte|Tigre||</td>\n",
       "      <td>Argentina</td>\n",
       "      <td>Bs.As. G.B.A. Zona Norte</td>\n",
       "      <td>NaN</td>\n",
       "      <td>-34.425087,-58.5796585</td>\n",
       "      <td>-34.425087</td>\n",
       "      <td>-58.579659</td>\n",
       "      <td>...</td>\n",
       "      <td>USD</td>\n",
       "      <td>23820075.0</td>\n",
       "      <td>1350000.0</td>\n",
       "      <td>NaN</td>\n",
       "      <td>550.0</td>\n",
       "      <td>NaN</td>\n",
       "      <td>2454.545455</td>\n",
       "      <td>NaN</td>\n",
       "      <td>SANTA MARIA DE TIGRE- AL RIO - ESPECTACULAR CA...</td>\n",
       "      <td>Casa (barrio cerrado), Venta</td>\n",
       "    </tr>\n",
       "    <tr>\n",
       "      <th>45970</th>\n",
       "      <td>sell</td>\n",
       "      <td>apartment</td>\n",
       "      <td>NaN</td>\n",
       "      <td>|Argentina|Bs.As. G.B.A. Zona Norte|Tigre||</td>\n",
       "      <td>Argentina</td>\n",
       "      <td>Bs.As. G.B.A. Zona Norte</td>\n",
       "      <td>NaN</td>\n",
       "      <td>-34.396074,-58.63738</td>\n",
       "      <td>-34.396074</td>\n",
       "      <td>-58.637380</td>\n",
       "      <td>...</td>\n",
       "      <td>USD</td>\n",
       "      <td>1676227.5</td>\n",
       "      <td>95000.0</td>\n",
       "      <td>55.0</td>\n",
       "      <td>27.0</td>\n",
       "      <td>1727.272727</td>\n",
       "      <td>3518.518519</td>\n",
       "      <td>1.0</td>\n",
       "      <td>EDIFICIO ZERENA – EL PALMAR, NORDELTA. Torre 2...</td>\n",
       "      <td>Excelente monoambiente. Barrio El Palmar.  Con...</td>\n",
       "    </tr>\n",
       "    <tr>\n",
       "      <th>46642</th>\n",
       "      <td>sell</td>\n",
       "      <td>house</td>\n",
       "      <td>NaN</td>\n",
       "      <td>|Argentina|Bs.As. G.B.A. Zona Norte|Tigre||</td>\n",
       "      <td>Argentina</td>\n",
       "      <td>Bs.As. G.B.A. Zona Norte</td>\n",
       "      <td>NaN</td>\n",
       "      <td>-34.400749,-58.638754</td>\n",
       "      <td>-34.400749</td>\n",
       "      <td>-58.638754</td>\n",
       "      <td>...</td>\n",
       "      <td>USD</td>\n",
       "      <td>25937415.0</td>\n",
       "      <td>1470000.0</td>\n",
       "      <td>NaN</td>\n",
       "      <td>20.0</td>\n",
       "      <td>NaN</td>\n",
       "      <td>73500.000000</td>\n",
       "      <td>6.0</td>\n",
       "      <td>Corredor Responsable: Matias Castelli - CUCICB...</td>\n",
       "      <td>Venta de Casa al rio</td>\n",
       "    </tr>\n",
       "    <tr>\n",
       "      <th>53130</th>\n",
       "      <td>sell</td>\n",
       "      <td>house</td>\n",
       "      <td>NaN</td>\n",
       "      <td>|Argentina|Bs.As. G.B.A. Zona Norte|Tigre||</td>\n",
       "      <td>Argentina</td>\n",
       "      <td>Bs.As. G.B.A. Zona Norte</td>\n",
       "      <td>NaN</td>\n",
       "      <td>-34.400978,-58.637809</td>\n",
       "      <td>-34.400978</td>\n",
       "      <td>-58.637809</td>\n",
       "      <td>...</td>\n",
       "      <td>USD</td>\n",
       "      <td>11116035.0</td>\n",
       "      <td>630000.0</td>\n",
       "      <td>1000.0</td>\n",
       "      <td>370.0</td>\n",
       "      <td>630.000000</td>\n",
       "      <td>1702.702703</td>\n",
       "      <td>NaN</td>\n",
       "      <td>Excelente casa en Venta en B° Santa Maria de T...</td>\n",
       "      <td>Casa en Venta</td>\n",
       "    </tr>\n",
       "    <tr>\n",
       "      <th>55306</th>\n",
       "      <td>sell</td>\n",
       "      <td>house</td>\n",
       "      <td>NaN</td>\n",
       "      <td>|Argentina|Bs.As. G.B.A. Zona Norte|Tigre||</td>\n",
       "      <td>Argentina</td>\n",
       "      <td>Bs.As. G.B.A. Zona Norte</td>\n",
       "      <td>NaN</td>\n",
       "      <td>-34.3996311,-58.6433121</td>\n",
       "      <td>-34.399631</td>\n",
       "      <td>-58.643312</td>\n",
       "      <td>...</td>\n",
       "      <td>USD</td>\n",
       "      <td>8292915.0</td>\n",
       "      <td>470000.0</td>\n",
       "      <td>254.0</td>\n",
       "      <td>204.0</td>\n",
       "      <td>1850.393701</td>\n",
       "      <td>2303.921569</td>\n",
       "      <td>NaN</td>\n",
       "      <td>Muy linda casa de dos plantas en lote interno ...</td>\n",
       "      <td>Santa María de Tigre. Casa con amarra.</td>\n",
       "    </tr>\n",
       "    <tr>\n",
       "      <th>57703</th>\n",
       "      <td>sell</td>\n",
       "      <td>house</td>\n",
       "      <td>NaN</td>\n",
       "      <td>|Argentina|Bs.As. G.B.A. Zona Norte|Tigre||</td>\n",
       "      <td>Argentina</td>\n",
       "      <td>Bs.As. G.B.A. Zona Norte</td>\n",
       "      <td>NaN</td>\n",
       "      <td>-34.39033749,-58.63368988</td>\n",
       "      <td>-34.390337</td>\n",
       "      <td>-58.633690</td>\n",
       "      <td>...</td>\n",
       "      <td>USD</td>\n",
       "      <td>11468925.0</td>\n",
       "      <td>650000.0</td>\n",
       "      <td>230.0</td>\n",
       "      <td>230.0</td>\n",
       "      <td>2826.086957</td>\n",
       "      <td>2826.086957</td>\n",
       "      <td>NaN</td>\n",
       "      <td>Espectacular casas moderna con amplio jardín s...</td>\n",
       "      <td>SANTA MARIA DE TIGRE 100</td>\n",
       "    </tr>\n",
       "    <tr>\n",
       "      <th>57759</th>\n",
       "      <td>sell</td>\n",
       "      <td>house</td>\n",
       "      <td>NaN</td>\n",
       "      <td>|Argentina|Bs.As. G.B.A. Zona Norte|Tigre||</td>\n",
       "      <td>Argentina</td>\n",
       "      <td>Bs.As. G.B.A. Zona Norte</td>\n",
       "      <td>NaN</td>\n",
       "      <td>-34.39596815,-58.63077164</td>\n",
       "      <td>-34.395968</td>\n",
       "      <td>-58.630772</td>\n",
       "      <td>...</td>\n",
       "      <td>USD</td>\n",
       "      <td>10233810.0</td>\n",
       "      <td>580000.0</td>\n",
       "      <td>360.0</td>\n",
       "      <td>360.0</td>\n",
       "      <td>1611.111111</td>\n",
       "      <td>1611.111111</td>\n",
       "      <td>NaN</td>\n",
       "      <td>Incluye una amarra de U$S 30.000 con elevador ...</td>\n",
       "      <td>SANTA MARIA DE TIGRE 100</td>\n",
       "    </tr>\n",
       "    <tr>\n",
       "      <th>57764</th>\n",
       "      <td>sell</td>\n",
       "      <td>house</td>\n",
       "      <td>NaN</td>\n",
       "      <td>|Argentina|Bs.As. G.B.A. Zona Norte|Tigre||</td>\n",
       "      <td>Argentina</td>\n",
       "      <td>Bs.As. G.B.A. Zona Norte</td>\n",
       "      <td>NaN</td>\n",
       "      <td>-34.39635767,-58.62613678</td>\n",
       "      <td>-34.396358</td>\n",
       "      <td>-58.626137</td>\n",
       "      <td>...</td>\n",
       "      <td>USD</td>\n",
       "      <td>17115165.0</td>\n",
       "      <td>970000.0</td>\n",
       "      <td>425.0</td>\n",
       "      <td>391.0</td>\n",
       "      <td>2282.352941</td>\n",
       "      <td>2480.818414</td>\n",
       "      <td>NaN</td>\n",
       "      <td>IMPECABLE ! Sobre la laguna con excelente orie...</td>\n",
       "      <td>SANTA MARIA DE TIGRE 100</td>\n",
       "    </tr>\n",
       "    <tr>\n",
       "      <th>57793</th>\n",
       "      <td>sell</td>\n",
       "      <td>house</td>\n",
       "      <td>NaN</td>\n",
       "      <td>|Argentina|Bs.As. G.B.A. Zona Norte|Tigre||</td>\n",
       "      <td>Argentina</td>\n",
       "      <td>Bs.As. G.B.A. Zona Norte</td>\n",
       "      <td>NaN</td>\n",
       "      <td>-34.39628685,-58.62922668</td>\n",
       "      <td>-34.396287</td>\n",
       "      <td>-58.629227</td>\n",
       "      <td>...</td>\n",
       "      <td>USD</td>\n",
       "      <td>13409820.0</td>\n",
       "      <td>760000.0</td>\n",
       "      <td>250.0</td>\n",
       "      <td>250.0</td>\n",
       "      <td>3040.000000</td>\n",
       "      <td>3040.000000</td>\n",
       "      <td>NaN</td>\n",
       "      <td>Súper cálida y agradable. Ubicada en uno de lo...</td>\n",
       "      <td>SANTA MARIA DE TIGRE 100</td>\n",
       "    </tr>\n",
       "    <tr>\n",
       "      <th>58004</th>\n",
       "      <td>sell</td>\n",
       "      <td>house</td>\n",
       "      <td>NaN</td>\n",
       "      <td>|Argentina|Bs.As. G.B.A. Zona Norte|Tigre||</td>\n",
       "      <td>Argentina</td>\n",
       "      <td>Bs.As. G.B.A. Zona Norte</td>\n",
       "      <td>NaN</td>\n",
       "      <td>-34.39104577,-58.63617897</td>\n",
       "      <td>-34.391046</td>\n",
       "      <td>-58.636179</td>\n",
       "      <td>...</td>\n",
       "      <td>USD</td>\n",
       "      <td>9704475.0</td>\n",
       "      <td>550000.0</td>\n",
       "      <td>266.0</td>\n",
       "      <td>230.0</td>\n",
       "      <td>2067.669173</td>\n",
       "      <td>2391.304348</td>\n",
       "      <td>NaN</td>\n",
       "      <td>Casa clásica muy cómoda.PLANTA BAJA: Hall de e...</td>\n",
       "      <td>SANTA MARIA DE TIGRE 100</td>\n",
       "    </tr>\n",
       "    <tr>\n",
       "      <th>58037</th>\n",
       "      <td>sell</td>\n",
       "      <td>house</td>\n",
       "      <td>NaN</td>\n",
       "      <td>|Argentina|Bs.As. G.B.A. Zona Norte|Tigre||</td>\n",
       "      <td>Argentina</td>\n",
       "      <td>Bs.As. G.B.A. Zona Norte</td>\n",
       "      <td>NaN</td>\n",
       "      <td>-34.39315287,-58.63197327</td>\n",
       "      <td>-34.393153</td>\n",
       "      <td>-58.631973</td>\n",
       "      <td>...</td>\n",
       "      <td>USD</td>\n",
       "      <td>10410255.0</td>\n",
       "      <td>590000.0</td>\n",
       "      <td>320.0</td>\n",
       "      <td>320.0</td>\n",
       "      <td>1843.750000</td>\n",
       "      <td>1843.750000</td>\n",
       "      <td>NaN</td>\n",
       "      <td>Excelente casa ubicada en uno de la a pocos ba...</td>\n",
       "      <td>SANTA MARIA DE TIGRE 100</td>\n",
       "    </tr>\n",
       "    <tr>\n",
       "      <th>59069</th>\n",
       "      <td>sell</td>\n",
       "      <td>house</td>\n",
       "      <td>NaN</td>\n",
       "      <td>|Argentina|Bs.As. G.B.A. Zona Norte|Tigre||</td>\n",
       "      <td>Argentina</td>\n",
       "      <td>Bs.As. G.B.A. Zona Norte</td>\n",
       "      <td>NaN</td>\n",
       "      <td>-34.400849,-58.638179</td>\n",
       "      <td>-34.400849</td>\n",
       "      <td>-58.638179</td>\n",
       "      <td>...</td>\n",
       "      <td>USD</td>\n",
       "      <td>11292480.0</td>\n",
       "      <td>640000.0</td>\n",
       "      <td>NaN</td>\n",
       "      <td>248.0</td>\n",
       "      <td>NaN</td>\n",
       "      <td>2580.645161</td>\n",
       "      <td>5.0</td>\n",
       "      <td>Corredor Responsable: Matias Castelli - CUCICB...</td>\n",
       "      <td>CASA EN VENTA AL AGUA EN SANTA MARIA DE TIGRE</td>\n",
       "    </tr>\n",
       "    <tr>\n",
       "      <th>62411</th>\n",
       "      <td>sell</td>\n",
       "      <td>house</td>\n",
       "      <td>NaN</td>\n",
       "      <td>|Argentina|Bs.As. G.B.A. Zona Norte|Tigre||</td>\n",
       "      <td>Argentina</td>\n",
       "      <td>Bs.As. G.B.A. Zona Norte</td>\n",
       "      <td>NaN</td>\n",
       "      <td>-34.396485,-58.635878</td>\n",
       "      <td>-34.396485</td>\n",
       "      <td>-58.635878</td>\n",
       "      <td>...</td>\n",
       "      <td>USD</td>\n",
       "      <td>5999130.0</td>\n",
       "      <td>340000.0</td>\n",
       "      <td>170.0</td>\n",
       "      <td>170.0</td>\n",
       "      <td>2000.000000</td>\n",
       "      <td>2000.000000</td>\n",
       "      <td>4.0</td>\n",
       "      <td>Hermosa casa en lote perimetral, Excelente cal...</td>\n",
       "      <td>VENTA CASA A ESTRENAR EN LAS TIPAS NORDELTA</td>\n",
       "    </tr>\n",
       "    <tr>\n",
       "      <th>62413</th>\n",
       "      <td>sell</td>\n",
       "      <td>house</td>\n",
       "      <td>NaN</td>\n",
       "      <td>|Argentina|Bs.As. G.B.A. Zona Norte|Tigre||</td>\n",
       "      <td>Argentina</td>\n",
       "      <td>Bs.As. G.B.A. Zona Norte</td>\n",
       "      <td>NaN</td>\n",
       "      <td>-34.396485,-58.635878</td>\n",
       "      <td>-34.396485</td>\n",
       "      <td>-58.635878</td>\n",
       "      <td>...</td>\n",
       "      <td>USD</td>\n",
       "      <td>7393045.5</td>\n",
       "      <td>419000.0</td>\n",
       "      <td>250.0</td>\n",
       "      <td>200.0</td>\n",
       "      <td>1676.000000</td>\n",
       "      <td>2095.000000</td>\n",
       "      <td>5.0</td>\n",
       "      <td>Muy linda casa a estrenar sobre lote perimetra...</td>\n",
       "      <td>Muy linda casa a estrenar en Las Tipas</td>\n",
       "    </tr>\n",
       "    <tr>\n",
       "      <th>63849</th>\n",
       "      <td>sell</td>\n",
       "      <td>house</td>\n",
       "      <td>NaN</td>\n",
       "      <td>|Argentina|Bs.As. G.B.A. Zona Norte|Tigre||</td>\n",
       "      <td>Argentina</td>\n",
       "      <td>Bs.As. G.B.A. Zona Norte</td>\n",
       "      <td>NaN</td>\n",
       "      <td>-34.39452,-58.632501</td>\n",
       "      <td>-34.394520</td>\n",
       "      <td>-58.632501</td>\n",
       "      <td>...</td>\n",
       "      <td>USD</td>\n",
       "      <td>7057800.0</td>\n",
       "      <td>400000.0</td>\n",
       "      <td>140.0</td>\n",
       "      <td>140.0</td>\n",
       "      <td>2857.142857</td>\n",
       "      <td>2857.142857</td>\n",
       "      <td>5.0</td>\n",
       "      <td>Casa estilo colonial de una planta sobre lote ...</td>\n",
       "      <td>Oportunidad! Casa en La Alameda</td>\n",
       "    </tr>\n",
       "  </tbody>\n",
       "</table>\n",
       "<p>23 rows × 21 columns</p>\n",
       "</div>"
      ],
      "text/plain": [
       "      operation property_type place_name  \\\n",
       "6489       sell         house        NaN   \n",
       "10201      sell         house        NaN   \n",
       "11451      sell         house        NaN   \n",
       "14839      sell         house        NaN   \n",
       "18622      sell         house        NaN   \n",
       "21922      sell         house        NaN   \n",
       "23664      sell         house        NaN   \n",
       "24722      sell         house        NaN   \n",
       "38856      sell         house        NaN   \n",
       "45970      sell     apartment        NaN   \n",
       "46642      sell         house        NaN   \n",
       "53130      sell         house        NaN   \n",
       "55306      sell         house        NaN   \n",
       "57703      sell         house        NaN   \n",
       "57759      sell         house        NaN   \n",
       "57764      sell         house        NaN   \n",
       "57793      sell         house        NaN   \n",
       "58004      sell         house        NaN   \n",
       "58037      sell         house        NaN   \n",
       "59069      sell         house        NaN   \n",
       "62411      sell         house        NaN   \n",
       "62413      sell         house        NaN   \n",
       "63849      sell         house        NaN   \n",
       "\n",
       "                           place_with_parent_names country_name  \\\n",
       "6489   |Argentina|Bs.As. G.B.A. Zona Norte|Tigre||    Argentina   \n",
       "10201  |Argentina|Bs.As. G.B.A. Zona Norte|Tigre||    Argentina   \n",
       "11451  |Argentina|Bs.As. G.B.A. Zona Norte|Tigre||    Argentina   \n",
       "14839  |Argentina|Bs.As. G.B.A. Zona Norte|Tigre||    Argentina   \n",
       "18622  |Argentina|Bs.As. G.B.A. Zona Norte|Tigre||    Argentina   \n",
       "21922  |Argentina|Bs.As. G.B.A. Zona Norte|Tigre||    Argentina   \n",
       "23664  |Argentina|Bs.As. G.B.A. Zona Norte|Tigre||    Argentina   \n",
       "24722  |Argentina|Bs.As. G.B.A. Zona Norte|Tigre||    Argentina   \n",
       "38856  |Argentina|Bs.As. G.B.A. Zona Norte|Tigre||    Argentina   \n",
       "45970  |Argentina|Bs.As. G.B.A. Zona Norte|Tigre||    Argentina   \n",
       "46642  |Argentina|Bs.As. G.B.A. Zona Norte|Tigre||    Argentina   \n",
       "53130  |Argentina|Bs.As. G.B.A. Zona Norte|Tigre||    Argentina   \n",
       "55306  |Argentina|Bs.As. G.B.A. Zona Norte|Tigre||    Argentina   \n",
       "57703  |Argentina|Bs.As. G.B.A. Zona Norte|Tigre||    Argentina   \n",
       "57759  |Argentina|Bs.As. G.B.A. Zona Norte|Tigre||    Argentina   \n",
       "57764  |Argentina|Bs.As. G.B.A. Zona Norte|Tigre||    Argentina   \n",
       "57793  |Argentina|Bs.As. G.B.A. Zona Norte|Tigre||    Argentina   \n",
       "58004  |Argentina|Bs.As. G.B.A. Zona Norte|Tigre||    Argentina   \n",
       "58037  |Argentina|Bs.As. G.B.A. Zona Norte|Tigre||    Argentina   \n",
       "59069  |Argentina|Bs.As. G.B.A. Zona Norte|Tigre||    Argentina   \n",
       "62411  |Argentina|Bs.As. G.B.A. Zona Norte|Tigre||    Argentina   \n",
       "62413  |Argentina|Bs.As. G.B.A. Zona Norte|Tigre||    Argentina   \n",
       "63849  |Argentina|Bs.As. G.B.A. Zona Norte|Tigre||    Argentina   \n",
       "\n",
       "                     state_name  geonames_id                        lat-lon  \\\n",
       "6489   Bs.As. G.B.A. Zona Norte          NaN    -34.4008968545,-58.63809847   \n",
       "10201  Bs.As. G.B.A. Zona Norte          NaN          -34.400704,-58.638067   \n",
       "11451  Bs.As. G.B.A. Zona Norte          NaN  -34.4026880384,-58.6262613379   \n",
       "14839  Bs.As. G.B.A. Zona Norte          NaN  -34.4007994779,-58.6381735719   \n",
       "18622  Bs.As. G.B.A. Zona Norte          NaN  -34.4032781195,-58.6263503945   \n",
       "21922  Bs.As. G.B.A. Zona Norte          NaN          -34.399704,-58.638405   \n",
       "23664  Bs.As. G.B.A. Zona Norte          NaN  -34.4005161998,-58.6417999185   \n",
       "24722  Bs.As. G.B.A. Zona Norte          NaN        -34.4007292,-58.6377783   \n",
       "38856  Bs.As. G.B.A. Zona Norte          NaN         -34.425087,-58.5796585   \n",
       "45970  Bs.As. G.B.A. Zona Norte          NaN           -34.396074,-58.63738   \n",
       "46642  Bs.As. G.B.A. Zona Norte          NaN          -34.400749,-58.638754   \n",
       "53130  Bs.As. G.B.A. Zona Norte          NaN          -34.400978,-58.637809   \n",
       "55306  Bs.As. G.B.A. Zona Norte          NaN        -34.3996311,-58.6433121   \n",
       "57703  Bs.As. G.B.A. Zona Norte          NaN      -34.39033749,-58.63368988   \n",
       "57759  Bs.As. G.B.A. Zona Norte          NaN      -34.39596815,-58.63077164   \n",
       "57764  Bs.As. G.B.A. Zona Norte          NaN      -34.39635767,-58.62613678   \n",
       "57793  Bs.As. G.B.A. Zona Norte          NaN      -34.39628685,-58.62922668   \n",
       "58004  Bs.As. G.B.A. Zona Norte          NaN      -34.39104577,-58.63617897   \n",
       "58037  Bs.As. G.B.A. Zona Norte          NaN      -34.39315287,-58.63197327   \n",
       "59069  Bs.As. G.B.A. Zona Norte          NaN          -34.400849,-58.638179   \n",
       "62411  Bs.As. G.B.A. Zona Norte          NaN          -34.396485,-58.635878   \n",
       "62413  Bs.As. G.B.A. Zona Norte          NaN          -34.396485,-58.635878   \n",
       "63849  Bs.As. G.B.A. Zona Norte          NaN           -34.39452,-58.632501   \n",
       "\n",
       "             lat        lon  ...  currency price_aprox_local_currency  \\\n",
       "6489  -34.400897 -58.638098  ...       USD                 11468925.0   \n",
       "10201 -34.400704 -58.638067  ...       USD                  9439807.5   \n",
       "11451 -34.402688 -58.626261  ...       USD                  9704475.0   \n",
       "14839 -34.400799 -58.638174  ...       USD                  8469360.0   \n",
       "18622 -34.403278 -58.626350  ...       USD                 22884916.5   \n",
       "21922 -34.399704 -58.638405  ...       USD                  7763580.0   \n",
       "23664 -34.400516 -58.641800  ...       USD                  8469360.0   \n",
       "24722 -34.400729 -58.637778  ...       USD                  9351585.0   \n",
       "38856 -34.425087 -58.579659  ...       USD                 23820075.0   \n",
       "45970 -34.396074 -58.637380  ...       USD                  1676227.5   \n",
       "46642 -34.400749 -58.638754  ...       USD                 25937415.0   \n",
       "53130 -34.400978 -58.637809  ...       USD                 11116035.0   \n",
       "55306 -34.399631 -58.643312  ...       USD                  8292915.0   \n",
       "57703 -34.390337 -58.633690  ...       USD                 11468925.0   \n",
       "57759 -34.395968 -58.630772  ...       USD                 10233810.0   \n",
       "57764 -34.396358 -58.626137  ...       USD                 17115165.0   \n",
       "57793 -34.396287 -58.629227  ...       USD                 13409820.0   \n",
       "58004 -34.391046 -58.636179  ...       USD                  9704475.0   \n",
       "58037 -34.393153 -58.631973  ...       USD                 10410255.0   \n",
       "59069 -34.400849 -58.638179  ...       USD                 11292480.0   \n",
       "62411 -34.396485 -58.635878  ...       USD                  5999130.0   \n",
       "62413 -34.396485 -58.635878  ...       USD                  7393045.5   \n",
       "63849 -34.394520 -58.632501  ...       USD                  7057800.0   \n",
       "\n",
       "       price_aprox_usd  surface_total_in_m2  surface_covered_in_m2  \\\n",
       "6489          650000.0                240.0                  240.0   \n",
       "10201         535000.0                  NaN                  300.0   \n",
       "11451         550000.0               2170.0                  270.0   \n",
       "14839         480000.0                240.0                  200.0   \n",
       "18622        1297000.0                340.0                  340.0   \n",
       "21922         440000.0                  NaN                  220.0   \n",
       "23664         480000.0                294.0                  294.0   \n",
       "24722         530000.0                316.0                  270.0   \n",
       "38856        1350000.0                  NaN                  550.0   \n",
       "45970          95000.0                 55.0                   27.0   \n",
       "46642        1470000.0                  NaN                   20.0   \n",
       "53130         630000.0               1000.0                  370.0   \n",
       "55306         470000.0                254.0                  204.0   \n",
       "57703         650000.0                230.0                  230.0   \n",
       "57759         580000.0                360.0                  360.0   \n",
       "57764         970000.0                425.0                  391.0   \n",
       "57793         760000.0                250.0                  250.0   \n",
       "58004         550000.0                266.0                  230.0   \n",
       "58037         590000.0                320.0                  320.0   \n",
       "59069         640000.0                  NaN                  248.0   \n",
       "62411         340000.0                170.0                  170.0   \n",
       "62413         419000.0                250.0                  200.0   \n",
       "63849         400000.0                140.0                  140.0   \n",
       "\n",
       "       price_usd_per_m2  price_per_m2  rooms  \\\n",
       "6489        2708.333333   2708.333333    NaN   \n",
       "10201               NaN   1783.333333    5.0   \n",
       "11451        253.456221   2037.037037    NaN   \n",
       "14839       2000.000000   2400.000000    NaN   \n",
       "18622       3814.705882   3814.705882    NaN   \n",
       "21922               NaN   2000.000000    5.0   \n",
       "23664       1632.653061   1632.653061    NaN   \n",
       "24722       1677.215190   1962.962963    NaN   \n",
       "38856               NaN   2454.545455    NaN   \n",
       "45970       1727.272727   3518.518519    1.0   \n",
       "46642               NaN  73500.000000    6.0   \n",
       "53130        630.000000   1702.702703    NaN   \n",
       "55306       1850.393701   2303.921569    NaN   \n",
       "57703       2826.086957   2826.086957    NaN   \n",
       "57759       1611.111111   1611.111111    NaN   \n",
       "57764       2282.352941   2480.818414    NaN   \n",
       "57793       3040.000000   3040.000000    NaN   \n",
       "58004       2067.669173   2391.304348    NaN   \n",
       "58037       1843.750000   1843.750000    NaN   \n",
       "59069               NaN   2580.645161    5.0   \n",
       "62411       2000.000000   2000.000000    4.0   \n",
       "62413       1676.000000   2095.000000    5.0   \n",
       "63849       2857.142857   2857.142857    5.0   \n",
       "\n",
       "                                             description  \\\n",
       "6489   Espectacular casa moderna de una planta, con a...   \n",
       "10201  Corredor Responsable: SABRINA COCCONI - CSI 62...   \n",
       "11451  MUY LINDA CASA EN EXCELENTE UBICACION!! Superf...   \n",
       "14839  Muy linda casa de estilo clásico.-Planta baja;...   \n",
       "18622   Casa con increible vista al lago con playa de...   \n",
       "21922  Corredor Responsable: Matias Castelli - CUCICB...   \n",
       "23664  EXCELENTE CASA CLASICA con grandes ventanas y ...   \n",
       "24722  EN EXCLUSIVIDAD!!!!!!Lindísima casa, muy lumin...   \n",
       "38856  SANTA MARIA DE TIGRE- AL RIO - ESPECTACULAR CA...   \n",
       "45970  EDIFICIO ZERENA – EL PALMAR, NORDELTA. Torre 2...   \n",
       "46642  Corredor Responsable: Matias Castelli - CUCICB...   \n",
       "53130  Excelente casa en Venta en B° Santa Maria de T...   \n",
       "55306  Muy linda casa de dos plantas en lote interno ...   \n",
       "57703  Espectacular casas moderna con amplio jardín s...   \n",
       "57759  Incluye una amarra de U$S 30.000 con elevador ...   \n",
       "57764  IMPECABLE ! Sobre la laguna con excelente orie...   \n",
       "57793  Súper cálida y agradable. Ubicada en uno de lo...   \n",
       "58004  Casa clásica muy cómoda.PLANTA BAJA: Hall de e...   \n",
       "58037  Excelente casa ubicada en uno de la a pocos ba...   \n",
       "59069  Corredor Responsable: Matias Castelli - CUCICB...   \n",
       "62411  Hermosa casa en lote perimetral, Excelente cal...   \n",
       "62413  Muy linda casa a estrenar sobre lote perimetra...   \n",
       "63849  Casa estilo colonial de una planta sobre lote ...   \n",
       "\n",
       "                                                   title  \n",
       "6489               Venta de casa en Santa María de Tigre  \n",
       "10201  VENTA CASA SANTA MARÍA DE TIGRE COUNTRY BARRIO...  \n",
       "11451                     SANTA MARIA DE TIGRE IMPECABLE  \n",
       "14839              Venta de casa en Santa María de Tigre  \n",
       "18622  Casa con increible vista al lago con playa y m...  \n",
       "21922           Venta Casa - Barrio Santa Maria de Tigre  \n",
       "23664    CASA EN VENTA EN SANTA MARIA DE TIGRE CON RENTA  \n",
       "24722              Venta de casa en Santa María de Tigre  \n",
       "38856                       Casa (barrio cerrado), Venta  \n",
       "45970  Excelente monoambiente. Barrio El Palmar.  Con...  \n",
       "46642                               Venta de Casa al rio  \n",
       "53130                                      Casa en Venta  \n",
       "55306             Santa María de Tigre. Casa con amarra.  \n",
       "57703                           SANTA MARIA DE TIGRE 100  \n",
       "57759                           SANTA MARIA DE TIGRE 100  \n",
       "57764                           SANTA MARIA DE TIGRE 100  \n",
       "57793                           SANTA MARIA DE TIGRE 100  \n",
       "58004                           SANTA MARIA DE TIGRE 100  \n",
       "58037                           SANTA MARIA DE TIGRE 100  \n",
       "59069      CASA EN VENTA AL AGUA EN SANTA MARIA DE TIGRE  \n",
       "62411       VENTA CASA A ESTRENAR EN LAS TIPAS NORDELTA   \n",
       "62413             Muy linda casa a estrenar en Las Tipas  \n",
       "63849                    Oportunidad! Casa en La Alameda  \n",
       "\n",
       "[23 rows x 21 columns]"
      ]
     },
     "execution_count": 16,
     "metadata": {},
     "output_type": "execute_result"
    }
   ],
   "source": [
    "place_name_nulos = data.loc[data.place_name.isnull(), :]\n",
    "place_name_nulos"
   ]
  },
  {
   "cell_type": "markdown",
   "id": "0e5d7150",
   "metadata": {},
   "source": [
    "Todos los valores nulos son de Tigre."
   ]
  },
  {
   "cell_type": "code",
   "execution_count": 17,
   "id": "17a59634",
   "metadata": {},
   "outputs": [],
   "source": [
    "data.place_name.fillna('Tigre', inplace = True)"
   ]
  },
  {
   "cell_type": "code",
   "execution_count": 18,
   "id": "af3a5494",
   "metadata": {},
   "outputs": [
    {
     "data": {
      "text/plain": [
       "0"
      ]
     },
     "execution_count": 18,
     "metadata": {},
     "output_type": "execute_result"
    }
   ],
   "source": [
    "data.place_name.isnull().sum()"
   ]
  },
  {
   "cell_type": "code",
   "execution_count": 19,
   "id": "76c48211",
   "metadata": {},
   "outputs": [
    {
     "data": {
      "text/plain": [
       "'Tigre'"
      ]
     },
     "execution_count": 19,
     "metadata": {},
     "output_type": "execute_result"
    }
   ],
   "source": [
    "data.place_name[6489]"
   ]
  },
  {
   "cell_type": "markdown",
   "id": "ee5bacdc",
   "metadata": {},
   "source": [
    "Reemplazo de todos los valores nulos por \"Tigre\", ya que en place_with_parent_names contiene en todos 'Tigre' "
   ]
  },
  {
   "cell_type": "markdown",
   "id": "06cbb3d2",
   "metadata": {},
   "source": [
    "##### Columna country_name"
   ]
  },
  {
   "cell_type": "code",
   "execution_count": 20,
   "id": "0155460e",
   "metadata": {},
   "outputs": [
    {
     "data": {
      "text/plain": [
       "country_name\n",
       "Argentina    114724\n",
       "Name: country_name, dtype: int64"
      ]
     },
     "execution_count": 20,
     "metadata": {},
     "output_type": "execute_result"
    }
   ],
   "source": [
    "# Como vemos posee la totalidad de valores Argentina, por lo que no agregaría valor. Atacaremos el Drop de columnas más adelante.\n",
    "country_name_group = data.groupby('country_name').country_name.count()\n",
    "country_name_group"
   ]
  },
  {
   "cell_type": "markdown",
   "id": "fe683ced",
   "metadata": {},
   "source": [
    "Todos los valores son \"Argentina\" y no hay vacios."
   ]
  },
  {
   "cell_type": "markdown",
   "id": "325f9e03",
   "metadata": {},
   "source": [
    "##### Columna state_name"
   ]
  },
  {
   "cell_type": "code",
   "execution_count": 21,
   "id": "5e027e59",
   "metadata": {},
   "outputs": [
    {
     "data": {
      "text/plain": [
       "state_name\n",
       "Bs.As. G.B.A. Zona Norte        24680\n",
       "Bs.As. G.B.A. Zona Oeste         9001\n",
       "Bs.As. G.B.A. Zona Sur          13505\n",
       "Buenos Aires Costa Atlántica     9908\n",
       "Buenos Aires Interior            2248\n",
       "Capital Federal                 30207\n",
       "Catamarca                          27\n",
       "Chaco                              57\n",
       "Chubut                            259\n",
       "Corrientes                        572\n",
       "Córdoba                         11304\n",
       "Entre Ríos                        352\n",
       "Formosa                            26\n",
       "Jujuy                              26\n",
       "La Pampa                          153\n",
       "La Rioja                            4\n",
       "Mendoza                           646\n",
       "Misiones                          401\n",
       "Neuquén                           569\n",
       "Río Negro                         789\n",
       "Salta                             276\n",
       "San Juan                           40\n",
       "San Luis                          245\n",
       "Santa Cruz                         20\n",
       "Santa Fe                         8783\n",
       "Santiago Del Estero                 4\n",
       "Tierra Del Fuego                   31\n",
       "Tucumán                           591\n",
       "Name: state_name, dtype: int64"
      ]
     },
     "execution_count": 21,
     "metadata": {},
     "output_type": "execute_result"
    }
   ],
   "source": [
    "state_name_group = data.groupby('state_name').state_name.count()\n",
    "state_name_group"
   ]
  },
  {
   "cell_type": "markdown",
   "id": "7e0b26f2",
   "metadata": {},
   "source": [
    "Ningun valor nulo. Algunas provincias poseen pocas observaciones, cosa que analizaremos más adelante"
   ]
  },
  {
   "cell_type": "markdown",
   "id": "9dba603c",
   "metadata": {},
   "source": [
    "##### Columna place_with_parent_names"
   ]
  },
  {
   "cell_type": "code",
   "execution_count": 22,
   "id": "26883f28",
   "metadata": {},
   "outputs": [
    {
     "data": {
      "text/plain": [
       "Index(['|Argentina|Bs.As. G.B.A. Zona Norte|',\n",
       "       '|Argentina|Bs.As. G.B.A. Zona Norte|Escobar|',\n",
       "       '|Argentina|Bs.As. G.B.A. Zona Norte|Escobar| Country Maschwitz Club|',\n",
       "       '|Argentina|Bs.As. G.B.A. Zona Norte|Escobar|Acacias Blancas|',\n",
       "       '|Argentina|Bs.As. G.B.A. Zona Norte|Escobar|Altos de Matheu|',\n",
       "       '|Argentina|Bs.As. G.B.A. Zona Norte|Escobar|Barrio Acacias|',\n",
       "       '|Argentina|Bs.As. G.B.A. Zona Norte|Escobar|Barrio Alamo Alto|',\n",
       "       '|Argentina|Bs.As. G.B.A. Zona Norte|Escobar|Barrio Araucarias|',\n",
       "       '|Argentina|Bs.As. G.B.A. Zona Norte|Escobar|Barrio Ceibos|',\n",
       "       '|Argentina|Bs.As. G.B.A. Zona Norte|Escobar|Barrio Cerrado \"El Aromo\"|',\n",
       "       ...\n",
       "       '|Argentina|Tucumán|', '|Argentina|Tucumán|Banda del Río Salí|',\n",
       "       '|Argentina|Tucumán|Concepción|', '|Argentina|Tucumán|Las Talitas|',\n",
       "       '|Argentina|Tucumán|Lules|',\n",
       "       '|Argentina|Tucumán|San Miguel de Tucumán|',\n",
       "       '|Argentina|Tucumán|Tafí Viejo|', '|Argentina|Tucumán|Tafí del Valle|',\n",
       "       '|Argentina|Tucumán|Villa Belgrano|',\n",
       "       '|Argentina|Tucumán|Yerba Buena|'],\n",
       "      dtype='object', name='place_with_parent_names', length=1164)"
      ]
     },
     "execution_count": 22,
     "metadata": {},
     "output_type": "execute_result"
    }
   ],
   "source": [
    "# Analizamos esta columna que como vemos abajo tiene separado por una barra vertical cada ubicación de más general a menos general.\n",
    "# Parte del país, luego va a la provincia, luego la localidad y el barrio en algunos casos.\n",
    "\n",
    "place_with_parent_names_group = data.groupby('place_with_parent_names').place_with_parent_names.count()\n",
    "place_with_parent_names_group.index"
   ]
  },
  {
   "cell_type": "code",
   "execution_count": 23,
   "id": "ab378524",
   "metadata": {},
   "outputs": [
    {
     "name": "stdout",
     "output_type": "stream",
     "text": [
      "Contiene 1164 valores distintos\n"
     ]
    }
   ],
   "source": [
    "print(\"Contiene\", len(place_with_parent_names_group.index),\"valores distintos\")"
   ]
  },
  {
   "cell_type": "code",
   "execution_count": 24,
   "id": "fe12f64d",
   "metadata": {},
   "outputs": [
    {
     "data": {
      "text/html": [
       "<div>\n",
       "<style scoped>\n",
       "    .dataframe tbody tr th:only-of-type {\n",
       "        vertical-align: middle;\n",
       "    }\n",
       "\n",
       "    .dataframe tbody tr th {\n",
       "        vertical-align: top;\n",
       "    }\n",
       "\n",
       "    .dataframe thead th {\n",
       "        text-align: right;\n",
       "    }\n",
       "</style>\n",
       "<table border=\"1\" class=\"dataframe\">\n",
       "  <thead>\n",
       "    <tr style=\"text-align: right;\">\n",
       "      <th></th>\n",
       "      <th>0</th>\n",
       "      <th>1</th>\n",
       "      <th>2</th>\n",
       "      <th>3</th>\n",
       "      <th>4</th>\n",
       "      <th>5</th>\n",
       "      <th>6</th>\n",
       "    </tr>\n",
       "  </thead>\n",
       "  <tbody>\n",
       "    <tr>\n",
       "      <th>0</th>\n",
       "      <td></td>\n",
       "      <td>Argentina</td>\n",
       "      <td>Capital Federal</td>\n",
       "      <td>Mataderos</td>\n",
       "      <td></td>\n",
       "      <td>None</td>\n",
       "      <td>None</td>\n",
       "    </tr>\n",
       "    <tr>\n",
       "      <th>1</th>\n",
       "      <td></td>\n",
       "      <td>Argentina</td>\n",
       "      <td>Bs.As. G.B.A. Zona Sur</td>\n",
       "      <td>La Plata</td>\n",
       "      <td></td>\n",
       "      <td>None</td>\n",
       "      <td>None</td>\n",
       "    </tr>\n",
       "    <tr>\n",
       "      <th>2</th>\n",
       "      <td></td>\n",
       "      <td>Argentina</td>\n",
       "      <td>Capital Federal</td>\n",
       "      <td>Mataderos</td>\n",
       "      <td></td>\n",
       "      <td>None</td>\n",
       "      <td>None</td>\n",
       "    </tr>\n",
       "    <tr>\n",
       "      <th>3</th>\n",
       "      <td></td>\n",
       "      <td>Argentina</td>\n",
       "      <td>Capital Federal</td>\n",
       "      <td>Liniers</td>\n",
       "      <td></td>\n",
       "      <td>None</td>\n",
       "      <td>None</td>\n",
       "    </tr>\n",
       "    <tr>\n",
       "      <th>4</th>\n",
       "      <td></td>\n",
       "      <td>Argentina</td>\n",
       "      <td>Buenos Aires Costa Atlántica</td>\n",
       "      <td>Mar del Plata</td>\n",
       "      <td>Centro</td>\n",
       "      <td></td>\n",
       "      <td>None</td>\n",
       "    </tr>\n",
       "    <tr>\n",
       "      <th>...</th>\n",
       "      <td>...</td>\n",
       "      <td>...</td>\n",
       "      <td>...</td>\n",
       "      <td>...</td>\n",
       "      <td>...</td>\n",
       "      <td>...</td>\n",
       "      <td>...</td>\n",
       "    </tr>\n",
       "    <tr>\n",
       "      <th>121215</th>\n",
       "      <td></td>\n",
       "      <td>Argentina</td>\n",
       "      <td>Capital Federal</td>\n",
       "      <td>Belgrano</td>\n",
       "      <td></td>\n",
       "      <td>None</td>\n",
       "      <td>None</td>\n",
       "    </tr>\n",
       "    <tr>\n",
       "      <th>121216</th>\n",
       "      <td></td>\n",
       "      <td>Argentina</td>\n",
       "      <td>Bs.As. G.B.A. Zona Norte</td>\n",
       "      <td>San Isidro</td>\n",
       "      <td>Beccar</td>\n",
       "      <td></td>\n",
       "      <td>None</td>\n",
       "    </tr>\n",
       "    <tr>\n",
       "      <th>121217</th>\n",
       "      <td></td>\n",
       "      <td>Argentina</td>\n",
       "      <td>Capital Federal</td>\n",
       "      <td>Villa Urquiza</td>\n",
       "      <td></td>\n",
       "      <td>None</td>\n",
       "      <td>None</td>\n",
       "    </tr>\n",
       "    <tr>\n",
       "      <th>121218</th>\n",
       "      <td></td>\n",
       "      <td>Argentina</td>\n",
       "      <td>Buenos Aires Costa Atlántica</td>\n",
       "      <td>Mar del Plata</td>\n",
       "      <td>Plaza Colón</td>\n",
       "      <td></td>\n",
       "      <td>None</td>\n",
       "    </tr>\n",
       "    <tr>\n",
       "      <th>121219</th>\n",
       "      <td></td>\n",
       "      <td>Argentina</td>\n",
       "      <td>Capital Federal</td>\n",
       "      <td></td>\n",
       "      <td>None</td>\n",
       "      <td>None</td>\n",
       "      <td>None</td>\n",
       "    </tr>\n",
       "  </tbody>\n",
       "</table>\n",
       "<p>114724 rows × 7 columns</p>\n",
       "</div>"
      ],
      "text/plain": [
       "       0           1                             2              3  \\\n",
       "0          Argentina               Capital Federal      Mataderos   \n",
       "1          Argentina        Bs.As. G.B.A. Zona Sur       La Plata   \n",
       "2          Argentina               Capital Federal      Mataderos   \n",
       "3          Argentina               Capital Federal        Liniers   \n",
       "4          Argentina  Buenos Aires Costa Atlántica  Mar del Plata   \n",
       "...    ..        ...                           ...            ...   \n",
       "121215     Argentina               Capital Federal       Belgrano   \n",
       "121216     Argentina      Bs.As. G.B.A. Zona Norte     San Isidro   \n",
       "121217     Argentina               Capital Federal  Villa Urquiza   \n",
       "121218     Argentina  Buenos Aires Costa Atlántica  Mar del Plata   \n",
       "121219     Argentina               Capital Federal                  \n",
       "\n",
       "                  4     5     6  \n",
       "0                    None  None  \n",
       "1                    None  None  \n",
       "2                    None  None  \n",
       "3                    None  None  \n",
       "4            Centro        None  \n",
       "...             ...   ...   ...  \n",
       "121215               None  None  \n",
       "121216       Beccar        None  \n",
       "121217               None  None  \n",
       "121218  Plaza Colón        None  \n",
       "121219         None  None  None  \n",
       "\n",
       "[114724 rows x 7 columns]"
      ]
     },
     "execution_count": 24,
     "metadata": {},
     "output_type": "execute_result"
    }
   ],
   "source": [
    "#Separamos la columna por la barra verical para poder aperturarlo.\n",
    "\n",
    "placestr=data.place_with_parent_names.str\n",
    "placeseparado = placestr.split('|', expand=True)\n",
    "placeseparado"
   ]
  },
  {
   "cell_type": "code",
   "execution_count": 25,
   "id": "5a2e0f1f",
   "metadata": {},
   "outputs": [],
   "source": [
    "# Renombramos las columnas del nuevo DF para luego comparar. Tener en cuenta que place_name tiene la mínima expresión de la ubicación.\n",
    "\n",
    "placeseparado.rename(columns={1:'country_name_nuevo', 2:'state_name_nuevo', 3:'place_name_nuevo1', 4:'place_name_nuevo2'},inplace=True)"
   ]
  },
  {
   "cell_type": "code",
   "execution_count": 26,
   "id": "875be322",
   "metadata": {},
   "outputs": [
    {
     "name": "stdout",
     "output_type": "stream",
     "text": [
      "<class 'pandas.core.frame.DataFrame'>\n",
      "Int64Index: 114724 entries, 0 to 121219\n",
      "Data columns (total 7 columns):\n",
      " #   Column              Non-Null Count   Dtype \n",
      "---  ------              --------------   ----- \n",
      " 0   0                   114724 non-null  object\n",
      " 1   country_name_nuevo  114724 non-null  object\n",
      " 2   state_name_nuevo    114724 non-null  object\n",
      " 3   place_name_nuevo1   114724 non-null  object\n",
      " 4   place_name_nuevo2   110438 non-null  object\n",
      " 5   5                   38987 non-null   object\n",
      " 6   6                   527 non-null     object\n",
      "dtypes: object(7)\n",
      "memory usage: 12.0+ MB\n"
     ]
    }
   ],
   "source": [
    "placeseparado.info()"
   ]
  },
  {
   "cell_type": "code",
   "execution_count": 27,
   "id": "592023dd",
   "metadata": {},
   "outputs": [
    {
     "data": {
      "text/plain": [
       "True    114724\n",
       "dtype: int64"
      ]
     },
     "execution_count": 27,
     "metadata": {},
     "output_type": "execute_result"
    }
   ],
   "source": [
    "#comparamos si coinciden el país que extrajimos de la columna con country_name. Está ok\n",
    "controlpaises = data['country_name'] == placeseparado['country_name_nuevo']\n",
    "controlpaises.value_counts()"
   ]
  },
  {
   "cell_type": "code",
   "execution_count": 28,
   "id": "88aed5f2",
   "metadata": {},
   "outputs": [
    {
     "data": {
      "text/plain": [
       "True    114724\n",
       "dtype: int64"
      ]
     },
     "execution_count": 28,
     "metadata": {},
     "output_type": "execute_result"
    }
   ],
   "source": [
    "#comparamos ahora si coincide la provincia y está ok.\n",
    "controlprovincias = data['state_name'] == placeseparado['state_name_nuevo']\n",
    "controlprovincias.value_counts()"
   ]
  },
  {
   "cell_type": "code",
   "execution_count": 29,
   "id": "b13a63b1",
   "metadata": {},
   "outputs": [
    {
     "data": {
      "text/plain": [
       "    527\n",
       "Name: 6, dtype: int64"
      ]
     },
     "execution_count": 29,
     "metadata": {},
     "output_type": "execute_result"
    }
   ],
   "source": [
    "# tratamos de analizar ahora place_name.\n",
    "# vemos que la columna 6 del nuevo DF son vacios asique la podemos eliminar\n",
    "placeseparado[6][placeseparado[6].notnull()].value_counts()"
   ]
  },
  {
   "cell_type": "code",
   "execution_count": 30,
   "id": "68208c8a",
   "metadata": {},
   "outputs": [
    {
     "name": "stdout",
     "output_type": "stream",
     "text": [
      "                             38460\n",
      "Barrio Los Alisos              262\n",
      "Barrio La Alameda               62\n",
      "BarrioPortezuelo                52\n",
      "Barrio Los Lagos                39\n",
      "Barrio El Golf                  31\n",
      "Enyoi                           16\n",
      "Barrio Los Castores             13\n",
      "QBay Yacht                      13\n",
      "Barrio Las Glorietas            10\n",
      "Barrio La Isla                  10\n",
      "Islas del Canal                  6\n",
      "Barrio Los Sauces                4\n",
      "Barrio Barrancas del Lago        4\n",
      "Barrio Cabos del Lago            3\n",
      "Barrio El Yacht                  1\n",
      "Barrio Los Tilos                 1\n",
      "Name: 5, dtype: int64\n",
      "Barrio Los Alisos            262\n",
      "Barrio La Alameda             62\n",
      "BarrioPortezuelo              52\n",
      "Barrio Los Lagos              39\n",
      "Barrio El Golf                31\n",
      "Enyoi                         16\n",
      "QBay Yacht                    13\n",
      "Barrio Los Castores           13\n",
      "Barrio La Isla                10\n",
      "Barrio Las Glorietas          10\n",
      "Islas del Canal                6\n",
      "Barrio Los Sauces              4\n",
      "Barrio Barrancas del Lago      4\n",
      "Barrio Cabos del Lago          3\n",
      "Barrio Los Tilos               1\n",
      "Barrio El Yacht                1\n",
      "Name: 5, dtype: int64\n"
     ]
    }
   ],
   "source": [
    "# vemos que la columna 5 del nuevo DF la mayoría son vacíos y algunos son Barrios.\n",
    "a = placeseparado[5][placeseparado[5].notnull()].value_counts()\n",
    "print(a)\n",
    "\n",
    "# transformamos en NaN los vacíos\n",
    "placeseparado[5] = placeseparado[5].apply(lambda x: np.NaN if x=='' else x)\n",
    "a = placeseparado[5][placeseparado[5].notnull()].value_counts()\n",
    "print(a)"
   ]
  },
  {
   "cell_type": "code",
   "execution_count": 31,
   "id": "7b38fd85",
   "metadata": {},
   "outputs": [
    {
     "data": {
      "text/plain": [
       "Córdoba                                  8544\n",
       "Rosario                                  7142\n",
       "Mar del Plata                            6486\n",
       "Tigre                                    3205\n",
       "Nordelta                                 3036\n",
       "                                         ... \n",
       "Cinco Saltos                                1\n",
       "Country Golf El Sosiego                     1\n",
       "Nelson                                      1\n",
       "Rocha                                       1\n",
       "San Eliseo Country, Golf, Hotel & Spa       1\n",
       "Name: place_name, Length: 1060, dtype: int64"
      ]
     },
     "execution_count": 31,
     "metadata": {},
     "output_type": "execute_result"
    }
   ],
   "source": [
    "data.place_name.value_counts()"
   ]
  },
  {
   "cell_type": "code",
   "execution_count": 32,
   "id": "a8a7a124",
   "metadata": {},
   "outputs": [
    {
     "name": "stdout",
     "output_type": "stream",
     "text": [
      "17                   Barrio El Golf\n",
      "33                   Barrio El Golf\n",
      "278            Barrio Las Glorietas\n",
      "416                Barrio Los Lagos\n",
      "446            Barrio Las Glorietas\n",
      "                    ...            \n",
      "117011                   QBay Yacht\n",
      "118210             Barrio Los Lagos\n",
      "118841    Barrio Barrancas del Lago\n",
      "119583    Barrio Barrancas del Lago\n",
      "120156    Barrio Barrancas del Lago\n",
      "Name: place_name, Length: 527, dtype: object\n",
      "True    527\n",
      "dtype: int64\n",
      "Nordelta    527\n",
      "Name: place_name_nuevo2, dtype: int64\n"
     ]
    },
    {
     "data": {
      "text/plain": [
       "Córdoba                                  8544\n",
       "Rosario                                  7142\n",
       "Mar del Plata                            6486\n",
       "Tigre                                    3205\n",
       "Nordelta                                 3036\n",
       "                                         ... \n",
       "Cinco Saltos                                1\n",
       "Country Golf El Sosiego                     1\n",
       "Nelson                                      1\n",
       "Rocha                                       1\n",
       "San Eliseo Country, Golf, Hotel & Spa       1\n",
       "Name: place_name, Length: 1060, dtype: int64"
      ]
     },
     "execution_count": 32,
     "metadata": {},
     "output_type": "execute_result"
    }
   ],
   "source": [
    "# De esta columna 5 del nuevo DF se puede ver que son barrios cerrados y coinciden con el data frame original.\n",
    "b = data.place_name[placeseparado[5].notnull()]\n",
    "print(b)\n",
    "\n",
    "c = placeseparado[5][placeseparado[5].notnull()] == b\n",
    "print(c.value_counts())\n",
    "\n",
    "# Acá vemos que la totalidad de esos Barrios corresponden a Nordelta, por lo que los sacamos del Data Frame original\n",
    "# y reemplazamos todos esos valores por Nordelta para poder analizarlos mejor\n",
    "d = placeseparado['place_name_nuevo2'][placeseparado[5].notnull()]\n",
    "print(d.value_counts())\n",
    "\n",
    "data.place_name[placeseparado[5].notnull()] == d\n",
    "data.place_name.value_counts()"
   ]
  },
  {
   "cell_type": "code",
   "execution_count": 33,
   "id": "68588546",
   "metadata": {},
   "outputs": [
    {
     "name": "stdout",
     "output_type": "stream",
     "text": [
      "                                      71474\n",
      "Nordelta                               3563\n",
      "La Plata                               1696\n",
      "Olivos                                 1565\n",
      "Lomas de Zamora                        1208\n",
      "                                      ...  \n",
      "Barrio Cerrado \"Las Araucarias\"           1\n",
      "William Morris                            1\n",
      "Colina de Peralta Ramos                   1\n",
      "Barrio Cerrado El Casco de Alvarez        1\n",
      "Villa Argüello                            1\n",
      "Name: place_name_nuevo2, Length: 568, dtype: int64\n",
      "Nordelta                                     3563\n",
      "La Plata                                     1696\n",
      "Olivos                                       1565\n",
      "Lomas de Zamora                              1208\n",
      "Ramos Mejía                                  1120\n",
      "                                             ... \n",
      "Villars                                         1\n",
      "Barrio Cerrado La Masia                         1\n",
      "The Boating Club                                1\n",
      "Complejo de Barrios Privados La Magdalena       1\n",
      "General Pinto                                   1\n",
      "Name: place_name_nuevo2, Length: 567, dtype: int64\n"
     ]
    }
   ],
   "source": [
    "# vemos que la columna 4 que llamamos place_name_nuevo2 del nuevo DF la mayoría son vacíos.\n",
    "a = placeseparado.place_name_nuevo2[placeseparado['place_name_nuevo2'].notnull()].value_counts()\n",
    "print(a)\n",
    "\n",
    "# transformamos en NaN los vacíos\n",
    "placeseparado.place_name_nuevo2 = placeseparado.place_name_nuevo2.apply(lambda x: np.NaN if x=='' else x)\n",
    "a = placeseparado.place_name_nuevo2[placeseparado['place_name_nuevo2'].notnull()].value_counts()\n",
    "print(a)"
   ]
  },
  {
   "cell_type": "code",
   "execution_count": 34,
   "id": "dee565ce",
   "metadata": {},
   "outputs": [
    {
     "name": "stdout",
     "output_type": "stream",
     "text": [
      "4               Centro\n",
      "6                Munro\n",
      "12            Martínez\n",
      "13        Palermo Soho\n",
      "14        Palermo Soho\n",
      "              ...     \n",
      "121211        Acassuso\n",
      "121212        Acassuso\n",
      "121213        Martínez\n",
      "121216          Beccar\n",
      "121218     Plaza Colón\n",
      "Name: place_name, Length: 38964, dtype: object\n",
      "True     38437\n",
      "False      527\n",
      "dtype: int64\n",
      "Tigre              6240\n",
      "Vicente López      3348\n",
      "Lomas de Zamora    3113\n",
      "La Plata           2508\n",
      "San Isidro         2301\n",
      "                   ... \n",
      "J A de la Peña        1\n",
      "Balcarce              1\n",
      "General Pinto         1\n",
      "Villarino             1\n",
      "Ramallo               1\n",
      "Name: place_name_nuevo1, Length: 80, dtype: int64\n"
     ]
    }
   ],
   "source": [
    "# De esta columna 4 del nuevo DF se puede ver que todo coincide con place_name.\n",
    "b = data.place_name[placeseparado['place_name_nuevo2'].notnull()]\n",
    "print(b)\n",
    "\n",
    "c = placeseparado.place_name_nuevo2[placeseparado['place_name_nuevo2'].notnull()] == b\n",
    "print(c.value_counts())\n",
    "\n",
    "d = placeseparado['place_name_nuevo1'][placeseparado['place_name_nuevo2'].notnull()]\n",
    "print(d.value_counts())"
   ]
  },
  {
   "cell_type": "markdown",
   "id": "d5942a86",
   "metadata": {},
   "source": [
    "CONCLUSIÓN DEL ANALISIS DE LAS COLUMNAS DE UBICACIÓN:"
   ]
  },
  {
   "cell_type": "markdown",
   "id": "3383dc34",
   "metadata": {},
   "source": [
    "El DataSet posee observaciones repartidas poro todo el país, y antes de sacar una conclusión, vamos a analizar el peso real de la cantidad de observaciones en cada territorio.\n",
    "\n",
    "Como vemos abajo, son 28 las zonas provinciales (incluye la provincia de Bs As separada)"
   ]
  },
  {
   "cell_type": "code",
   "execution_count": 35,
   "id": "e8425c6e",
   "metadata": {},
   "outputs": [
    {
     "name": "stdout",
     "output_type": "stream",
     "text": [
      "28\n"
     ]
    },
    {
     "data": {
      "text/plain": [
       "Capital Federal                 30207\n",
       "Bs.As. G.B.A. Zona Norte        24680\n",
       "Bs.As. G.B.A. Zona Sur          13505\n",
       "Córdoba                         11304\n",
       "Buenos Aires Costa Atlántica     9908\n",
       "Bs.As. G.B.A. Zona Oeste         9001\n",
       "Santa Fe                         8783\n",
       "Buenos Aires Interior            2248\n",
       "Río Negro                         789\n",
       "Mendoza                           646\n",
       "Tucumán                           591\n",
       "Corrientes                        572\n",
       "Neuquén                           569\n",
       "Misiones                          401\n",
       "Entre Ríos                        352\n",
       "Salta                             276\n",
       "Chubut                            259\n",
       "San Luis                          245\n",
       "La Pampa                          153\n",
       "Chaco                              57\n",
       "San Juan                           40\n",
       "Tierra Del Fuego                   31\n",
       "Catamarca                          27\n",
       "Formosa                            26\n",
       "Jujuy                              26\n",
       "Santa Cruz                         20\n",
       "Santiago Del Estero                 4\n",
       "La Rioja                            4\n",
       "Name: state_name, dtype: int64"
      ]
     },
     "execution_count": 35,
     "metadata": {},
     "output_type": "execute_result"
    }
   ],
   "source": [
    "# Vemos distribución por provincia\n",
    "distr_x_pcia = data['state_name'].value_counts()\n",
    "print(distr_x_pcia.count())\n",
    "distr_x_pcia"
   ]
  },
  {
   "cell_type": "markdown",
   "id": "bee12f79",
   "metadata": {},
   "source": [
    "Vamos a listar el tamaño en KMS2 de las distintas provincias (o zonas) de las cuales tenemos datos y a calcular la cantidad de operaciones por KM2 que tenemos en cada una\n",
    "\n",
    "#Capital Federal                 202\n",
    "#Bs.As. G.B.A. Zona Norte        1427\n",
    "#Bs.As. G.B.A. Zona Sur          1207\n",
    "#Córdoba                         165321\n",
    "#Santa Fe                        133007\n",
    "#Buenos Aires Costa Atlántica    1280\n",
    "#Bs.As. G.B.A. Zona Oeste        1046\n",
    "#Buenos Aires Interior           302611\n",
    "#Río Negro                       203013\n",
    "#Neuquén                         94078\n",
    "#Mendoza                         148827\n",
    "#Tucumán                         22524\n",
    "#Corrientes                      88199\n",
    "#Misiones                        29801\n",
    "#Entre Ríos                      78781\n",
    "#Salta                           155488\n",
    "#Chubut                          224686\n",
    "#San Luis                        76748\n",
    "#La Pampa                        143440\n",
    "#Formosa                         72066\n",
    "#Chaco                           99633\n",
    "#San Juan                        89651\n",
    "#Tierra Del Fuego                21478\n",
    "#Catamarca                       102602\n",
    "#Jujuy                           53219\n",
    "#Santa Cruz                      243943\n",
    "#Santiago Del Estero             136351\n",
    "#La Rioja                        89680"
   ]
  },
  {
   "cell_type": "code",
   "execution_count": 36,
   "id": "351a98e2",
   "metadata": {},
   "outputs": [
    {
     "name": "stdout",
     "output_type": "stream",
     "text": [
      "(28,)\n",
      "(28,)\n",
      "int64\n",
      "int64\n",
      "Capital Federal - Operaciones por KM2 -:  149.54\n",
      "Bs.As. G.B.A. Zona Norte - Operaciones por KM2 -:  17.3\n",
      "Bs.As. G.B.A. Zona Sur - Operaciones por KM2 -:  11.19\n",
      "Córdoba - Operaciones por KM2 -:  0.07\n",
      "Santa Fe - Operaciones por KM2 -:  0.07\n",
      "Buenos Aires Costa Atlántica - Operaciones por KM2 -:  7.03\n",
      "Bs.As. G.B.A. Zona Oeste - Operaciones por KM2 -:  8.4\n",
      "Buenos Aires Interior - Operaciones por KM2 -:  0.01\n",
      "Río Negro - Operaciones por KM2 -:  0.0\n",
      "Neuquen - Operaciones por KM2 -:  0.01\n",
      "Mendoza - Operaciones por KM2 -:  0.0\n",
      "Tucuman - Operaciones por KM2 -:  0.03\n",
      "Corrientes - Operaciones por KM2 -:  0.01\n",
      "Misiones - Operaciones por KM2 -:  0.01\n",
      "Entre Ríos - Operaciones por KM2 -:  0.0\n",
      "Salta - Operaciones por KM2 -:  0.0\n",
      "Chubut - Operaciones por KM2 -:  0.0\n",
      "San Luis - Operaciones por KM2 -:  0.0\n",
      "La Pampa - Operaciones por KM2 -:  0.0\n",
      "Formosa - Operaciones por KM2 -:  0.0\n",
      "Chaco - Operaciones por KM2 -:  0.0\n",
      "San Juan - Operaciones por KM2 -:  0.0\n",
      "Tierra del Fuego - Operaciones por KM2 -:  0.0\n",
      "Catamarca - Operaciones por KM2 -:  0.0\n",
      "Jujuy - Operaciones por KM2 -:  0.0\n",
      "Santa Cruz - Operaciones por KM2 -:  0.0\n",
      "Santiago del Estero - Operaciones por KM2 -:  0.0\n",
      "La Rioja - Operaciones por KM2 -:  0.0\n"
     ]
    }
   ],
   "source": [
    "tamañokms = pd.Series([202, 1427, 1207, 165321, 133007, 1280, 1046, 302611, 203013, 94078, 148827, 22524, 88199, 29801, 78781, 155488, 224686, 76748, 143440, 72066, 99633, 89651, 21478, 102602, 53219, 243943, 136351, 89680])\n",
    "print(distr_x_pcia.shape)\n",
    "print(tamañokms.shape)\n",
    "print(distr_x_pcia.dtype)\n",
    "print(tamañokms.dtype)\n",
    "\n",
    "print(\"Capital Federal - Operaciones por KM2 -: \", (distr_x_pcia[0]/tamañokms[0]).round(2))\n",
    "print(\"Bs.As. G.B.A. Zona Norte - Operaciones por KM2 -: \", (distr_x_pcia[1]/tamañokms[1]).round(2))\n",
    "print(\"Bs.As. G.B.A. Zona Sur - Operaciones por KM2 -: \", (distr_x_pcia[2]/tamañokms[2]).round(2))\n",
    "print(\"Córdoba - Operaciones por KM2 -: \", (distr_x_pcia[3]/tamañokms[3]).round(2))\n",
    "print(\"Santa Fe - Operaciones por KM2 -: \", (distr_x_pcia[4]/tamañokms[4]).round(2))\n",
    "print(\"Buenos Aires Costa Atlántica - Operaciones por KM2 -: \", (distr_x_pcia[5]/tamañokms[5]).round(2))\n",
    "print(\"Bs.As. G.B.A. Zona Oeste - Operaciones por KM2 -: \", (distr_x_pcia[6]/tamañokms[6]).round(2))\n",
    "print(\"Buenos Aires Interior - Operaciones por KM2 -: \", (distr_x_pcia[7]/tamañokms[7]).round(2))\n",
    "print(\"Río Negro - Operaciones por KM2 -: \", (distr_x_pcia[8]/tamañokms[8]).round(2))\n",
    "print(\"Neuquen - Operaciones por KM2 -: \", (distr_x_pcia[9]/tamañokms[9]).round(2))\n",
    "print(\"Mendoza - Operaciones por KM2 -: \", (distr_x_pcia[10]/tamañokms[10]).round(2))\n",
    "print(\"Tucuman - Operaciones por KM2 -: \", (distr_x_pcia[11]/tamañokms[11]).round(2))\n",
    "print(\"Corrientes - Operaciones por KM2 -: \", (distr_x_pcia[12]/tamañokms[12]).round(2))\n",
    "print(\"Misiones - Operaciones por KM2 -: \", (distr_x_pcia[13]/tamañokms[13]).round(2))\n",
    "print(\"Entre Ríos - Operaciones por KM2 -: \", (distr_x_pcia[14]/tamañokms[14]).round(2))\n",
    "print(\"Salta - Operaciones por KM2 -: \", (distr_x_pcia[15]/tamañokms[15]).round(2))\n",
    "print(\"Chubut - Operaciones por KM2 -: \", (distr_x_pcia[16]/tamañokms[16]).round(2))\n",
    "print(\"San Luis - Operaciones por KM2 -: \", (distr_x_pcia[17]/tamañokms[17]).round(2))\n",
    "print(\"La Pampa - Operaciones por KM2 -: \", (distr_x_pcia[18]/tamañokms[18]).round(2))\n",
    "print(\"Formosa - Operaciones por KM2 -: \", (distr_x_pcia[19]/tamañokms[19]).round(2))\n",
    "print(\"Chaco - Operaciones por KM2 -: \", (distr_x_pcia[20]/tamañokms[20]).round(2))\n",
    "print(\"San Juan - Operaciones por KM2 -: \", (distr_x_pcia[21]/tamañokms[21]).round(2))\n",
    "print(\"Tierra del Fuego - Operaciones por KM2 -: \", (distr_x_pcia[22]/tamañokms[22]).round(2))\n",
    "print(\"Catamarca - Operaciones por KM2 -: \", (distr_x_pcia[23]/tamañokms[23]).round(2))\n",
    "print(\"Jujuy - Operaciones por KM2 -: \", (distr_x_pcia[24]/tamañokms[24]).round(2))\n",
    "print(\"Santa Cruz - Operaciones por KM2 -: \", (distr_x_pcia[25]/tamañokms[25]).round(2))\n",
    "print(\"Santiago del Estero - Operaciones por KM2 -: \", (distr_x_pcia[26]/tamañokms[26]).round(2))\n",
    "print(\"La Rioja - Operaciones por KM2 -: \", (distr_x_pcia[27]/tamañokms[27]).round(2))\n",
    "\n"
   ]
  },
  {
   "cell_type": "code",
   "execution_count": 37,
   "id": "2df8dd3c",
   "metadata": {},
   "outputs": [
    {
     "name": "stdout",
     "output_type": "stream",
     "text": [
      "Belgrano           2753\n",
      "Palermo            2669\n",
      "Caballito          2160\n",
      "Recoleta           1483\n",
      "Villa Urquiza      1459\n",
      "                   ... \n",
      "Velez Sarsfield      38\n",
      "Villa Real           37\n",
      "Villa Soldati        14\n",
      "Villa Riachuelo       6\n",
      "Catalinas             4\n",
      "Name: place_name, Length: 62, dtype: int64\n",
      "(30207,)\n"
     ]
    },
    {
     "data": {
      "text/plain": [
       "Belgrano                2753\n",
       "Palermo                 2669\n",
       "Caballito               2160\n",
       "Recoleta                1483\n",
       "Villa Urquiza           1459\n",
       "Flores                  1275\n",
       "Villa Crespo            1218\n",
       "Barrio Norte            1124\n",
       "San Telmo               1119\n",
       "Almagro                 1067\n",
       "Capital Federal         1027\n",
       "Boedo                    852\n",
       "Nuñez                    711\n",
       "Balvanera                647\n",
       "Puerto Madero            612\n",
       "San Cristobal            608\n",
       "Saavedra                 516\n",
       "Monserrat                514\n",
       "Palermo Hollywood        461\n",
       "Floresta                 461\n",
       "Villa del Parque         447\n",
       "Villa Devoto             413\n",
       "Mataderos                412\n",
       "Barracas                 408\n",
       "Villa Luro               399\n",
       "Liniers                  383\n",
       "Palermo Soho             381\n",
       "Colegiales               344\n",
       "Parque Patricios         319\n",
       "Congreso                 296\n",
       "Coghlan                  246\n",
       "Retiro                   245\n",
       "Palermo Chico            225\n",
       "Centro / Microcentro     220\n",
       "Boca                     217\n",
       "Chacarita                204\n",
       "Constitución             203\n",
       "Villa Lugano             203\n",
       "San Nicolás              184\n",
       "Once                     175\n",
       "Name: place_name, dtype: int64"
      ]
     },
     "execution_count": 37,
     "metadata": {},
     "output_type": "execute_result"
    }
   ],
   "source": [
    "# Vemos que dentro de Capital Federal, 1027 valores no tienen definición de Localidad, por lo que estas tendremos que buscarlas por el lado de lat-lon.\n",
    "# Por otro lado vemos que Palermo está divido por zonas, en esta primera iteración lo dejaremos así.\n",
    "Control = data.place_name[data['state_name'] == 'Capital Federal']\n",
    "print(Control.value_counts())\n",
    "print(Control.shape)\n",
    "Control.value_counts().head(40)"
   ]
  },
  {
   "cell_type": "code",
   "execution_count": 38,
   "id": "33f3c8bb",
   "metadata": {},
   "outputs": [
    {
     "name": "stdout",
     "output_type": "stream",
     "text": [
      "Tigre                            3205\n",
      "Nordelta                         3036\n",
      "Pilar                            2196\n",
      "Olivos                           1565\n",
      "Martínez                         1017\n",
      "                                 ... \n",
      "Barrio Cerrado San Andres           1\n",
      "Barrio Cerrado \"La Escondida\"       1\n",
      "La Agustina                         1\n",
      "Barrio San Marco                    1\n",
      "La Arboleda de Maschwitz            1\n",
      "Name: place_name, Length: 264, dtype: int64\n",
      "(24680,)\n"
     ]
    },
    {
     "data": {
      "text/plain": [
       "Tigre                           3205\n",
       "Nordelta                        3036\n",
       "Pilar                           2196\n",
       "Olivos                          1565\n",
       "Martínez                        1017\n",
       "Escobar                         1009\n",
       "San Isidro                       958\n",
       "San Miguel                       742\n",
       "Vicente López                    670\n",
       "San Fernando                     634\n",
       "Florida                          612\n",
       "Benavidez                        597\n",
       "Villa Ballester                  584\n",
       "Beccar                           393\n",
       "General San Martín               381\n",
       "Victoria                         337\n",
       "La Lucila                        321\n",
       "San Martín                       295\n",
       "Bella Vista                      268\n",
       "Barrio Los Alisos                262\n",
       "Acassuso                         239\n",
       "Muñiz                            234\n",
       "Bs.As. G.B.A. Zona Norte         221\n",
       "Belén de Escobar                 194\n",
       "Rincón de Milberg                190\n",
       "Boulogne Sur Mer                 173\n",
       "Del Viso                         173\n",
       "Munro                            165\n",
       "Villa Adelina                    141\n",
       "José C Paz                       133\n",
       "Haras Santa Maria                126\n",
       "San Andres                       122\n",
       "Carapachay                       119\n",
       "Malvinas Argentinas              111\n",
       "Maschwitz                        107\n",
       "Santa Barbara Barrio Cerrado      93\n",
       "Don Torcuato                      90\n",
       "Villa Rosa                        88\n",
       "Delta                             84\n",
       "Barrio San Gabriel                84\n",
       "Name: place_name, dtype: int64"
      ]
     },
     "execution_count": 38,
     "metadata": {},
     "output_type": "execute_result"
    }
   ],
   "source": [
    "# Vemos que dentro de GBA Zona Norte, 221 valores no tienen definición de Localidad, por lo que al no ser significativas las eliminaremos.\n",
    "Control = data.place_name[data['state_name'] == 'Bs.As. G.B.A. Zona Norte']\n",
    "print(Control.value_counts())\n",
    "print(Control.shape)\n",
    "Control.value_counts().head(40)"
   ]
  },
  {
   "cell_type": "markdown",
   "id": "2624c355",
   "metadata": {},
   "source": [
    "CONCLUSIÓN DEL ANALISIS DE LAS COLUMNAS DE UBICACIÓN: Si bien es correcto que en el Interior existe mucho terreno con poca densidad poblacional y podríamos analizar ciudades puntuales como Santa Fe, Rosario o Córdoba, en esta primera iteración vamos a limitar el análisis a las 2 zonas con mayor cantidad de operaciones por KM2 --> Capital Federal y GBA Zona Norte."
   ]
  },
  {
   "cell_type": "code",
   "execution_count": 39,
   "id": "997cd985",
   "metadata": {},
   "outputs": [
    {
     "data": {
      "text/html": [
       "<div>\n",
       "<style scoped>\n",
       "    .dataframe tbody tr th:only-of-type {\n",
       "        vertical-align: middle;\n",
       "    }\n",
       "\n",
       "    .dataframe tbody tr th {\n",
       "        vertical-align: top;\n",
       "    }\n",
       "\n",
       "    .dataframe thead th {\n",
       "        text-align: right;\n",
       "    }\n",
       "</style>\n",
       "<table border=\"1\" class=\"dataframe\">\n",
       "  <thead>\n",
       "    <tr style=\"text-align: right;\">\n",
       "      <th></th>\n",
       "      <th>pais</th>\n",
       "      <th>provincia</th>\n",
       "      <th>localidad</th>\n",
       "      <th>barrio</th>\n",
       "      <th>geonames_id</th>\n",
       "    </tr>\n",
       "  </thead>\n",
       "  <tbody>\n",
       "    <tr>\n",
       "      <th>0</th>\n",
       "      <td>Argentina</td>\n",
       "      <td>Capital Federal</td>\n",
       "      <td>Mataderos</td>\n",
       "      <td></td>\n",
       "      <td>3430787.0</td>\n",
       "    </tr>\n",
       "    <tr>\n",
       "      <th>1</th>\n",
       "      <td>Argentina</td>\n",
       "      <td>Bs.As. G.B.A. Zona Sur</td>\n",
       "      <td>La Plata</td>\n",
       "      <td></td>\n",
       "      <td>3432039.0</td>\n",
       "    </tr>\n",
       "    <tr>\n",
       "      <th>2</th>\n",
       "      <td>Argentina</td>\n",
       "      <td>Capital Federal</td>\n",
       "      <td>Mataderos</td>\n",
       "      <td></td>\n",
       "      <td>3430787.0</td>\n",
       "    </tr>\n",
       "    <tr>\n",
       "      <th>3</th>\n",
       "      <td>Argentina</td>\n",
       "      <td>Capital Federal</td>\n",
       "      <td>Liniers</td>\n",
       "      <td></td>\n",
       "      <td>3431333.0</td>\n",
       "    </tr>\n",
       "    <tr>\n",
       "      <th>4</th>\n",
       "      <td>Argentina</td>\n",
       "      <td>Buenos Aires Costa Atlántica</td>\n",
       "      <td>Mar del Plata</td>\n",
       "      <td>Centro</td>\n",
       "      <td>3435548.0</td>\n",
       "    </tr>\n",
       "    <tr>\n",
       "      <th>...</th>\n",
       "      <td>...</td>\n",
       "      <td>...</td>\n",
       "      <td>...</td>\n",
       "      <td>...</td>\n",
       "      <td>...</td>\n",
       "    </tr>\n",
       "    <tr>\n",
       "      <th>121215</th>\n",
       "      <td>Argentina</td>\n",
       "      <td>Capital Federal</td>\n",
       "      <td>Belgrano</td>\n",
       "      <td></td>\n",
       "      <td>3436077.0</td>\n",
       "    </tr>\n",
       "    <tr>\n",
       "      <th>121216</th>\n",
       "      <td>Argentina</td>\n",
       "      <td>Bs.As. G.B.A. Zona Norte</td>\n",
       "      <td>San Isidro</td>\n",
       "      <td>Beccar</td>\n",
       "      <td>3436080.0</td>\n",
       "    </tr>\n",
       "    <tr>\n",
       "      <th>121217</th>\n",
       "      <td>Argentina</td>\n",
       "      <td>Capital Federal</td>\n",
       "      <td>Villa Urquiza</td>\n",
       "      <td></td>\n",
       "      <td>3433775.0</td>\n",
       "    </tr>\n",
       "    <tr>\n",
       "      <th>121218</th>\n",
       "      <td>Argentina</td>\n",
       "      <td>Buenos Aires Costa Atlántica</td>\n",
       "      <td>Mar del Plata</td>\n",
       "      <td>Plaza Colón</td>\n",
       "      <td>NaN</td>\n",
       "    </tr>\n",
       "    <tr>\n",
       "      <th>121219</th>\n",
       "      <td>Argentina</td>\n",
       "      <td>Capital Federal</td>\n",
       "      <td></td>\n",
       "      <td>None</td>\n",
       "      <td>3433955.0</td>\n",
       "    </tr>\n",
       "  </tbody>\n",
       "</table>\n",
       "<p>114724 rows × 5 columns</p>\n",
       "</div>"
      ],
      "text/plain": [
       "             pais                     provincia      localidad       barrio  \\\n",
       "0       Argentina               Capital Federal      Mataderos                \n",
       "1       Argentina        Bs.As. G.B.A. Zona Sur       La Plata                \n",
       "2       Argentina               Capital Federal      Mataderos                \n",
       "3       Argentina               Capital Federal        Liniers                \n",
       "4       Argentina  Buenos Aires Costa Atlántica  Mar del Plata       Centro   \n",
       "...           ...                           ...            ...          ...   \n",
       "121215  Argentina               Capital Federal       Belgrano                \n",
       "121216  Argentina      Bs.As. G.B.A. Zona Norte     San Isidro       Beccar   \n",
       "121217  Argentina               Capital Federal  Villa Urquiza                \n",
       "121218  Argentina  Buenos Aires Costa Atlántica  Mar del Plata  Plaza Colón   \n",
       "121219  Argentina               Capital Federal                        None   \n",
       "\n",
       "        geonames_id  \n",
       "0         3430787.0  \n",
       "1         3432039.0  \n",
       "2         3430787.0  \n",
       "3         3431333.0  \n",
       "4         3435548.0  \n",
       "...             ...  \n",
       "121215    3436077.0  \n",
       "121216    3436080.0  \n",
       "121217    3433775.0  \n",
       "121218          NaN  \n",
       "121219    3433955.0  \n",
       "\n",
       "[114724 rows x 5 columns]"
      ]
     },
     "execution_count": 39,
     "metadata": {},
     "output_type": "execute_result"
    }
   ],
   "source": [
    "place_split = data.place_with_parent_names.str.split('|', expand=True).rename({1:'pais', 2:'provincia', 3:'localidad', 4:'barrio'}, axis=1).drop([0,5,6], axis=1)\n",
    "place_split['geonames_id'] = data['geonames_id']\n",
    "place_split"
   ]
  },
  {
   "cell_type": "code",
   "execution_count": 40,
   "id": "4de6d02e",
   "metadata": {},
   "outputs": [
    {
     "data": {
      "text/plain": [
       "localidad\n",
       "Tigre                 8512\n",
       "Mar del Plata         7633\n",
       "Rosario               7142\n",
       "Córdoba               6108\n",
       "                      4286\n",
       "Palermo               3776\n",
       "Vicente López         3575\n",
       "Lomas de Zamora       3386\n",
       "La Plata              3231\n",
       "Pilar                 3204\n",
       "San Isidro            2927\n",
       "Belgrano              2753\n",
       "Morón                 2445\n",
       "La Matanza            2332\n",
       "Caballito             2160\n",
       "Lanús                 1782\n",
       "Escobar               1773\n",
       "Ituzaingó             1751\n",
       "Almirante Brown       1601\n",
       "General San Martín    1577\n",
       "Name: localidad, dtype: int64"
      ]
     },
     "execution_count": 40,
     "metadata": {},
     "output_type": "execute_result"
    }
   ],
   "source": [
    "localidades = place_split.groupby('localidad').localidad.count().sort_values(ascending=False)\n",
    "localidades.head(20)"
   ]
  },
  {
   "cell_type": "code",
   "execution_count": 41,
   "id": "64875646",
   "metadata": {},
   "outputs": [],
   "source": [
    "place_split['localidad'] = place_split['localidad'].apply(lambda x: np.NaN if x=='' else x)"
   ]
  },
  {
   "cell_type": "code",
   "execution_count": 42,
   "id": "1f8ae001",
   "metadata": {},
   "outputs": [
    {
     "data": {
      "text/plain": [
       "4286"
      ]
     },
     "execution_count": 42,
     "metadata": {},
     "output_type": "execute_result"
    }
   ],
   "source": [
    "mascara_sin_localidad = place_split.localidad.isnull()\n",
    "mascara_sin_localidad.sum()"
   ]
  },
  {
   "cell_type": "code",
   "execution_count": 43,
   "id": "2d7f9988",
   "metadata": {},
   "outputs": [
    {
     "data": {
      "text/plain": [
       "geonames_id\n",
       "3860255.0    2436\n",
       "3433955.0    1027\n",
       "3435907.0     442\n",
       "3844419.0     129\n",
       "3430657.0      44\n",
       "3836276.0      31\n",
       "3838231.0      21\n",
       "3837029.0      19\n",
       "3861244.0      17\n",
       "3843122.0      10\n",
       "3838830.0       8\n",
       "3837152.0       7\n",
       "3834450.0       6\n",
       "3849574.0       3\n",
       "3835868.0       3\n",
       "3862286.0       3\n",
       "3435214.0       2\n",
       "3848949.0       1\n",
       "3861887.0       1\n",
       "3853404.0       1\n",
       "Name: geonames_id, dtype: int64"
      ]
     },
     "execution_count": 43,
     "metadata": {},
     "output_type": "execute_result"
    }
   ],
   "source": [
    "mascara_sin_localidad = place_split.localidad.isnull()\n",
    "geonames_id_sin_localidad = place_split[mascara_sin_localidad].groupby('geonames_id').geonames_id.count().sort_values(ascending=False)\n",
    "geonames_id_sin_localidad"
   ]
  },
  {
   "cell_type": "code",
   "execution_count": 44,
   "id": "7ebca990",
   "metadata": {},
   "outputs": [
    {
     "data": {
      "text/plain": [
       "geonames_id\n",
       "3433955.0    1027\n",
       "Name: geonames_id, dtype: int64"
      ]
     },
     "execution_count": 44,
     "metadata": {},
     "output_type": "execute_result"
    }
   ],
   "source": [
    "repeticiones_geonames_id_sin_localidad = place_split[place_split.geonames_id == 3433955.0].groupby('geonames_id').geonames_id.count().sort_values(ascending=False)\n",
    "repeticiones_geonames_id_sin_localidad"
   ]
  },
  {
   "cell_type": "code",
   "execution_count": 45,
   "id": "42a4150a",
   "metadata": {},
   "outputs": [
    {
     "data": {
      "text/plain": [
       "geonames_id\n",
       "3435907.0    442\n",
       "Name: geonames_id, dtype: int64"
      ]
     },
     "execution_count": 45,
     "metadata": {},
     "output_type": "execute_result"
    }
   ],
   "source": [
    "repeticiones_geonames_id_sin_localidad = place_split[place_split.geonames_id == 3435907.0].groupby('geonames_id').geonames_id.count().sort_values(ascending=False)\n",
    "repeticiones_geonames_id_sin_localidad"
   ]
  },
  {
   "cell_type": "markdown",
   "id": "5b604472",
   "metadata": {},
   "source": [
    "Podemos ver que los dos geonames_id que nos faltan en ningun registro tienen imputado la localidad."
   ]
  },
  {
   "cell_type": "code",
   "execution_count": 46,
   "id": "cb3429c9",
   "metadata": {},
   "outputs": [],
   "source": [
    "mascara_capital = place_split.provincia == 'Capital Federal'"
   ]
  },
  {
   "cell_type": "code",
   "execution_count": 47,
   "id": "d81b508b",
   "metadata": {},
   "outputs": [],
   "source": [
    "mascara_bs_as_nor = place_split.provincia == 'Bs.As. G.B.A. Zona Norte'"
   ]
  },
  {
   "cell_type": "code",
   "execution_count": 48,
   "id": "0af018a6",
   "metadata": {},
   "outputs": [
    {
     "data": {
      "text/plain": [
       "lat-lon\n",
       "-38.416097,-63.616672            77\n",
       "-31.4269482,-64.1869816          26\n",
       "-31.4703619,-64.1684118          23\n",
       "-34.6088806617,-58.439839714     18\n",
       "-34.6014466451,-58.3782083649    16\n",
       "                                 ..\n",
       "-34.5878923495,-58.5046980237     1\n",
       "-34.584666,-58.434269             1\n",
       "-34.5839138,-58.5714856           1\n",
       "-34.5837695096,-58.373169095      1\n",
       "-24.6759237,-65.048222            1\n",
       "Name: lat, Length: 728, dtype: int64"
      ]
     },
     "execution_count": 48,
     "metadata": {},
     "output_type": "execute_result"
    }
   ],
   "source": [
    "lat_lon_sin_localidad_capital = data[mascara_sin_localidad].groupby('lat-lon').lat.count().sort_values(ascending=False)\n",
    "lat_lon_sin_localidad_capital"
   ]
  },
  {
   "cell_type": "code",
   "execution_count": 49,
   "id": "4d9a28f3",
   "metadata": {},
   "outputs": [
    {
     "name": "stdout",
     "output_type": "stream",
     "text": [
      "Hay 1067 operaciones en Capital Federal sin localidad que tienen imputado lat-lon. Se repiten asi que no son datos muy fiables\n"
     ]
    }
   ],
   "source": [
    "print(\"Hay\", lat_lon_sin_localidad_capital.sum(), \"operaciones en Capital Federal sin localidad que tienen imputado lat-lon. Se repiten asi que no son datos muy fiables\")"
   ]
  },
  {
   "cell_type": "code",
   "execution_count": 50,
   "id": "d75d96f7",
   "metadata": {},
   "outputs": [
    {
     "data": {
      "text/plain": [
       "lat\n",
       "-34.533220    2\n",
       "-34.468998    1\n",
       "-34.484539    1\n",
       "Name: lat, dtype: int64"
      ]
     },
     "execution_count": 50,
     "metadata": {},
     "output_type": "execute_result"
    }
   ],
   "source": [
    "lat_lon_sin_localidad_bs_as_nor = data[mascara_sin_localidad&mascara_bs_as_nor].groupby('lat').lat.count().sort_values(ascending=False)\n",
    "lat_lon_sin_localidad_bs_as_nor"
   ]
  },
  {
   "cell_type": "code",
   "execution_count": 51,
   "id": "96ada1c7",
   "metadata": {},
   "outputs": [
    {
     "name": "stdout",
     "output_type": "stream",
     "text": [
      "Hay 4 operaciones en Bs.As. G.B.A. Zona Norte sin localidad que tienen imputado lat-lon.\n"
     ]
    }
   ],
   "source": [
    "print(\"Hay\", lat_lon_sin_localidad_bs_as_nor.sum(), \"operaciones en Bs.As. G.B.A. Zona Norte sin localidad que tienen imputado lat-lon.\")"
   ]
  },
  {
   "cell_type": "markdown",
   "id": "fd3ea184",
   "metadata": {},
   "source": [
    "### ANÁLISIS DE COLUMNAS DE 10 A 17 - PRECIO POR METRO CUADRADO"
   ]
  },
  {
   "cell_type": "markdown",
   "id": "65091341",
   "metadata": {},
   "source": [
    "#### ANÁLISIS DE PRECIOS"
   ]
  },
  {
   "cell_type": "code",
   "execution_count": 52,
   "id": "2acba3e2",
   "metadata": {},
   "outputs": [
    {
     "data": {
      "text/plain": [
       "0          62000.0\n",
       "1         150000.0\n",
       "2          72000.0\n",
       "3          95000.0\n",
       "4          64000.0\n",
       "            ...   \n",
       "121215    870000.0\n",
       "121216    498000.0\n",
       "121217    131500.0\n",
       "121218     95900.0\n",
       "121219    129000.0\n",
       "Name: price, Length: 114724, dtype: float64"
      ]
     },
     "execution_count": 52,
     "metadata": {},
     "output_type": "execute_result"
    }
   ],
   "source": [
    "# Vamos a analizar puntualmente la columna price\n",
    "# Vemos que es de tipo flotante y posee en principio los valores a los que se realizó cada operación. \n",
    "data['price']"
   ]
  },
  {
   "cell_type": "code",
   "execution_count": 53,
   "id": "4f0ad59f",
   "metadata": {},
   "outputs": [
    {
     "data": {
      "text/plain": [
       "0         USD\n",
       "1         USD\n",
       "2         USD\n",
       "3         USD\n",
       "4         USD\n",
       "         ... \n",
       "121215    USD\n",
       "121216    USD\n",
       "121217    USD\n",
       "121218    USD\n",
       "121219    USD\n",
       "Name: currency, Length: 114724, dtype: object"
      ]
     },
     "execution_count": 53,
     "metadata": {},
     "output_type": "execute_result"
    }
   ],
   "source": [
    "# Si vemos la columna siguiente (tipo Str), posee la moneda en la que se realizó la operación.\n",
    "data['currency']"
   ]
  },
  {
   "cell_type": "code",
   "execution_count": 54,
   "id": "7743587e",
   "metadata": {},
   "outputs": [
    {
     "data": {
      "text/plain": [
       "16615"
      ]
     },
     "execution_count": 54,
     "metadata": {},
     "output_type": "execute_result"
    }
   ],
   "source": [
    "# Vemos que de los 54887 valores, 3180 son nulos para la columna de price\n",
    "data.price.isnull().sum()"
   ]
  },
  {
   "cell_type": "code",
   "execution_count": 55,
   "id": "2a0f5dc1",
   "metadata": {},
   "outputs": [
    {
     "data": {
      "text/plain": [
       "16616"
      ]
     },
     "execution_count": 55,
     "metadata": {},
     "output_type": "execute_result"
    }
   ],
   "source": [
    "# Vemos también que 3180 son nulos para la columna de currency\n",
    "data.currency.isnull().sum()"
   ]
  },
  {
   "cell_type": "code",
   "execution_count": 56,
   "id": "fde9293f",
   "metadata": {},
   "outputs": [
    {
     "data": {
      "text/plain": [
       "True     114723\n",
       "False         1\n",
       "dtype: int64"
      ]
     },
     "execution_count": 56,
     "metadata": {},
     "output_type": "execute_result"
    }
   ],
   "source": [
    "# Vamos a asegurarnos que los no nulos coincidan entre las columnas\n",
    "price_nulo_bool = data.price.isnull()\n",
    "currency_nulo_bool = data.currency.isnull()\n",
    "precio_sin_currency = price_nulo_bool == currency_nulo_bool\n",
    "precio_sin_currency.value_counts()"
   ]
  },
  {
   "cell_type": "code",
   "execution_count": 57,
   "id": "f9256a0f",
   "metadata": {},
   "outputs": [
    {
     "data": {
      "text/plain": [
       "False    114723\n",
       "True          1\n",
       "Name: price, dtype: int64"
      ]
     },
     "execution_count": 57,
     "metadata": {},
     "output_type": "execute_result"
    }
   ],
   "source": [
    "# En el DF original había valores 0 en la columna Price, por lo que vamos a corroborar que ahora no exista ninguno.\n",
    "\n",
    "precios0 = data['price'] == 0\n",
    "precios0.value_counts()"
   ]
  },
  {
   "cell_type": "code",
   "execution_count": 58,
   "id": "70881b62",
   "metadata": {},
   "outputs": [
    {
     "data": {
      "text/plain": [
       "16615"
      ]
     },
     "execution_count": 58,
     "metadata": {},
     "output_type": "execute_result"
    }
   ],
   "source": [
    "#Ahora vamos a ver las otras columnas si también coinciden\n",
    "data.price_aprox_local_currency.isnull().sum()"
   ]
  },
  {
   "cell_type": "code",
   "execution_count": 59,
   "id": "96e1247b",
   "metadata": {},
   "outputs": [
    {
     "data": {
      "text/plain": [
       "16615"
      ]
     },
     "execution_count": 59,
     "metadata": {},
     "output_type": "execute_result"
    }
   ],
   "source": [
    "data.price_aprox_usd.isnull().sum()"
   ]
  },
  {
   "cell_type": "code",
   "execution_count": 60,
   "id": "2347c843",
   "metadata": {},
   "outputs": [
    {
     "name": "stdout",
     "output_type": "stream",
     "text": [
      "True    114724\n",
      "dtype: int64\n",
      "True    114724\n",
      "dtype: int64\n"
     ]
    }
   ],
   "source": [
    "# nos aseguramos que los valores de estas 3 columnas coincidan en los nulos\n",
    "price_nulo1_bool = data.price_aprox_local_currency.isnull()\n",
    "price_nulo2_bool = data.price_aprox_usd.isnull()\n",
    "price_nulo_bool = data.price.isnull()\n",
    "precio_control1 = price_nulo1_bool == price_nulo2_bool\n",
    "precio_control2 = price_nulo1_bool == price_nulo_bool\n",
    "a = precio_control1.value_counts()\n",
    "print(a)\n",
    "b = precio_control2.value_counts()\n",
    "print(b)"
   ]
  },
  {
   "cell_type": "code",
   "execution_count": 61,
   "id": "14e14c11",
   "metadata": {},
   "outputs": [
    {
     "data": {
      "text/plain": [
       "USD    85583\n",
       "ARS    12522\n",
       "PEN        2\n",
       "UYU        1\n",
       "Name: currency, dtype: int64"
      ]
     },
     "execution_count": 61,
     "metadata": {},
     "output_type": "execute_result"
    }
   ],
   "source": [
    "# Vemos que en la columna currency, actualmente hay 3 tipos de monedas, por lo que analizaremos 1 por 1 (el UYU fue eliminado por zonas, pero el tipo de cambio también era lógico).\n",
    "data['currency'].value_counts()"
   ]
  },
  {
   "cell_type": "code",
   "execution_count": 62,
   "id": "87befaf3",
   "metadata": {},
   "outputs": [
    {
     "data": {
      "text/html": [
       "<div>\n",
       "<style scoped>\n",
       "    .dataframe tbody tr th:only-of-type {\n",
       "        vertical-align: middle;\n",
       "    }\n",
       "\n",
       "    .dataframe tbody tr th {\n",
       "        vertical-align: top;\n",
       "    }\n",
       "\n",
       "    .dataframe thead th {\n",
       "        text-align: right;\n",
       "    }\n",
       "</style>\n",
       "<table border=\"1\" class=\"dataframe\">\n",
       "  <thead>\n",
       "    <tr style=\"text-align: right;\">\n",
       "      <th></th>\n",
       "      <th>place_name</th>\n",
       "      <th>country_name</th>\n",
       "      <th>state_name</th>\n",
       "      <th>price</th>\n",
       "      <th>currency</th>\n",
       "      <th>price_aprox_local_currency</th>\n",
       "      <th>price_aprox_usd</th>\n",
       "    </tr>\n",
       "  </thead>\n",
       "  <tbody>\n",
       "    <tr>\n",
       "      <th>50387</th>\n",
       "      <td>Capital Federal</td>\n",
       "      <td>Argentina</td>\n",
       "      <td>Capital Federal</td>\n",
       "      <td>380000.0</td>\n",
       "      <td>PEN</td>\n",
       "      <td>2066864.90</td>\n",
       "      <td>117139.33</td>\n",
       "    </tr>\n",
       "    <tr>\n",
       "      <th>50388</th>\n",
       "      <td>Capital Federal</td>\n",
       "      <td>Argentina</td>\n",
       "      <td>Capital Federal</td>\n",
       "      <td>950000.0</td>\n",
       "      <td>PEN</td>\n",
       "      <td>5167162.35</td>\n",
       "      <td>292848.33</td>\n",
       "    </tr>\n",
       "  </tbody>\n",
       "</table>\n",
       "</div>"
      ],
      "text/plain": [
       "            place_name country_name       state_name     price currency  \\\n",
       "50387  Capital Federal    Argentina  Capital Federal  380000.0      PEN   \n",
       "50388  Capital Federal    Argentina  Capital Federal  950000.0      PEN   \n",
       "\n",
       "       price_aprox_local_currency  price_aprox_usd  \n",
       "50387                  2066864.90        117139.33  \n",
       "50388                  5167162.35        292848.33  "
      ]
     },
     "execution_count": 62,
     "metadata": {},
     "output_type": "execute_result"
    }
   ],
   "source": [
    "#Vemos los valores de moneda PEN (Sol Peruano)\n",
    "CurrencyPEN = data.loc[:, \"currency\"] == \"PEN\"\n",
    "dfCurrencyPEN = data.loc[CurrencyPEN]\n",
    "dfCurrencyPEN.loc[:, ['place_name','country_name', 'state_name', 'price', 'currency', 'price_aprox_local_currency', 'price_aprox_usd']]"
   ]
  },
  {
   "cell_type": "code",
   "execution_count": 63,
   "id": "f91b35b8",
   "metadata": {},
   "outputs": [
    {
     "name": "stdout",
     "output_type": "stream",
     "text": [
      "0.3082605263157895\n",
      "0.30826105263157894\n"
     ]
    }
   ],
   "source": [
    "# Ok, es logico el tipo de cambio del PEN por lo que lo dejamos así\n",
    "print(117139/380000)\n",
    "print(292848/950000)"
   ]
  },
  {
   "cell_type": "code",
   "execution_count": 64,
   "id": "ac8ac8a0",
   "metadata": {},
   "outputs": [
    {
     "data": {
      "text/html": [
       "<div>\n",
       "<style scoped>\n",
       "    .dataframe tbody tr th:only-of-type {\n",
       "        vertical-align: middle;\n",
       "    }\n",
       "\n",
       "    .dataframe tbody tr th {\n",
       "        vertical-align: top;\n",
       "    }\n",
       "\n",
       "    .dataframe thead th {\n",
       "        text-align: right;\n",
       "    }\n",
       "</style>\n",
       "<table border=\"1\" class=\"dataframe\">\n",
       "  <thead>\n",
       "    <tr style=\"text-align: right;\">\n",
       "      <th></th>\n",
       "      <th>place_name</th>\n",
       "      <th>country_name</th>\n",
       "      <th>state_name</th>\n",
       "      <th>price</th>\n",
       "      <th>currency</th>\n",
       "      <th>price_aprox_local_currency</th>\n",
       "      <th>price_aprox_usd</th>\n",
       "    </tr>\n",
       "  </thead>\n",
       "  <tbody>\n",
       "    <tr>\n",
       "      <th>9</th>\n",
       "      <td>Rosario</td>\n",
       "      <td>Argentina</td>\n",
       "      <td>Santa Fe</td>\n",
       "      <td>460000.0</td>\n",
       "      <td>ARS</td>\n",
       "      <td>455201.45</td>\n",
       "      <td>25798.49</td>\n",
       "    </tr>\n",
       "    <tr>\n",
       "      <th>32</th>\n",
       "      <td>Córdoba</td>\n",
       "      <td>Argentina</td>\n",
       "      <td>Córdoba</td>\n",
       "      <td>550000.0</td>\n",
       "      <td>ARS</td>\n",
       "      <td>544262.59</td>\n",
       "      <td>30846.02</td>\n",
       "    </tr>\n",
       "    <tr>\n",
       "      <th>37</th>\n",
       "      <td>Malagueño</td>\n",
       "      <td>Argentina</td>\n",
       "      <td>Córdoba</td>\n",
       "      <td>1250000.0</td>\n",
       "      <td>ARS</td>\n",
       "      <td>1236960.43</td>\n",
       "      <td>70104.59</td>\n",
       "    </tr>\n",
       "    <tr>\n",
       "      <th>78</th>\n",
       "      <td>Posadas</td>\n",
       "      <td>Argentina</td>\n",
       "      <td>Misiones</td>\n",
       "      <td>5500000.0</td>\n",
       "      <td>ARS</td>\n",
       "      <td>5442626.35</td>\n",
       "      <td>308460.22</td>\n",
       "    </tr>\n",
       "    <tr>\n",
       "      <th>97</th>\n",
       "      <td>San Telmo</td>\n",
       "      <td>Argentina</td>\n",
       "      <td>Capital Federal</td>\n",
       "      <td>1423800.0</td>\n",
       "      <td>ARS</td>\n",
       "      <td>1408947.37</td>\n",
       "      <td>79851.93</td>\n",
       "    </tr>\n",
       "    <tr>\n",
       "      <th>...</th>\n",
       "      <td>...</td>\n",
       "      <td>...</td>\n",
       "      <td>...</td>\n",
       "      <td>...</td>\n",
       "      <td>...</td>\n",
       "      <td>...</td>\n",
       "      <td>...</td>\n",
       "    </tr>\n",
       "    <tr>\n",
       "      <th>121194</th>\n",
       "      <td>Córdoba</td>\n",
       "      <td>Argentina</td>\n",
       "      <td>Córdoba</td>\n",
       "      <td>1487000.0</td>\n",
       "      <td>ARS</td>\n",
       "      <td>1471488.13</td>\n",
       "      <td>83396.42</td>\n",
       "    </tr>\n",
       "    <tr>\n",
       "      <th>121198</th>\n",
       "      <td>Córdoba</td>\n",
       "      <td>Argentina</td>\n",
       "      <td>Córdoba</td>\n",
       "      <td>1492000.0</td>\n",
       "      <td>ARS</td>\n",
       "      <td>1476436.00</td>\n",
       "      <td>83676.84</td>\n",
       "    </tr>\n",
       "    <tr>\n",
       "      <th>121199</th>\n",
       "      <td>Córdoba</td>\n",
       "      <td>Argentina</td>\n",
       "      <td>Córdoba</td>\n",
       "      <td>1502000.0</td>\n",
       "      <td>ARS</td>\n",
       "      <td>1486331.74</td>\n",
       "      <td>84237.68</td>\n",
       "    </tr>\n",
       "    <tr>\n",
       "      <th>121200</th>\n",
       "      <td>Córdoba</td>\n",
       "      <td>Argentina</td>\n",
       "      <td>Córdoba</td>\n",
       "      <td>1498000.0</td>\n",
       "      <td>ARS</td>\n",
       "      <td>1482373.37</td>\n",
       "      <td>84013.34</td>\n",
       "    </tr>\n",
       "    <tr>\n",
       "      <th>121202</th>\n",
       "      <td>Córdoba</td>\n",
       "      <td>Argentina</td>\n",
       "      <td>Córdoba</td>\n",
       "      <td>1507000.0</td>\n",
       "      <td>ARS</td>\n",
       "      <td>1491279.61</td>\n",
       "      <td>84518.10</td>\n",
       "    </tr>\n",
       "  </tbody>\n",
       "</table>\n",
       "<p>12522 rows × 7 columns</p>\n",
       "</div>"
      ],
      "text/plain": [
       "       place_name country_name       state_name      price currency  \\\n",
       "9         Rosario    Argentina         Santa Fe   460000.0      ARS   \n",
       "32        Córdoba    Argentina          Córdoba   550000.0      ARS   \n",
       "37      Malagueño    Argentina          Córdoba  1250000.0      ARS   \n",
       "78        Posadas    Argentina         Misiones  5500000.0      ARS   \n",
       "97      San Telmo    Argentina  Capital Federal  1423800.0      ARS   \n",
       "...           ...          ...              ...        ...      ...   \n",
       "121194    Córdoba    Argentina          Córdoba  1487000.0      ARS   \n",
       "121198    Córdoba    Argentina          Córdoba  1492000.0      ARS   \n",
       "121199    Córdoba    Argentina          Córdoba  1502000.0      ARS   \n",
       "121200    Córdoba    Argentina          Córdoba  1498000.0      ARS   \n",
       "121202    Córdoba    Argentina          Córdoba  1507000.0      ARS   \n",
       "\n",
       "        price_aprox_local_currency  price_aprox_usd  \n",
       "9                        455201.45         25798.49  \n",
       "32                       544262.59         30846.02  \n",
       "37                      1236960.43         70104.59  \n",
       "78                      5442626.35        308460.22  \n",
       "97                      1408947.37         79851.93  \n",
       "...                            ...              ...  \n",
       "121194                  1471488.13         83396.42  \n",
       "121198                  1476436.00         83676.84  \n",
       "121199                  1486331.74         84237.68  \n",
       "121200                  1482373.37         84013.34  \n",
       "121202                  1491279.61         84518.10  \n",
       "\n",
       "[12522 rows x 7 columns]"
      ]
     },
     "execution_count": 64,
     "metadata": {},
     "output_type": "execute_result"
    }
   ],
   "source": [
    "#Vemos los valores de moneda ARS (Peso Argentino)\n",
    "CurrencyARS = data.loc[:, \"currency\"] == \"ARS\"\n",
    "dfCurrencyARS = data.loc[CurrencyARS]\n",
    "dfCurrencyARS.loc[:, ['place_name','country_name', 'state_name', 'price', 'currency', 'price_aprox_local_currency', 'price_aprox_usd']]"
   ]
  },
  {
   "cell_type": "code",
   "execution_count": 65,
   "id": "b6acec44",
   "metadata": {},
   "outputs": [
    {
     "name": "stdout",
     "output_type": "stream",
     "text": [
      "False    12522\n",
      "dtype: int64\n"
     ]
    },
    {
     "data": {
      "text/plain": [
       "False    12522\n",
       "dtype: int64"
      ]
     },
     "execution_count": 65,
     "metadata": {},
     "output_type": "execute_result"
    }
   ],
   "source": [
    "# Vemos que entre Price y price_aprox_local_currency no son exactamente los mismos porque seguramente la de local toma un promedio\n",
    "# del tipo de cambio, pero al menos la división entre una y otra columna debería tender a 1\n",
    "controlpricears = dfCurrencyARS.price / dfCurrencyARS.price_aprox_local_currency\n",
    "may = controlpricears > 1.05\n",
    "men = controlpricears < 0.95\n",
    "print(may.value_counts())\n",
    "men.value_counts()\n",
    "# Vemos que la diferencia en todos los casos está entre 5% mayor o menor, asique estaría ok"
   ]
  },
  {
   "cell_type": "code",
   "execution_count": 66,
   "id": "7a9a198e",
   "metadata": {},
   "outputs": [
    {
     "name": "stdout",
     "output_type": "stream",
     "text": [
      "17.83053112459975\n",
      "17.143000001190487\n"
     ]
    },
    {
     "data": {
      "text/plain": [
       "17.81490059934061"
      ]
     },
     "execution_count": 66,
     "metadata": {},
     "output_type": "execute_result"
    }
   ],
   "source": [
    "#Ahora revisaremos el Tipo de Cambio Usd/Ars\n",
    "controltipodecambio = dfCurrencyARS.price / dfCurrencyARS.price_aprox_usd\n",
    "print(controltipodecambio.max())\n",
    "print(controltipodecambio.min())\n",
    "tipo_cambio_ars_promedio = controltipodecambio.mean()\n",
    "tipo_cambio_ars_promedio\n",
    "# No tenemos las fechas de las operaciones, pero la información se corresponde con tipos de cambio del año 2017 lo que es posible\n",
    "# Por otro lado no existen tipos de cambio fuera de lo común, son todos lógicos."
   ]
  },
  {
   "cell_type": "code",
   "execution_count": 67,
   "id": "dabea65f",
   "metadata": {},
   "outputs": [
    {
     "data": {
      "text/html": [
       "<div>\n",
       "<style scoped>\n",
       "    .dataframe tbody tr th:only-of-type {\n",
       "        vertical-align: middle;\n",
       "    }\n",
       "\n",
       "    .dataframe tbody tr th {\n",
       "        vertical-align: top;\n",
       "    }\n",
       "\n",
       "    .dataframe thead th {\n",
       "        text-align: right;\n",
       "    }\n",
       "</style>\n",
       "<table border=\"1\" class=\"dataframe\">\n",
       "  <thead>\n",
       "    <tr style=\"text-align: right;\">\n",
       "      <th></th>\n",
       "      <th>place_name</th>\n",
       "      <th>country_name</th>\n",
       "      <th>state_name</th>\n",
       "      <th>price</th>\n",
       "      <th>currency</th>\n",
       "      <th>price_aprox_local_currency</th>\n",
       "      <th>price_aprox_usd</th>\n",
       "    </tr>\n",
       "  </thead>\n",
       "  <tbody>\n",
       "    <tr>\n",
       "      <th>0</th>\n",
       "      <td>Mataderos</td>\n",
       "      <td>Argentina</td>\n",
       "      <td>Capital Federal</td>\n",
       "      <td>62000.0</td>\n",
       "      <td>USD</td>\n",
       "      <td>1093959.00</td>\n",
       "      <td>62000.0</td>\n",
       "    </tr>\n",
       "    <tr>\n",
       "      <th>1</th>\n",
       "      <td>La Plata</td>\n",
       "      <td>Argentina</td>\n",
       "      <td>Bs.As. G.B.A. Zona Sur</td>\n",
       "      <td>150000.0</td>\n",
       "      <td>USD</td>\n",
       "      <td>2646675.00</td>\n",
       "      <td>150000.0</td>\n",
       "    </tr>\n",
       "    <tr>\n",
       "      <th>2</th>\n",
       "      <td>Mataderos</td>\n",
       "      <td>Argentina</td>\n",
       "      <td>Capital Federal</td>\n",
       "      <td>72000.0</td>\n",
       "      <td>USD</td>\n",
       "      <td>1270404.00</td>\n",
       "      <td>72000.0</td>\n",
       "    </tr>\n",
       "    <tr>\n",
       "      <th>3</th>\n",
       "      <td>Liniers</td>\n",
       "      <td>Argentina</td>\n",
       "      <td>Capital Federal</td>\n",
       "      <td>95000.0</td>\n",
       "      <td>USD</td>\n",
       "      <td>1676227.50</td>\n",
       "      <td>95000.0</td>\n",
       "    </tr>\n",
       "    <tr>\n",
       "      <th>4</th>\n",
       "      <td>Centro</td>\n",
       "      <td>Argentina</td>\n",
       "      <td>Buenos Aires Costa Atlántica</td>\n",
       "      <td>64000.0</td>\n",
       "      <td>USD</td>\n",
       "      <td>1129248.00</td>\n",
       "      <td>64000.0</td>\n",
       "    </tr>\n",
       "    <tr>\n",
       "      <th>...</th>\n",
       "      <td>...</td>\n",
       "      <td>...</td>\n",
       "      <td>...</td>\n",
       "      <td>...</td>\n",
       "      <td>...</td>\n",
       "      <td>...</td>\n",
       "      <td>...</td>\n",
       "    </tr>\n",
       "    <tr>\n",
       "      <th>121215</th>\n",
       "      <td>Belgrano</td>\n",
       "      <td>Argentina</td>\n",
       "      <td>Capital Federal</td>\n",
       "      <td>870000.0</td>\n",
       "      <td>USD</td>\n",
       "      <td>15350715.00</td>\n",
       "      <td>870000.0</td>\n",
       "    </tr>\n",
       "    <tr>\n",
       "      <th>121216</th>\n",
       "      <td>Beccar</td>\n",
       "      <td>Argentina</td>\n",
       "      <td>Bs.As. G.B.A. Zona Norte</td>\n",
       "      <td>498000.0</td>\n",
       "      <td>USD</td>\n",
       "      <td>8786961.00</td>\n",
       "      <td>498000.0</td>\n",
       "    </tr>\n",
       "    <tr>\n",
       "      <th>121217</th>\n",
       "      <td>Villa Urquiza</td>\n",
       "      <td>Argentina</td>\n",
       "      <td>Capital Federal</td>\n",
       "      <td>131500.0</td>\n",
       "      <td>USD</td>\n",
       "      <td>2320251.75</td>\n",
       "      <td>131500.0</td>\n",
       "    </tr>\n",
       "    <tr>\n",
       "      <th>121218</th>\n",
       "      <td>Plaza Colón</td>\n",
       "      <td>Argentina</td>\n",
       "      <td>Buenos Aires Costa Atlántica</td>\n",
       "      <td>95900.0</td>\n",
       "      <td>USD</td>\n",
       "      <td>1692107.55</td>\n",
       "      <td>95900.0</td>\n",
       "    </tr>\n",
       "    <tr>\n",
       "      <th>121219</th>\n",
       "      <td>Capital Federal</td>\n",
       "      <td>Argentina</td>\n",
       "      <td>Capital Federal</td>\n",
       "      <td>129000.0</td>\n",
       "      <td>USD</td>\n",
       "      <td>2276140.50</td>\n",
       "      <td>129000.0</td>\n",
       "    </tr>\n",
       "  </tbody>\n",
       "</table>\n",
       "<p>85583 rows × 7 columns</p>\n",
       "</div>"
      ],
      "text/plain": [
       "             place_name country_name                    state_name     price  \\\n",
       "0             Mataderos    Argentina               Capital Federal   62000.0   \n",
       "1              La Plata    Argentina        Bs.As. G.B.A. Zona Sur  150000.0   \n",
       "2             Mataderos    Argentina               Capital Federal   72000.0   \n",
       "3               Liniers    Argentina               Capital Federal   95000.0   \n",
       "4                Centro    Argentina  Buenos Aires Costa Atlántica   64000.0   \n",
       "...                 ...          ...                           ...       ...   \n",
       "121215         Belgrano    Argentina               Capital Federal  870000.0   \n",
       "121216           Beccar    Argentina      Bs.As. G.B.A. Zona Norte  498000.0   \n",
       "121217    Villa Urquiza    Argentina               Capital Federal  131500.0   \n",
       "121218      Plaza Colón    Argentina  Buenos Aires Costa Atlántica   95900.0   \n",
       "121219  Capital Federal    Argentina               Capital Federal  129000.0   \n",
       "\n",
       "       currency  price_aprox_local_currency  price_aprox_usd  \n",
       "0           USD                  1093959.00          62000.0  \n",
       "1           USD                  2646675.00         150000.0  \n",
       "2           USD                  1270404.00          72000.0  \n",
       "3           USD                  1676227.50          95000.0  \n",
       "4           USD                  1129248.00          64000.0  \n",
       "...         ...                         ...              ...  \n",
       "121215      USD                 15350715.00         870000.0  \n",
       "121216      USD                  8786961.00         498000.0  \n",
       "121217      USD                  2320251.75         131500.0  \n",
       "121218      USD                  1692107.55          95900.0  \n",
       "121219      USD                  2276140.50         129000.0  \n",
       "\n",
       "[85583 rows x 7 columns]"
      ]
     },
     "execution_count": 67,
     "metadata": {},
     "output_type": "execute_result"
    }
   ],
   "source": [
    "#Vemos los valores de moneda USD (Dolar Americano)\n",
    "CurrencyUSD = data.loc[:, \"currency\"] == \"USD\"\n",
    "dfCurrencyUSD = data.loc[CurrencyUSD]\n",
    "dfCurrencyUSD.loc[:, ['place_name','country_name', 'state_name', 'price', 'currency', 'price_aprox_local_currency', 'price_aprox_usd']]"
   ]
  },
  {
   "cell_type": "code",
   "execution_count": 68,
   "id": "13bee53f",
   "metadata": {},
   "outputs": [
    {
     "data": {
      "text/plain": [
       "0.0    85583\n",
       "dtype: int64"
      ]
     },
     "execution_count": 68,
     "metadata": {},
     "output_type": "execute_result"
    }
   ],
   "source": [
    "# Debería coincidir la columna Price con price_aprox_usd asique vamos a controlarlo\n",
    "controlvaloresenusd = dfCurrencyUSD.price - dfCurrencyUSD.price_aprox_usd\n",
    "controlvaloresenusd.value_counts()\n",
    "# Vemos que todos coinciden asique perfecto."
   ]
  },
  {
   "cell_type": "markdown",
   "id": "44bf4ba5",
   "metadata": {},
   "source": [
    "CONCLUSIÓN INICIAL PRECIOS: Consideramos que los valores incluidos en las columnas analizadas son lógicos y sólidos para ahora avanzar con la búsqueda de datos faltantes u Outliers."
   ]
  },
  {
   "cell_type": "markdown",
   "id": "36d8d733",
   "metadata": {},
   "source": [
    "Búsqueda de valores faltantes:"
   ]
  },
  {
   "cell_type": "code",
   "execution_count": 69,
   "id": "d7c35248",
   "metadata": {},
   "outputs": [
    {
     "name": "stdout",
     "output_type": "stream",
     "text": [
      "114724\n",
      "98109\n",
      "16615\n",
      "14.482584289250724\n"
     ]
    }
   ],
   "source": [
    "# recordemos que esta columna tiene 54887 datos de los cuales 3180 datos son NaN (5,79%)\n",
    "is_null_result = data.price_aprox_usd.isnull()\n",
    "is_notnull_result = data.price_aprox_usd.notnull()\n",
    "totaldata=data.price_aprox_usd.shape[0]\n",
    "print(totaldata)\n",
    "cant_notnull = is_notnull_result.sum()\n",
    "print(cant_notnull)\n",
    "cant_nulls = is_null_result.sum()\n",
    "print(cant_nulls)\n",
    "print(cant_nulls/totaldata*100)"
   ]
  },
  {
   "cell_type": "code",
   "execution_count": 70,
   "id": "1c73d797",
   "metadata": {},
   "outputs": [
    {
     "data": {
      "text/plain": [
       "0.0         112507\n",
       "120000.0        73\n",
       "110000.0        60\n",
       "85000.0         54\n",
       "130000.0        54\n",
       "             ...  \n",
       "179900.0         1\n",
       "46000.0          1\n",
       "620000.0         1\n",
       "359000.0         1\n",
       "334000.0         1\n",
       "Name: title, Length: 312, dtype: int64"
      ]
     },
     "execution_count": 70,
     "metadata": {},
     "output_type": "execute_result"
    }
   ],
   "source": [
    "# de una observación visual podemos ver que en la columna \"Title\" podemos sacar valores de publicacion que si bien pueden ser distintos\n",
    "# al valor de la operación final, no deberían distar demasiado de esta\n",
    "\n",
    "#para los valores dolares entre 1000 y 999999\n",
    "import re\n",
    "pattern_dol = \"(D *)(?P<Dolares1>[1-9]\\d\\d*).(?P<Dolares2>\\d\\d\\d)\"\n",
    "pattern_dol_regex =  re.compile(pattern_dol)\n",
    "\n",
    "resultado_dol = data.title.apply(lambda x: pattern_dol_regex.search(x))\n",
    "dol_match1 = resultado_dol.apply(lambda x: x if x is None else x.group(\"Dolares1\"))\n",
    "dol_match2 = resultado_dol.apply(lambda x: x if x is None else x.group(\"Dolares2\"))\n",
    "dol_match = dol_match1 + dol_match2\n",
    "\n",
    "dol_match_fill = dol_match.fillna(0)\n",
    "dol_match_fill_numeric = dol_match_fill.astype(float)\n",
    "\n",
    "dol_match_fill_numeric.value_counts()"
   ]
  },
  {
   "cell_type": "code",
   "execution_count": 71,
   "id": "bd9141c5",
   "metadata": {},
   "outputs": [
    {
     "data": {
      "text/plain": [
       "0.0            114703\n",
       "1200000.0           2\n",
       "1100000.0           2\n",
       "1800000.0           2\n",
       "1300000.0           2\n",
       "1000000.0           2\n",
       "11800000.0          1\n",
       "3600000.0           1\n",
       "1234567.0           1\n",
       "1690000.0           1\n",
       "1150000.0           1\n",
       "123456789.0         1\n",
       "1910000.0           1\n",
       "1380000.0           1\n",
       "1900000.0           1\n",
       "1500000.0           1\n",
       "2900000.0           1\n",
       "Name: title, dtype: int64"
      ]
     },
     "execution_count": 71,
     "metadata": {},
     "output_type": "execute_result"
    }
   ],
   "source": [
    "#para los valores dolares entre mayores a 999999\n",
    "import re\n",
    "pattern_dol = \"(D *)(?P<Dolares1>[1-9]\\d*).(?P<Dolares2>\\d\\d\\d).(?P<Dolares3>\\d\\d\\d)\"\n",
    "pattern_dol_regex =  re.compile(pattern_dol)\n",
    "\n",
    "resultado_dol = data.title.apply(lambda x: pattern_dol_regex.search(x))\n",
    "dol_match1 = resultado_dol.apply(lambda x: x if x is None else x.group(\"Dolares1\"))\n",
    "dol_match2 = resultado_dol.apply(lambda x: x if x is None else x.group(\"Dolares2\"))\n",
    "dol_match3 = resultado_dol.apply(lambda x: x if x is None else x.group(\"Dolares3\"))\n",
    "dol_match = dol_match1 + dol_match2 + dol_match3\n",
    "\n",
    "dol_match_fill = dol_match.fillna(0)\n",
    "dol_match_fill_numericmillon = dol_match_fill.astype(float)\n",
    "\n",
    "dol_match_fill_numericmillon.value_counts()"
   ]
  },
  {
   "cell_type": "code",
   "execution_count": 72,
   "id": "7678628a",
   "metadata": {},
   "outputs": [
    {
     "data": {
      "text/plain": [
       "0.000000         114473\n",
       "89812.457335         11\n",
       "72972.621584          8\n",
       "95425.735918          6\n",
       "84199.178751          6\n",
       "                  ...  \n",
       "232737.756626         1\n",
       "132198.941379         1\n",
       "68078.403988          1\n",
       "177211.204879         1\n",
       "76340.588734          1\n",
       "Name: title, Length: 166, dtype: int64"
      ]
     },
     "execution_count": 72,
     "metadata": {},
     "output_type": "execute_result"
    }
   ],
   "source": [
    "#para los valores pesos mayores a 999999 y luego lo pasamos a Dolares según el promedio del T/C\n",
    "import re\n",
    "pattern_pes = \"[$] (?P<Pesos1>[1-9]\\d*).(?P<Pesos2>\\d\\d\\d).(?P<Pesos3>\\d\\d\\d)\"\n",
    "pattern_pes_regex =  re.compile(pattern_pes)\n",
    "\n",
    "resultado_pes = data.title.apply(lambda x: pattern_pes_regex.search(x))\n",
    "pes_match1 = resultado_pes.apply(lambda x: x if x is None else x.group(\"Pesos1\"))\n",
    "pes_match2 = resultado_pes.apply(lambda x: x if x is None else x.group(\"Pesos2\"))\n",
    "pes_match3 = resultado_pes.apply(lambda x: x if x is None else x.group(\"Pesos3\"))\n",
    "pes_match = pes_match1 + pes_match2 + pes_match3\n",
    "\n",
    "pes_match_fill = pes_match.fillna(0)\n",
    "pes_match_fill_numericmillon = pes_match_fill.astype(float)\n",
    "\n",
    "pes_match_fill_numericmillonDOLAR = pes_match_fill_numericmillon / tipo_cambio_ars_promedio\n",
    "pes_match_fill_numericmillonDOLAR.value_counts()"
   ]
  },
  {
   "cell_type": "code",
   "execution_count": 73,
   "id": "460b5667",
   "metadata": {},
   "outputs": [
    {
     "data": {
      "text/plain": [
       "0.000000        114586\n",
       "50519.507251         7\n",
       "42099.589376         7\n",
       "47712.867959         5\n",
       "53326.146542         5\n",
       "                 ...  \n",
       "7072.731015          1\n",
       "8880.375117          1\n",
       "38394.825511         1\n",
       "52778.009889         1\n",
       "19534.209470         1\n",
       "Name: title, Length: 90, dtype: int64"
      ]
     },
     "execution_count": 73,
     "metadata": {},
     "output_type": "execute_result"
    }
   ],
   "source": [
    "#para los valores pesos menosres a 999999 y luego lo pasamos a Dolares según el promedio del T/C\n",
    "import re\n",
    "pattern_pes = \"[$] (?P<Pesos1>[1-9]\\d\\d\\d*).(?P<Pesos2>\\d\\d\\d)\"\n",
    "pattern_pes_regex =  re.compile(pattern_pes)\n",
    "\n",
    "resultado_pes = data.title.apply(lambda x: pattern_pes_regex.search(x))\n",
    "pes_match1 = resultado_pes.apply(lambda x: x if x is None else x.group(\"Pesos1\"))\n",
    "pes_match2 = resultado_pes.apply(lambda x: x if x is None else x.group(\"Pesos2\"))\n",
    "pes_match = pes_match1 + pes_match2\n",
    "\n",
    "pes_match_fill = pes_match.fillna(0)\n",
    "pes_match_fill_numericmenosmillon = pes_match_fill.astype(float)\n",
    "\n",
    "pes_match_fill_numericmenosmillonDOLAR = pes_match_fill_numericmenosmillon / tipo_cambio_ars_promedio\n",
    "pes_match_fill_numericmenosmillonDOLAR.value_counts()"
   ]
  },
  {
   "cell_type": "code",
   "execution_count": 74,
   "id": "3b64f7e9",
   "metadata": {},
   "outputs": [],
   "source": [
    "#Ahora en la variable \"dol_match_fill_numeric\" están los dolares menores a 999.999 Usd\n",
    "#Ahora en la variable \"dol_match_fill_numericmillon\" están los dolares mayores a 999.999 Usd\n",
    "#Ahora en la variable \"pes_match_fill_numericmillonDOLAR\" están expresados en Usd los pesos mayores a 999.999 $\n",
    "#Ahora en la variable \"pes_match_fill_numericmenosmillonDOLAR\" están expresados en Usd los pesos menores a 999.999 $"
   ]
  },
  {
   "cell_type": "code",
   "execution_count": 75,
   "id": "9a10c30b",
   "metadata": {},
   "outputs": [
    {
     "data": {
      "text/plain": [
       "16615"
      ]
     },
     "execution_count": 75,
     "metadata": {},
     "output_type": "execute_result"
    }
   ],
   "source": [
    "data.price_aprox_usd.isnull().sum()"
   ]
  },
  {
   "cell_type": "code",
   "execution_count": 76,
   "id": "db225b75",
   "metadata": {},
   "outputs": [],
   "source": [
    "# Vamos a cambiar en la columna Precio todos los NaN por los valores de dol_match_fill_numeric, tener en cuenta que quedan 0 NaN y les\n",
    "# pone 0.\n",
    "data.price_aprox_usd.fillna(value=dol_match_fill_numeric, inplace=True)"
   ]
  },
  {
   "cell_type": "code",
   "execution_count": 77,
   "id": "b254c0dd",
   "metadata": {},
   "outputs": [
    {
     "data": {
      "text/plain": [
       "0.00          14512\n",
       "120000.00      1720\n",
       "130000.00      1486\n",
       "150000.00      1420\n",
       "110000.00      1377\n",
       "              ...  \n",
       "1183000.00        1\n",
       "123090.00         1\n",
       "69257.73          1\n",
       "102021.48         1\n",
       "54846.58          1\n",
       "Name: price_aprox_usd, Length: 10382, dtype: int64"
      ]
     },
     "execution_count": 77,
     "metadata": {},
     "output_type": "execute_result"
    }
   ],
   "source": [
    "a = data.price_aprox_usd.isnull().sum()\n",
    "\n",
    "data.price_aprox_usd.value_counts()"
   ]
  },
  {
   "cell_type": "code",
   "execution_count": 78,
   "id": "281bc140",
   "metadata": {},
   "outputs": [],
   "source": [
    "data.price_aprox_usd = data.price_aprox_usd.apply(lambda x: np.NaN if x==0 else x)"
   ]
  },
  {
   "cell_type": "code",
   "execution_count": 79,
   "id": "eddf9747",
   "metadata": {},
   "outputs": [
    {
     "data": {
      "text/plain": [
       "0.00          14495\n",
       "120000.00      1720\n",
       "130000.00      1486\n",
       "150000.00      1420\n",
       "110000.00      1377\n",
       "              ...  \n",
       "1183000.00        1\n",
       "123090.00         1\n",
       "69257.73          1\n",
       "102021.48         1\n",
       "354200.00         1\n",
       "Name: price_aprox_usd, Length: 10383, dtype: int64"
      ]
     },
     "execution_count": 79,
     "metadata": {},
     "output_type": "execute_result"
    }
   ],
   "source": [
    "data.price_aprox_usd.fillna(value=dol_match_fill_numericmillon, inplace=True)\n",
    "data.price_aprox_usd.value_counts()"
   ]
  },
  {
   "cell_type": "code",
   "execution_count": 80,
   "id": "42f4a430",
   "metadata": {},
   "outputs": [],
   "source": [
    "data.price_aprox_usd = data.price_aprox_usd.apply(lambda x: np.NaN if x==0 else x)"
   ]
  },
  {
   "cell_type": "code",
   "execution_count": 81,
   "id": "051482ea",
   "metadata": {},
   "outputs": [
    {
     "data": {
      "text/plain": [
       "0.00          14395\n",
       "120000.00      1720\n",
       "130000.00      1486\n",
       "150000.00      1420\n",
       "110000.00      1377\n",
       "              ...  \n",
       "1183000.00        1\n",
       "123090.00         1\n",
       "69257.73          1\n",
       "102021.48         1\n",
       "87421.44          1\n",
       "Name: price_aprox_usd, Length: 10433, dtype: int64"
      ]
     },
     "execution_count": 81,
     "metadata": {},
     "output_type": "execute_result"
    }
   ],
   "source": [
    "data.price_aprox_usd.fillna(value=pes_match_fill_numericmillonDOLAR, inplace=True)\n",
    "data.price_aprox_usd.value_counts()"
   ]
  },
  {
   "cell_type": "code",
   "execution_count": 82,
   "id": "df9fc4d2",
   "metadata": {},
   "outputs": [],
   "source": [
    "data.price_aprox_usd = data.price_aprox_usd.apply(lambda x: np.NaN if x==0 else x)"
   ]
  },
  {
   "cell_type": "code",
   "execution_count": 83,
   "id": "1ca0ecb6",
   "metadata": {},
   "outputs": [
    {
     "data": {
      "text/plain": [
       "0.00          14322\n",
       "120000.00      1720\n",
       "130000.00      1486\n",
       "150000.00      1420\n",
       "110000.00      1377\n",
       "              ...  \n",
       "426800.00         1\n",
       "1183000.00        1\n",
       "123090.00         1\n",
       "69257.73          1\n",
       "54128.54          1\n",
       "Name: price_aprox_usd, Length: 10473, dtype: int64"
      ]
     },
     "execution_count": 83,
     "metadata": {},
     "output_type": "execute_result"
    }
   ],
   "source": [
    "data.price_aprox_usd.fillna(value=pes_match_fill_numericmenosmillonDOLAR, inplace=True)\n",
    "data.price_aprox_usd.value_counts()"
   ]
  },
  {
   "cell_type": "code",
   "execution_count": 84,
   "id": "52abac73",
   "metadata": {},
   "outputs": [],
   "source": [
    "data.price_aprox_usd = data.price_aprox_usd.apply(lambda x: np.NaN if x==0 else x)"
   ]
  },
  {
   "cell_type": "code",
   "execution_count": 85,
   "id": "61be7f93",
   "metadata": {},
   "outputs": [
    {
     "data": {
      "text/plain": [
       "14322"
      ]
     },
     "execution_count": 85,
     "metadata": {},
     "output_type": "execute_result"
    }
   ],
   "source": [
    "data.price_aprox_usd.isnull().sum()"
   ]
  },
  {
   "cell_type": "markdown",
   "id": "b7c51722",
   "metadata": {},
   "source": [
    "Con la búsqueda de valores en Title, pasamos de 3180 valores nulos a 2478."
   ]
  },
  {
   "cell_type": "markdown",
   "id": "adea33e6",
   "metadata": {},
   "source": [
    "#### ANÁLISIS DE METROS 2"
   ]
  },
  {
   "cell_type": "code",
   "execution_count": 86,
   "id": "d8507fb9",
   "metadata": {},
   "outputs": [
    {
     "name": "stdout",
     "output_type": "stream",
     "text": [
      "Cantidad surface_total_in_m2 null en df inicial: 38204\n",
      "Cantidad surface_covered_in_m2 null en df inicial: 18527\n"
     ]
    }
   ],
   "source": [
    "print('Cantidad surface_total_in_m2 null en df inicial:', data[\"surface_total_in_m2\"].isnull().sum())\n",
    "print('Cantidad surface_covered_in_m2 null en df inicial:', data[\"surface_covered_in_m2\"].isnull().sum())\n"
   ]
  },
  {
   "cell_type": "code",
   "execution_count": 87,
   "id": "8b85261a",
   "metadata": {},
   "outputs": [
    {
     "data": {
      "text/html": [
       "<div>\n",
       "<style scoped>\n",
       "    .dataframe tbody tr th:only-of-type {\n",
       "        vertical-align: middle;\n",
       "    }\n",
       "\n",
       "    .dataframe tbody tr th {\n",
       "        vertical-align: top;\n",
       "    }\n",
       "\n",
       "    .dataframe thead th {\n",
       "        text-align: right;\n",
       "    }\n",
       "</style>\n",
       "<table border=\"1\" class=\"dataframe\">\n",
       "  <thead>\n",
       "    <tr style=\"text-align: right;\">\n",
       "      <th></th>\n",
       "      <th>surface_total_in_m2</th>\n",
       "      <th>surface_covered_in_m2</th>\n",
       "    </tr>\n",
       "  </thead>\n",
       "  <tbody>\n",
       "    <tr>\n",
       "      <th>0</th>\n",
       "      <td>55.0</td>\n",
       "      <td>40.0</td>\n",
       "    </tr>\n",
       "    <tr>\n",
       "      <th>1</th>\n",
       "      <td>NaN</td>\n",
       "      <td>NaN</td>\n",
       "    </tr>\n",
       "    <tr>\n",
       "      <th>2</th>\n",
       "      <td>55.0</td>\n",
       "      <td>55.0</td>\n",
       "    </tr>\n",
       "    <tr>\n",
       "      <th>3</th>\n",
       "      <td>NaN</td>\n",
       "      <td>NaN</td>\n",
       "    </tr>\n",
       "    <tr>\n",
       "      <th>4</th>\n",
       "      <td>35.0</td>\n",
       "      <td>35.0</td>\n",
       "    </tr>\n",
       "  </tbody>\n",
       "</table>\n",
       "</div>"
      ],
      "text/plain": [
       "   surface_total_in_m2  surface_covered_in_m2\n",
       "0                 55.0                   40.0\n",
       "1                  NaN                    NaN\n",
       "2                 55.0                   55.0\n",
       "3                  NaN                    NaN\n",
       "4                 35.0                   35.0"
      ]
     },
     "execution_count": 87,
     "metadata": {},
     "output_type": "execute_result"
    }
   ],
   "source": [
    "data_m2 = data[['surface_total_in_m2','surface_covered_in_m2']]\n",
    "data_m2.head()"
   ]
  },
  {
   "cell_type": "code",
   "execution_count": 88,
   "id": "091e55ea",
   "metadata": {},
   "outputs": [
    {
     "data": {
      "text/plain": [
       "1           NaN\n",
       "3           NaN\n",
       "9           NaN\n",
       "11          NaN\n",
       "65          NaN\n",
       "          ...  \n",
       "121150     52.0\n",
       "121151     72.0\n",
       "121155    130.0\n",
       "121207    178.0\n",
       "121210    120.0\n",
       "Name: surface_total_in_m2, Length: 38204, dtype: float64"
      ]
     },
     "execution_count": 88,
     "metadata": {},
     "output_type": "execute_result"
    }
   ],
   "source": [
    "#A todos los nulos de Metros_Totales les asignamos el valor de Metros_Cubiertos\n",
    "mask_Totales = data_m2.surface_total_in_m2.isnull()\n",
    "mask_Cubiertos = data_m2.surface_covered_in_m2.isnull()\n",
    "mask_TC = np.logical_and( mask_Totales , mask_Cubiertos)\n",
    "\n",
    "mask_reemp = data_m2.loc[mask_Totales,'surface_covered_in_m2']\n",
    "data.loc[mask_Totales,'surface_total_in_m2'] = mask_reemp\n",
    "data.surface_total_in_m2[mask_Totales]"
   ]
  },
  {
   "cell_type": "code",
   "execution_count": 89,
   "id": "5baef5f6",
   "metadata": {},
   "outputs": [
    {
     "data": {
      "text/plain": [
       "False    102758\n",
       "True      11966\n",
       "Name: surface_total_in_m2, dtype: int64"
      ]
     },
     "execution_count": 89,
     "metadata": {},
     "output_type": "execute_result"
    }
   ],
   "source": [
    "data.surface_total_in_m2.isnull().value_counts(dropna = False)"
   ]
  },
  {
   "cell_type": "code",
   "execution_count": 90,
   "id": "1771cc4d",
   "metadata": {},
   "outputs": [
    {
     "data": {
      "text/plain": [
       "11966"
      ]
     },
     "execution_count": 90,
     "metadata": {},
     "output_type": "execute_result"
    }
   ],
   "source": [
    "data.surface_total_in_m2.isnull().sum()"
   ]
  },
  {
   "cell_type": "code",
   "execution_count": 91,
   "id": "202e27fe",
   "metadata": {},
   "outputs": [
    {
     "data": {
      "text/plain": [
       "1            NaN\n",
       "3            NaN\n",
       "5           53.0\n",
       "9            NaN\n",
       "10        1514.0\n",
       "           ...  \n",
       "121194      50.0\n",
       "121198      50.0\n",
       "121199      52.0\n",
       "121200      50.0\n",
       "121202      52.0\n",
       "Name: surface_total_in_m2, Length: 18527, dtype: float64"
      ]
     },
     "execution_count": 91,
     "metadata": {},
     "output_type": "execute_result"
    }
   ],
   "source": [
    "#A todos los nulos de Metros_cubiertos les asignamos el valor de Metros_totales\n",
    "mask_reemp2 = data_m2.loc[mask_Cubiertos,'surface_total_in_m2']\n",
    "data.loc[mask_Cubiertos,'surface_covered_in_m2'] = mask_reemp2\n",
    "data.surface_total_in_m2[mask_Cubiertos]"
   ]
  },
  {
   "cell_type": "code",
   "execution_count": 92,
   "id": "ba06c014",
   "metadata": {},
   "outputs": [
    {
     "name": "stdout",
     "output_type": "stream",
     "text": [
      "Cantidad surface_total_in_m2 null en df inicial: 11966\n",
      "Cantidad surface_covered_in_m2 null en df inicial: 11966\n"
     ]
    }
   ],
   "source": [
    "print('Cantidad surface_total_in_m2 null en df inicial:', data[\"surface_total_in_m2\"].isnull().sum())\n",
    "print('Cantidad surface_covered_in_m2 null en df inicial:', data[\"surface_covered_in_m2\"].isnull().sum())"
   ]
  },
  {
   "cell_type": "code",
   "execution_count": 93,
   "id": "1d121ba5",
   "metadata": {},
   "outputs": [
    {
     "data": {
      "text/plain": [
       "<AxesSubplot:xlabel='property_type', ylabel='surface_covered_in_m2'>"
      ]
     },
     "execution_count": 93,
     "metadata": {},
     "output_type": "execute_result"
    },
    {
     "data": {
      "image/png": "[encoded data removed]",
      "text/plain": [
       "<Figure size 720x504 with 2 Axes>"
      ]
     },
     "metadata": {},
     "output_type": "display_data"
    }
   ],
   "source": [
    "fig, axs = plt.subplots(ncols=2, figsize=(10,7))\n",
    "\n",
    "sns.boxplot(x = \"property_type\", y = \"surface_total_in_m2\", data=data,\n",
    "               palette=[\"lightblue\", \"lightpink\"], ax=axs[0])\n",
    "\n",
    "sns.boxplot(x = \"property_type\", y = \"surface_covered_in_m2\", data=data,\n",
    "               palette=[\"lightblue\", \"lightpink\"], ax=axs[1])"
   ]
  },
  {
   "cell_type": "code",
   "execution_count": 94,
   "id": "30e4bd61",
   "metadata": {},
   "outputs": [
    {
     "data": {
      "text/plain": [
       "(114724, 21)"
      ]
     },
     "execution_count": 94,
     "metadata": {},
     "output_type": "execute_result"
    }
   ],
   "source": [
    "data.shape"
   ]
  },
  {
   "cell_type": "code",
   "execution_count": 95,
   "id": "226cb9bc",
   "metadata": {},
   "outputs": [],
   "source": [
    "#saco outliers de superficie TOTAL mayor a 10.000m2 y menor a 10m2\n",
    "data = data[data['surface_total_in_m2'] < 10000]\n",
    "\n"
   ]
  },
  {
   "cell_type": "code",
   "execution_count": 96,
   "id": "5274bb2f",
   "metadata": {},
   "outputs": [
    {
     "data": {
      "text/plain": [
       "(101971, 21)"
      ]
     },
     "execution_count": 96,
     "metadata": {},
     "output_type": "execute_result"
    }
   ],
   "source": [
    "data = data[data['surface_total_in_m2'] > 10]\n",
    "data.shape"
   ]
  },
  {
   "cell_type": "code",
   "execution_count": 97,
   "id": "f9daf3c5",
   "metadata": {},
   "outputs": [],
   "source": [
    "#saco outliers de superficie CUBIERTA a 10.000m2 y menor a 10m2\n",
    "data = data[data['surface_covered_in_m2'] < 10000]"
   ]
  },
  {
   "cell_type": "code",
   "execution_count": 98,
   "id": "6badf901",
   "metadata": {},
   "outputs": [
    {
     "data": {
      "text/plain": [
       "(101830, 21)"
      ]
     },
     "execution_count": 98,
     "metadata": {},
     "output_type": "execute_result"
    }
   ],
   "source": [
    "data = data[data['surface_covered_in_m2'] > 10]\n",
    "data.shape"
   ]
  },
  {
   "cell_type": "code",
   "execution_count": 99,
   "id": "1a2c2a52",
   "metadata": {},
   "outputs": [
    {
     "data": {
      "text/plain": [
       "<AxesSubplot:xlabel='property_type', ylabel='surface_covered_in_m2'>"
      ]
     },
     "execution_count": 99,
     "metadata": {},
     "output_type": "execute_result"
    },
    {
     "data": {
      "image/png": "[encoded data removed]",
      "text/plain": [
       "<Figure size 720x504 with 2 Axes>"
      ]
     },
     "metadata": {},
     "output_type": "display_data"
    }
   ],
   "source": [
    "#volvemos a graficar para ver el resultado\n",
    "fig, axs = plt.subplots(ncols=2, figsize=(10,7))\n",
    "\n",
    "sns.boxplot(x = \"property_type\", y = \"surface_total_in_m2\", data=data,\n",
    "               palette=[\"lightblue\", \"lightpink\"], ax=axs[0])\n",
    "\n",
    "sns.boxplot(x = \"property_type\", y = \"surface_covered_in_m2\", data=data,\n",
    "               palette=[\"lightblue\", \"lightpink\"], ax=axs[1])"
   ]
  },
  {
   "cell_type": "markdown",
   "id": "c51e6010",
   "metadata": {},
   "source": [
    "#### CREAMOS COLUMNA DE USD/M2"
   ]
  },
  {
   "cell_type": "code",
   "execution_count": 100,
   "id": "7870d910",
   "metadata": {},
   "outputs": [
    {
     "data": {
      "text/plain": [
       "(101830, 22)"
      ]
     },
     "execution_count": 100,
     "metadata": {},
     "output_type": "execute_result"
    }
   ],
   "source": [
    "# Creamos columna con los datos de Usd/M2 según SUPERFICIE CUBIERTA\n",
    "data[\"USDxM2C\"] = data[\"price_aprox_usd\"]/data[\"surface_covered_in_m2\"]\n",
    "data.shape"
   ]
  },
  {
   "cell_type": "code",
   "execution_count": 101,
   "id": "a1b060e8",
   "metadata": {},
   "outputs": [
    {
     "data": {
      "text/plain": [
       "(101830, 23)"
      ]
     },
     "execution_count": 101,
     "metadata": {},
     "output_type": "execute_result"
    }
   ],
   "source": [
    "# Creamos columna con los datos de Usd/M2 según SUPERFICIE TOTAL\n",
    "data[\"USDxM2T\"] = data[\"price_aprox_usd\"]/data[\"surface_total_in_m2\"]\n",
    "data.shape"
   ]
  },
  {
   "cell_type": "code",
   "execution_count": 102,
   "id": "9cf9e7c0",
   "metadata": {},
   "outputs": [
    {
     "data": {
      "text/plain": [
       "(101830, 24)"
      ]
     },
     "execution_count": 102,
     "metadata": {},
     "output_type": "execute_result"
    }
   ],
   "source": [
    "data['USDxM2'] = data['USDxM2C']\n",
    "data.shape"
   ]
  },
  {
   "cell_type": "code",
   "execution_count": 103,
   "id": "89eab9e6",
   "metadata": {},
   "outputs": [
    {
     "name": "stdout",
     "output_type": "stream",
     "text": [
      "Cantidad total datos USDxM2: 101830\n",
      "Cantidad nulos datos USDxM2: 9709\n"
     ]
    }
   ],
   "source": [
    "print('Cantidad total datos USDxM2:', data[\"USDxM2\"].shape[0])\n",
    "print('Cantidad nulos datos USDxM2:', data[\"USDxM2\"].isnull().sum())"
   ]
  },
  {
   "cell_type": "code",
   "execution_count": 104,
   "id": "1ecd485f",
   "metadata": {},
   "outputs": [
    {
     "name": "stdout",
     "output_type": "stream",
     "text": [
      "(101830, 24)\n",
      "(92121, 24)\n"
     ]
    }
   ],
   "source": [
    "# Ahora procedemos a eliminar todas las filas donde no tenemos Usd/m2 ya que es un dato clave que no vemos conveniente inferir.\n",
    "print(data.shape)\n",
    "data = data.dropna(subset=['USDxM2'], axis = 0) \n",
    "print(data.shape)"
   ]
  },
  {
   "cell_type": "code",
   "execution_count": 105,
   "id": "b785d732",
   "metadata": {},
   "outputs": [
    {
     "data": {
      "text/html": [
       "<div>\n",
       "<style scoped>\n",
       "    .dataframe tbody tr th:only-of-type {\n",
       "        vertical-align: middle;\n",
       "    }\n",
       "\n",
       "    .dataframe tbody tr th {\n",
       "        vertical-align: top;\n",
       "    }\n",
       "\n",
       "    .dataframe thead th {\n",
       "        text-align: right;\n",
       "    }\n",
       "</style>\n",
       "<table border=\"1\" class=\"dataframe\">\n",
       "  <thead>\n",
       "    <tr style=\"text-align: right;\">\n",
       "      <th></th>\n",
       "      <th>geonames_id</th>\n",
       "      <th>lat</th>\n",
       "      <th>lon</th>\n",
       "      <th>price</th>\n",
       "      <th>price_aprox_local_currency</th>\n",
       "      <th>price_aprox_usd</th>\n",
       "      <th>surface_total_in_m2</th>\n",
       "      <th>surface_covered_in_m2</th>\n",
       "      <th>price_usd_per_m2</th>\n",
       "      <th>price_per_m2</th>\n",
       "      <th>rooms</th>\n",
       "      <th>USDxM2C</th>\n",
       "      <th>USDxM2T</th>\n",
       "      <th>USDxM2</th>\n",
       "    </tr>\n",
       "  </thead>\n",
       "  <tbody>\n",
       "    <tr>\n",
       "      <th>count</th>\n",
       "      <td>7.621700e+04</td>\n",
       "      <td>54824.000000</td>\n",
       "      <td>54824.000000</td>\n",
       "      <td>8.996700e+04</td>\n",
       "      <td>8.996700e+04</td>\n",
       "      <td>9.212100e+04</td>\n",
       "      <td>92121.000000</td>\n",
       "      <td>92121.000000</td>\n",
       "      <td>66288.000000</td>\n",
       "      <td>8.487100e+04</td>\n",
       "      <td>38830.000000</td>\n",
       "      <td>92121.000000</td>\n",
       "      <td>92121.000000</td>\n",
       "      <td>92121.000000</td>\n",
       "    </tr>\n",
       "    <tr>\n",
       "      <th>mean</th>\n",
       "      <td>3.548367e+06</td>\n",
       "      <td>-34.729303</td>\n",
       "      <td>-59.002804</td>\n",
       "      <td>4.522937e+05</td>\n",
       "      <td>4.318867e+06</td>\n",
       "      <td>2.436370e+05</td>\n",
       "      <td>180.345307</td>\n",
       "      <td>127.665017</td>\n",
       "      <td>2150.185593</td>\n",
       "      <td>6.057387e+03</td>\n",
       "      <td>2.986531</td>\n",
       "      <td>2487.999432</td>\n",
       "      <td>2230.179704</td>\n",
       "      <td>2487.999432</td>\n",
       "    </tr>\n",
       "    <tr>\n",
       "      <th>std</th>\n",
       "      <td>3.719148e+05</td>\n",
       "      <td>1.729844</td>\n",
       "      <td>1.944578</td>\n",
       "      <td>8.901174e+05</td>\n",
       "      <td>5.767976e+06</td>\n",
       "      <td>3.243313e+05</td>\n",
       "      <td>358.706560</td>\n",
       "      <td>225.002648</td>\n",
       "      <td>2751.173422</td>\n",
       "      <td>1.823441e+04</td>\n",
       "      <td>1.719283</td>\n",
       "      <td>3405.701147</td>\n",
       "      <td>3200.937918</td>\n",
       "      <td>3405.701147</td>\n",
       "    </tr>\n",
       "    <tr>\n",
       "      <th>min</th>\n",
       "      <td>3.427208e+06</td>\n",
       "      <td>-54.819736</td>\n",
       "      <td>-71.665143</td>\n",
       "      <td>5.000000e+03</td>\n",
       "      <td>8.234017e+04</td>\n",
       "      <td>4.666620e+03</td>\n",
       "      <td>11.000000</td>\n",
       "      <td>11.000000</td>\n",
       "      <td>8.062025</td>\n",
       "      <td>1.116865e+01</td>\n",
       "      <td>1.000000</td>\n",
       "      <td>3.204781</td>\n",
       "      <td>3.204781</td>\n",
       "      <td>3.204781</td>\n",
       "    </tr>\n",
       "    <tr>\n",
       "      <th>25%</th>\n",
       "      <td>3.429979e+06</td>\n",
       "      <td>-34.655474</td>\n",
       "      <td>-58.668478</td>\n",
       "      <td>1.100000e+05</td>\n",
       "      <td>1.626661e+06</td>\n",
       "      <td>9.200000e+04</td>\n",
       "      <td>50.000000</td>\n",
       "      <td>45.000000</td>\n",
       "      <td>1203.736231</td>\n",
       "      <td>1.535308e+03</td>\n",
       "      <td>2.000000</td>\n",
       "      <td>1400.000000</td>\n",
       "      <td>1200.000000</td>\n",
       "      <td>1400.000000</td>\n",
       "    </tr>\n",
       "    <tr>\n",
       "      <th>50%</th>\n",
       "      <td>3.433357e+06</td>\n",
       "      <td>-34.598316</td>\n",
       "      <td>-58.469229</td>\n",
       "      <td>1.882500e+05</td>\n",
       "      <td>2.646675e+06</td>\n",
       "      <td>1.500000e+05</td>\n",
       "      <td>83.000000</td>\n",
       "      <td>75.000000</td>\n",
       "      <td>1800.000000</td>\n",
       "      <td>2.196970e+03</td>\n",
       "      <td>3.000000</td>\n",
       "      <td>1944.444444</td>\n",
       "      <td>1777.777778</td>\n",
       "      <td>1944.444444</td>\n",
       "    </tr>\n",
       "    <tr>\n",
       "      <th>75%</th>\n",
       "      <td>3.436109e+06</td>\n",
       "      <td>-34.491257</td>\n",
       "      <td>-58.396087</td>\n",
       "      <td>4.100000e+05</td>\n",
       "      <td>4.869149e+06</td>\n",
       "      <td>2.750000e+05</td>\n",
       "      <td>191.000000</td>\n",
       "      <td>150.000000</td>\n",
       "      <td>2483.333333</td>\n",
       "      <td>3.311018e+03</td>\n",
       "      <td>4.000000</td>\n",
       "      <td>2696.969697</td>\n",
       "      <td>2449.438202</td>\n",
       "      <td>2696.969697</td>\n",
       "    </tr>\n",
       "    <tr>\n",
       "      <th>max</th>\n",
       "      <td>6.948895e+06</td>\n",
       "      <td>-23.137164</td>\n",
       "      <td>-54.556127</td>\n",
       "      <td>1.000000e+08</td>\n",
       "      <td>2.470230e+08</td>\n",
       "      <td>1.400000e+07</td>\n",
       "      <td>9900.000000</td>\n",
       "      <td>9849.000000</td>\n",
       "      <td>206333.333333</td>\n",
       "      <td>4.000000e+06</td>\n",
       "      <td>32.000000</td>\n",
       "      <td>233333.333333</td>\n",
       "      <td>224334.704800</td>\n",
       "      <td>233333.333333</td>\n",
       "    </tr>\n",
       "  </tbody>\n",
       "</table>\n",
       "</div>"
      ],
      "text/plain": [
       "        geonames_id           lat           lon         price  \\\n",
       "count  7.621700e+04  54824.000000  54824.000000  8.996700e+04   \n",
       "mean   3.548367e+06    -34.729303    -59.002804  4.522937e+05   \n",
       "std    3.719148e+05      1.729844      1.944578  8.901174e+05   \n",
       "min    3.427208e+06    -54.819736    -71.665143  5.000000e+03   \n",
       "25%    3.429979e+06    -34.655474    -58.668478  1.100000e+05   \n",
       "50%    3.433357e+06    -34.598316    -58.469229  1.882500e+05   \n",
       "75%    3.436109e+06    -34.491257    -58.396087  4.100000e+05   \n",
       "max    6.948895e+06    -23.137164    -54.556127  1.000000e+08   \n",
       "\n",
       "       price_aprox_local_currency  price_aprox_usd  surface_total_in_m2  \\\n",
       "count                8.996700e+04     9.212100e+04         92121.000000   \n",
       "mean                 4.318867e+06     2.436370e+05           180.345307   \n",
       "std                  5.767976e+06     3.243313e+05           358.706560   \n",
       "min                  8.234017e+04     4.666620e+03            11.000000   \n",
       "25%                  1.626661e+06     9.200000e+04            50.000000   \n",
       "50%                  2.646675e+06     1.500000e+05            83.000000   \n",
       "75%                  4.869149e+06     2.750000e+05           191.000000   \n",
       "max                  2.470230e+08     1.400000e+07          9900.000000   \n",
       "\n",
       "       surface_covered_in_m2  price_usd_per_m2  price_per_m2         rooms  \\\n",
       "count           92121.000000      66288.000000  8.487100e+04  38830.000000   \n",
       "mean              127.665017       2150.185593  6.057387e+03      2.986531   \n",
       "std               225.002648       2751.173422  1.823441e+04      1.719283   \n",
       "min                11.000000          8.062025  1.116865e+01      1.000000   \n",
       "25%                45.000000       1203.736231  1.535308e+03      2.000000   \n",
       "50%                75.000000       1800.000000  2.196970e+03      3.000000   \n",
       "75%               150.000000       2483.333333  3.311018e+03      4.000000   \n",
       "max              9849.000000     206333.333333  4.000000e+06     32.000000   \n",
       "\n",
       "             USDxM2C        USDxM2T         USDxM2  \n",
       "count   92121.000000   92121.000000   92121.000000  \n",
       "mean     2487.999432    2230.179704    2487.999432  \n",
       "std      3405.701147    3200.937918    3405.701147  \n",
       "min         3.204781       3.204781       3.204781  \n",
       "25%      1400.000000    1200.000000    1400.000000  \n",
       "50%      1944.444444    1777.777778    1944.444444  \n",
       "75%      2696.969697    2449.438202    2696.969697  \n",
       "max    233333.333333  224334.704800  233333.333333  "
      ]
     },
     "execution_count": 105,
     "metadata": {},
     "output_type": "execute_result"
    }
   ],
   "source": [
    "data.describe ()"
   ]
  },
  {
   "cell_type": "code",
   "execution_count": 106,
   "id": "72b3deae",
   "metadata": {},
   "outputs": [
    {
     "data": {
      "image/png": "[encoded data removed]",
      "text/plain": [
       "<Figure size 504x360 with 1 Axes>"
      ]
     },
     "metadata": {},
     "output_type": "display_data"
    }
   ],
   "source": [
    "# Vemos la existencia de Outliers\n",
    "sns.set_style('darkgrid')\n",
    "plt.figure(figsize=(7, 5))\n",
    "plt.xticks(rotation=90)\n",
    "sns.boxplot(data=data.state_name[data.property_type=='house'], x=data.state_name[data.property_type=='house'], y=data.USDxM2)\n",
    "\n",
    "plt.xlabel(\"Ciudades\"); plt.ylabel(\"USDxM2\");plt.title(\"Distribución $/m3 por Ciudad CASAS\")\n",
    "plt.show()"
   ]
  },
  {
   "cell_type": "code",
   "execution_count": 107,
   "id": "510f57ee",
   "metadata": {},
   "outputs": [],
   "source": [
    "#saco outliers de precio por m2\n",
    "data = data[data['USDxM2'] < 10000]"
   ]
  },
  {
   "cell_type": "code",
   "execution_count": 108,
   "id": "f66e354c",
   "metadata": {},
   "outputs": [
    {
     "data": {
      "image/png": "[encoded data removed]",
      "text/plain": [
       "<Figure size 504x720 with 1 Axes>"
      ]
     },
     "metadata": {},
     "output_type": "display_data"
    }
   ],
   "source": [
    "sns.set_style(\"whitegrid\")\n",
    "plt.figure(figsize=(7, 10))\n",
    "plt.xticks(rotation=90)\n",
    "\n",
    "sns.boxplot(data=data.state_name[data.property_type=='house'], x=data.state_name[data.property_type=='house'], y=data.USDxM2)\n",
    "plt.xlabel(\"Ciudades\"); plt.ylabel(\"USDxM2\");plt.title(\"Distribución Dólares por M2 por Ciudad\")\n",
    "plt.show()"
   ]
  },
  {
   "cell_type": "code",
   "execution_count": 109,
   "id": "cdd04114",
   "metadata": {},
   "outputs": [
    {
     "name": "stdout",
     "output_type": "stream",
     "text": [
      "<class 'pandas.core.frame.DataFrame'>\n",
      "Int64Index: 90502 entries, 0 to 121219\n",
      "Data columns (total 24 columns):\n",
      " #   Column                      Non-Null Count  Dtype  \n",
      "---  ------                      --------------  -----  \n",
      " 0   operation                   90502 non-null  object \n",
      " 1   property_type               90502 non-null  object \n",
      " 2   place_name                  90502 non-null  object \n",
      " 3   place_with_parent_names     90502 non-null  object \n",
      " 4   country_name                90502 non-null  object \n",
      " 5   state_name                  90502 non-null  object \n",
      " 6   geonames_id                 74726 non-null  float64\n",
      " 7   lat-lon                     53844 non-null  object \n",
      " 8   lat                         53844 non-null  float64\n",
      " 9   lon                         53844 non-null  float64\n",
      " 10  price                       88351 non-null  float64\n",
      " 11  currency                    88351 non-null  object \n",
      " 12  price_aprox_local_currency  88351 non-null  float64\n",
      " 13  price_aprox_usd             90502 non-null  float64\n",
      " 14  surface_total_in_m2         90502 non-null  float64\n",
      " 15  surface_covered_in_m2       90502 non-null  float64\n",
      " 16  price_usd_per_m2            65413 non-null  float64\n",
      " 17  price_per_m2                83263 non-null  float64\n",
      " 18  rooms                       37427 non-null  float64\n",
      " 19  description                 90501 non-null  object \n",
      " 20  title                       90502 non-null  object \n",
      " 21  USDxM2C                     90502 non-null  float64\n",
      " 22  USDxM2T                     90502 non-null  float64\n",
      " 23  USDxM2                      90502 non-null  float64\n",
      "dtypes: float64(14), object(10)\n",
      "memory usage: 19.8+ MB\n"
     ]
    }
   ],
   "source": [
    "data.info()"
   ]
  },
  {
   "cell_type": "code",
   "execution_count": 110,
   "id": "011ef65b",
   "metadata": {},
   "outputs": [],
   "source": [
    "#HACER TODO ESTE ANALISIS PERO CON TODO ARGENTINA\n",
    "#data_agrupado = data.groupby(['property_type', 'state_name'])\n",
    "#data_agrupado.describe()['USDxM2'].round(2)"
   ]
  },
  {
   "cell_type": "code",
   "execution_count": 111,
   "id": "a7078d2f",
   "metadata": {},
   "outputs": [
    {
     "data": {
      "text/html": [
       "<div>\n",
       "<style scoped>\n",
       "    .dataframe tbody tr th:only-of-type {\n",
       "        vertical-align: middle;\n",
       "    }\n",
       "\n",
       "    .dataframe tbody tr th {\n",
       "        vertical-align: top;\n",
       "    }\n",
       "\n",
       "    .dataframe thead th {\n",
       "        text-align: right;\n",
       "    }\n",
       "</style>\n",
       "<table border=\"1\" class=\"dataframe\">\n",
       "  <thead>\n",
       "    <tr style=\"text-align: right;\">\n",
       "      <th></th>\n",
       "      <th></th>\n",
       "      <th>count</th>\n",
       "      <th>mean</th>\n",
       "      <th>std</th>\n",
       "      <th>min</th>\n",
       "      <th>25%</th>\n",
       "      <th>50%</th>\n",
       "      <th>75%</th>\n",
       "      <th>max</th>\n",
       "    </tr>\n",
       "    <tr>\n",
       "      <th>property_type</th>\n",
       "      <th>country_name</th>\n",
       "      <th></th>\n",
       "      <th></th>\n",
       "      <th></th>\n",
       "      <th></th>\n",
       "      <th></th>\n",
       "      <th></th>\n",
       "      <th></th>\n",
       "      <th></th>\n",
       "    </tr>\n",
       "  </thead>\n",
       "  <tbody>\n",
       "    <tr>\n",
       "      <th>PH</th>\n",
       "      <th>Argentina</th>\n",
       "      <td>4576.0</td>\n",
       "      <td>1846.15</td>\n",
       "      <td>1090.97</td>\n",
       "      <td>15.13</td>\n",
       "      <td>1208.33</td>\n",
       "      <td>1617.33</td>\n",
       "      <td>2187.50</td>\n",
       "      <td>9950.00</td>\n",
       "    </tr>\n",
       "    <tr>\n",
       "      <th>apartment</th>\n",
       "      <th>Argentina</th>\n",
       "      <td>52837.0</td>\n",
       "      <td>2510.95</td>\n",
       "      <td>1116.83</td>\n",
       "      <td>3.20</td>\n",
       "      <td>1785.71</td>\n",
       "      <td>2302.63</td>\n",
       "      <td>3000.00</td>\n",
       "      <td>9938.57</td>\n",
       "    </tr>\n",
       "    <tr>\n",
       "      <th>house</th>\n",
       "      <th>Argentina</th>\n",
       "      <td>30331.0</td>\n",
       "      <td>1548.92</td>\n",
       "      <td>958.95</td>\n",
       "      <td>8.06</td>\n",
       "      <td>1030.65</td>\n",
       "      <td>1400.00</td>\n",
       "      <td>1825.25</td>\n",
       "      <td>9995.00</td>\n",
       "    </tr>\n",
       "    <tr>\n",
       "      <th>store</th>\n",
       "      <th>Argentina</th>\n",
       "      <td>2758.0</td>\n",
       "      <td>2212.06</td>\n",
       "      <td>1703.13</td>\n",
       "      <td>8.31</td>\n",
       "      <td>1015.47</td>\n",
       "      <td>1714.29</td>\n",
       "      <td>2820.51</td>\n",
       "      <td>9950.00</td>\n",
       "    </tr>\n",
       "  </tbody>\n",
       "</table>\n",
       "</div>"
      ],
      "text/plain": [
       "                              count     mean      std    min      25%  \\\n",
       "property_type country_name                                              \n",
       "PH            Argentina      4576.0  1846.15  1090.97  15.13  1208.33   \n",
       "apartment     Argentina     52837.0  2510.95  1116.83   3.20  1785.71   \n",
       "house         Argentina     30331.0  1548.92   958.95   8.06  1030.65   \n",
       "store         Argentina      2758.0  2212.06  1703.13   8.31  1015.47   \n",
       "\n",
       "                                50%      75%      max  \n",
       "property_type country_name                             \n",
       "PH            Argentina     1617.33  2187.50  9950.00  \n",
       "apartment     Argentina     2302.63  3000.00  9938.57  \n",
       "house         Argentina     1400.00  1825.25  9995.00  \n",
       "store         Argentina     1714.29  2820.51  9950.00  "
      ]
     },
     "execution_count": 111,
     "metadata": {},
     "output_type": "execute_result"
    }
   ],
   "source": [
    "data_agrupado = data.groupby(['property_type', 'country_name'])\n",
    "data_agrupado.describe()['USDxM2'].round(2)"
   ]
  },
  {
   "cell_type": "code",
   "execution_count": 112,
   "id": "750e610e",
   "metadata": {},
   "outputs": [],
   "source": [
    "# DEBIDO A QUE ESTAMOS FILTRANDO DESDE STATE NAME EN VEZ DE DESDE LA LOCALIDAD, ACA ELEGIMOS DEL 25%, CUANTAS MUESTRAS MENORES VAMOS A TOMAR Y DEL 75% CUANTAS MUESTRAS MAYORES\n",
    "MEN = 0.5\n",
    "MAY = 1.5\n"
   ]
  },
  {
   "cell_type": "code",
   "execution_count": 113,
   "id": "6bed5a3c",
   "metadata": {},
   "outputs": [
    {
     "name": "stdout",
     "output_type": "stream",
     "text": [
      "True     4240\n",
      "False     336\n",
      "Name: USDxM2, dtype: int64\n"
     ]
    },
    {
     "data": {
      "text/plain": [
       "True    4240\n",
       "Name: USDxM2, dtype: int64"
      ]
     },
     "execution_count": 113,
     "metadata": {},
     "output_type": "execute_result"
    }
   ],
   "source": [
    "Argentina_PH = data.USDxM2[(data.property_type=='PH')]\n",
    "Arg_PH_min = Argentina_PH > (1208.33 * MEN)\n",
    "Arg_PH_max = Argentina_PH < (2187.50 * MAY)\n",
    "Arg_PH_fin = Arg_PH_min & Arg_PH_max\n",
    "print(Arg_PH_fin.value_counts())\n",
    "Arg_PH_finT = Arg_PH_fin[Arg_PH_fin==1]\n",
    "Arg_PH_finT.value_counts()"
   ]
  },
  {
   "cell_type": "code",
   "execution_count": 114,
   "id": "6fd4735a",
   "metadata": {},
   "outputs": [
    {
     "name": "stdout",
     "output_type": "stream",
     "text": [
      "True     27194\n",
      "False     3137\n",
      "Name: USDxM2, dtype: int64\n"
     ]
    },
    {
     "data": {
      "text/plain": [
       "True    27194\n",
       "Name: USDxM2, dtype: int64"
      ]
     },
     "execution_count": 114,
     "metadata": {},
     "output_type": "execute_result"
    }
   ],
   "source": [
    "Argentina_casa = data.USDxM2[(data.property_type=='house')]\n",
    "Arg_casa_min = Argentina_casa > (1030.65 * MEN)\n",
    "Arg_casa_max = Argentina_casa < (1825.25 * MAY)\n",
    "Arg_casa_fin = Arg_casa_min & Arg_casa_max\n",
    "print(Arg_casa_fin.value_counts())\n",
    "Arg_casa_finT = Arg_casa_fin[Arg_casa_fin==1]\n",
    "Arg_casa_finT.value_counts()"
   ]
  },
  {
   "cell_type": "code",
   "execution_count": 115,
   "id": "4896c4df",
   "metadata": {},
   "outputs": [
    {
     "name": "stdout",
     "output_type": "stream",
     "text": [
      "True     48999\n",
      "False     3838\n",
      "Name: USDxM2, dtype: int64\n"
     ]
    },
    {
     "data": {
      "text/plain": [
       "True    48999\n",
       "Name: USDxM2, dtype: int64"
      ]
     },
     "execution_count": 115,
     "metadata": {},
     "output_type": "execute_result"
    }
   ],
   "source": [
    "Argentina_dt = data.USDxM2[(data.property_type=='apartment')]\n",
    "Arg_dt_min = Argentina_dt > (1785.71 * MEN)\n",
    "Arg_dt_max = Argentina_dt < (3000.00 * MAY)\n",
    "Arg_dt_fin = Arg_dt_min & Arg_dt_max\n",
    "print(Arg_dt_fin.value_counts())\n",
    "Arg_dt_finT = Arg_dt_fin[Arg_dt_fin==1]\n",
    "Arg_dt_finT.value_counts()"
   ]
  },
  {
   "cell_type": "code",
   "execution_count": 116,
   "id": "a07548d9",
   "metadata": {},
   "outputs": [
    {
     "name": "stdout",
     "output_type": "stream",
     "text": [
      "True     2276\n",
      "False     482\n",
      "Name: USDxM2, dtype: int64\n"
     ]
    },
    {
     "data": {
      "text/plain": [
       "True    2276\n",
       "Name: USDxM2, dtype: int64"
      ]
     },
     "execution_count": 116,
     "metadata": {},
     "output_type": "execute_result"
    }
   ],
   "source": [
    "Argentina_st = data.USDxM2[(data.property_type=='store')]\n",
    "Arg_st_min = Argentina_st > (1015.47 * MEN)\n",
    "Arg_st_max = Argentina_st < (2820.51 * MAY)\n",
    "Arg_st_fin = Arg_st_min & Arg_st_max\n",
    "print(Arg_st_fin.value_counts())\n",
    "Arg_st_finT = Arg_st_fin[Arg_st_fin==1]\n",
    "Arg_st_finT.value_counts()"
   ]
  },
  {
   "cell_type": "code",
   "execution_count": 117,
   "id": "16c32de3",
   "metadata": {},
   "outputs": [
    {
     "data": {
      "text/plain": [
       "0         1550.000000\n",
       "2         1309.090909\n",
       "4         1828.571429\n",
       "6         1666.666667\n",
       "7         3450.000000\n",
       "             ...     \n",
       "121202    1625.348077\n",
       "121216    1383.333333\n",
       "121217    3371.794872\n",
       "121218    1997.916667\n",
       "121219    1675.324675\n",
       "Name: USDxM2, Length: 82709, dtype: float64"
      ]
     },
     "execution_count": 117,
     "metadata": {},
     "output_type": "execute_result"
    }
   ],
   "source": [
    "parametro = data.USDxM2[(Arg_PH_finT.index) | (Arg_casa_finT.index) | (Arg_dt_finT.index) | (Arg_st_finT.index)]\n",
    "parametro"
   ]
  },
  {
   "cell_type": "code",
   "execution_count": 118,
   "id": "d7a971a7",
   "metadata": {},
   "outputs": [],
   "source": [
    "cf = data.loc[parametro.index]\n",
    "data = cf"
   ]
  },
  {
   "cell_type": "code",
   "execution_count": 119,
   "id": "0023b80e",
   "metadata": {},
   "outputs": [
    {
     "data": {
      "text/plain": [
       "(82709, 24)"
      ]
     },
     "execution_count": 119,
     "metadata": {},
     "output_type": "execute_result"
    }
   ],
   "source": [
    "data.shape"
   ]
  },
  {
   "cell_type": "code",
   "execution_count": 120,
   "id": "60b8dc01",
   "metadata": {},
   "outputs": [
    {
     "data": {
      "image/png": "[encoded data removed]",
      "text/plain": [
       "<Figure size 504x360 with 1 Axes>"
      ]
     },
     "metadata": {},
     "output_type": "display_data"
    }
   ],
   "source": [
    "# Vemos como queda luego de la eliminación de los Outliers\n",
    "sns.set_style('darkgrid')\n",
    "plt.figure(figsize=(7, 5))\n",
    "plt.xticks(rotation=90)\n",
    "sns.boxplot(data=data.state_name[data.property_type=='house'], x=data.state_name[data.property_type=='house'], y=data.USDxM2)\n",
    "\n",
    "plt.xlabel(\"Provincia\"); plt.ylabel(\"Usd/M2\");plt.title(\"Distribución USD/M2 - CASAS\")\n",
    "plt.show()"
   ]
  },
  {
   "cell_type": "code",
   "execution_count": 121,
   "id": "a610e91c",
   "metadata": {},
   "outputs": [
    {
     "data": {
      "image/png": "[encoded data removed]",
      "text/plain": [
       "<Figure size 504x360 with 1 Axes>"
      ]
     },
     "metadata": {},
     "output_type": "display_data"
    }
   ],
   "source": [
    "sns.set_style('darkgrid')\n",
    "plt.figure(figsize=(7, 5))\n",
    "plt.xticks(rotation=90)\n",
    "sns.boxplot(data=data.state_name[data.property_type=='apartment'], x=data.state_name[data.property_type=='apartment'], y=data.USDxM2)\n",
    "\n",
    "plt.xlabel(\"Provincia\"); plt.ylabel(\"Usd/M2\");plt.title(\"Distribución USD/m2 DEPARTAMENTOS\")\n",
    "plt.show()"
   ]
  },
  {
   "cell_type": "code",
   "execution_count": 122,
   "id": "283d3d63",
   "metadata": {},
   "outputs": [
    {
     "data": {
      "image/png": "[encoded data removed]",
      "text/plain": [
       "<Figure size 504x360 with 1 Axes>"
      ]
     },
     "metadata": {},
     "output_type": "display_data"
    }
   ],
   "source": [
    "sns.set_style('darkgrid')\n",
    "plt.figure(figsize=(7, 5))\n",
    "plt.xticks(rotation=90)\n",
    "sns.boxplot(data=data.state_name[data.property_type=='PH'], x=data.state_name[data.property_type=='PH'], y=data.USDxM2)\n",
    "\n",
    "plt.xlabel(\"Provincia\"); plt.ylabel(\"Usd/M2\");plt.title(\"Distribución USD/M2 - PH\")\n",
    "plt.show()"
   ]
  },
  {
   "cell_type": "code",
   "execution_count": 123,
   "id": "481783a3",
   "metadata": {},
   "outputs": [
    {
     "data": {
      "image/png": "[encoded data removed]",
      "text/plain": [
       "<Figure size 504x360 with 1 Axes>"
      ]
     },
     "metadata": {},
     "output_type": "display_data"
    }
   ],
   "source": [
    "sns.set_style('darkgrid')\n",
    "plt.figure(figsize=(7, 5))\n",
    "plt.xticks(rotation=90)\n",
    "sns.boxplot(data=data.state_name[data.property_type=='store'], x=data.state_name[data.property_type=='store'], y=data.USDxM2)\n",
    "\n",
    "plt.xlabel(\"Provincia\"); plt.ylabel(\"Usd/M2\");plt.title(\"Distribución USD/m2 STORE\")\n",
    "plt.show()"
   ]
  },
  {
   "cell_type": "code",
   "execution_count": 124,
   "id": "b0af3790",
   "metadata": {},
   "outputs": [
    {
     "data": {
      "text/html": [
       "<div>\n",
       "<style scoped>\n",
       "    .dataframe tbody tr th:only-of-type {\n",
       "        vertical-align: middle;\n",
       "    }\n",
       "\n",
       "    .dataframe tbody tr th {\n",
       "        vertical-align: top;\n",
       "    }\n",
       "\n",
       "    .dataframe thead tr th {\n",
       "        text-align: left;\n",
       "    }\n",
       "\n",
       "    .dataframe thead tr:last-of-type th {\n",
       "        text-align: right;\n",
       "    }\n",
       "</style>\n",
       "<table border=\"1\" class=\"dataframe\">\n",
       "  <thead>\n",
       "    <tr>\n",
       "      <th></th>\n",
       "      <th colspan=\"4\" halign=\"left\">USDxM2</th>\n",
       "      <th colspan=\"4\" halign=\"left\">price_aprox_usd</th>\n",
       "    </tr>\n",
       "    <tr>\n",
       "      <th>property_type</th>\n",
       "      <th>PH</th>\n",
       "      <th>apartment</th>\n",
       "      <th>house</th>\n",
       "      <th>store</th>\n",
       "      <th>PH</th>\n",
       "      <th>apartment</th>\n",
       "      <th>house</th>\n",
       "      <th>store</th>\n",
       "    </tr>\n",
       "    <tr>\n",
       "      <th>state_name</th>\n",
       "      <th></th>\n",
       "      <th></th>\n",
       "      <th></th>\n",
       "      <th></th>\n",
       "      <th></th>\n",
       "      <th></th>\n",
       "      <th></th>\n",
       "      <th></th>\n",
       "    </tr>\n",
       "  </thead>\n",
       "  <tbody>\n",
       "    <tr>\n",
       "      <th>Bs.As. G.B.A. Zona Norte</th>\n",
       "      <td>1713.966399</td>\n",
       "      <td>2629.562947</td>\n",
       "      <td>1607.094730</td>\n",
       "      <td>1650.476635</td>\n",
       "      <td>845.0</td>\n",
       "      <td>8631.0</td>\n",
       "      <td>11026.0</td>\n",
       "      <td>407.0</td>\n",
       "    </tr>\n",
       "    <tr>\n",
       "      <th>Bs.As. G.B.A. Zona Oeste</th>\n",
       "      <td>1444.047879</td>\n",
       "      <td>1881.104274</td>\n",
       "      <td>1303.765778</td>\n",
       "      <td>1643.453334</td>\n",
       "      <td>602.0</td>\n",
       "      <td>2670.0</td>\n",
       "      <td>3467.0</td>\n",
       "      <td>152.0</td>\n",
       "    </tr>\n",
       "    <tr>\n",
       "      <th>Bs.As. G.B.A. Zona Sur</th>\n",
       "      <td>1395.360192</td>\n",
       "      <td>1963.906449</td>\n",
       "      <td>1394.011460</td>\n",
       "      <td>1607.425500</td>\n",
       "      <td>571.0</td>\n",
       "      <td>3850.0</td>\n",
       "      <td>4561.0</td>\n",
       "      <td>349.0</td>\n",
       "    </tr>\n",
       "    <tr>\n",
       "      <th>Buenos Aires Costa Atlántica</th>\n",
       "      <td>1325.485132</td>\n",
       "      <td>2026.591561</td>\n",
       "      <td>1260.742425</td>\n",
       "      <td>1517.334793</td>\n",
       "      <td>440.0</td>\n",
       "      <td>5163.0</td>\n",
       "      <td>1859.0</td>\n",
       "      <td>165.0</td>\n",
       "    </tr>\n",
       "    <tr>\n",
       "      <th>Buenos Aires Interior</th>\n",
       "      <td>1334.574268</td>\n",
       "      <td>2032.951043</td>\n",
       "      <td>1198.242683</td>\n",
       "      <td>1133.025990</td>\n",
       "      <td>32.0</td>\n",
       "      <td>551.0</td>\n",
       "      <td>722.0</td>\n",
       "      <td>35.0</td>\n",
       "    </tr>\n",
       "    <tr>\n",
       "      <th>Capital Federal</th>\n",
       "      <td>2022.772193</td>\n",
       "      <td>2723.979912</td>\n",
       "      <td>1742.370443</td>\n",
       "      <td>2214.688303</td>\n",
       "      <td>1492.0</td>\n",
       "      <td>20220.0</td>\n",
       "      <td>1450.0</td>\n",
       "      <td>805.0</td>\n",
       "    </tr>\n",
       "    <tr>\n",
       "      <th>Catamarca</th>\n",
       "      <td>NaN</td>\n",
       "      <td>3679.920324</td>\n",
       "      <td>1337.869583</td>\n",
       "      <td>NaN</td>\n",
       "      <td>NaN</td>\n",
       "      <td>9.0</td>\n",
       "      <td>6.0</td>\n",
       "      <td>NaN</td>\n",
       "    </tr>\n",
       "    <tr>\n",
       "      <th>Chaco</th>\n",
       "      <td>NaN</td>\n",
       "      <td>1696.262705</td>\n",
       "      <td>971.749785</td>\n",
       "      <td>1220.982511</td>\n",
       "      <td>NaN</td>\n",
       "      <td>7.0</td>\n",
       "      <td>16.0</td>\n",
       "      <td>3.0</td>\n",
       "    </tr>\n",
       "    <tr>\n",
       "      <th>Chubut</th>\n",
       "      <td>NaN</td>\n",
       "      <td>2296.093798</td>\n",
       "      <td>1472.287079</td>\n",
       "      <td>1456.343590</td>\n",
       "      <td>NaN</td>\n",
       "      <td>18.0</td>\n",
       "      <td>86.0</td>\n",
       "      <td>22.0</td>\n",
       "    </tr>\n",
       "    <tr>\n",
       "      <th>Corrientes</th>\n",
       "      <td>1377.723699</td>\n",
       "      <td>2055.405461</td>\n",
       "      <td>1349.803154</td>\n",
       "      <td>1896.367490</td>\n",
       "      <td>51.0</td>\n",
       "      <td>118.0</td>\n",
       "      <td>242.0</td>\n",
       "      <td>11.0</td>\n",
       "    </tr>\n",
       "    <tr>\n",
       "      <th>Córdoba</th>\n",
       "      <td>1196.293851</td>\n",
       "      <td>1645.330980</td>\n",
       "      <td>1021.968988</td>\n",
       "      <td>1616.385524</td>\n",
       "      <td>114.0</td>\n",
       "      <td>3378.0</td>\n",
       "      <td>2332.0</td>\n",
       "      <td>182.0</td>\n",
       "    </tr>\n",
       "    <tr>\n",
       "      <th>Entre Ríos</th>\n",
       "      <td>NaN</td>\n",
       "      <td>1712.734065</td>\n",
       "      <td>1257.762765</td>\n",
       "      <td>1462.853073</td>\n",
       "      <td>NaN</td>\n",
       "      <td>33.0</td>\n",
       "      <td>43.0</td>\n",
       "      <td>5.0</td>\n",
       "    </tr>\n",
       "    <tr>\n",
       "      <th>Formosa</th>\n",
       "      <td>NaN</td>\n",
       "      <td>1507.801886</td>\n",
       "      <td>NaN</td>\n",
       "      <td>NaN</td>\n",
       "      <td>NaN</td>\n",
       "      <td>4.0</td>\n",
       "      <td>NaN</td>\n",
       "      <td>NaN</td>\n",
       "    </tr>\n",
       "    <tr>\n",
       "      <th>Jujuy</th>\n",
       "      <td>NaN</td>\n",
       "      <td>1752.614792</td>\n",
       "      <td>2138.043071</td>\n",
       "      <td>NaN</td>\n",
       "      <td>NaN</td>\n",
       "      <td>1.0</td>\n",
       "      <td>2.0</td>\n",
       "      <td>NaN</td>\n",
       "    </tr>\n",
       "    <tr>\n",
       "      <th>La Pampa</th>\n",
       "      <td>NaN</td>\n",
       "      <td>1287.022340</td>\n",
       "      <td>1008.373971</td>\n",
       "      <td>616.920440</td>\n",
       "      <td>NaN</td>\n",
       "      <td>4.0</td>\n",
       "      <td>10.0</td>\n",
       "      <td>2.0</td>\n",
       "    </tr>\n",
       "    <tr>\n",
       "      <th>La Rioja</th>\n",
       "      <td>NaN</td>\n",
       "      <td>NaN</td>\n",
       "      <td>544.444444</td>\n",
       "      <td>NaN</td>\n",
       "      <td>NaN</td>\n",
       "      <td>NaN</td>\n",
       "      <td>1.0</td>\n",
       "      <td>NaN</td>\n",
       "    </tr>\n",
       "    <tr>\n",
       "      <th>Mendoza</th>\n",
       "      <td>1226.216814</td>\n",
       "      <td>1616.614941</td>\n",
       "      <td>1190.744745</td>\n",
       "      <td>1650.804440</td>\n",
       "      <td>2.0</td>\n",
       "      <td>195.0</td>\n",
       "      <td>155.0</td>\n",
       "      <td>12.0</td>\n",
       "    </tr>\n",
       "    <tr>\n",
       "      <th>Misiones</th>\n",
       "      <td>1154.663824</td>\n",
       "      <td>1553.622402</td>\n",
       "      <td>1206.128943</td>\n",
       "      <td>NaN</td>\n",
       "      <td>1.0</td>\n",
       "      <td>68.0</td>\n",
       "      <td>107.0</td>\n",
       "      <td>NaN</td>\n",
       "    </tr>\n",
       "    <tr>\n",
       "      <th>Neuquén</th>\n",
       "      <td>2392.643197</td>\n",
       "      <td>1960.286890</td>\n",
       "      <td>1515.181830</td>\n",
       "      <td>2313.161376</td>\n",
       "      <td>50.0</td>\n",
       "      <td>104.0</td>\n",
       "      <td>75.0</td>\n",
       "      <td>6.0</td>\n",
       "    </tr>\n",
       "    <tr>\n",
       "      <th>Río Negro</th>\n",
       "      <td>1646.503177</td>\n",
       "      <td>2409.898104</td>\n",
       "      <td>1400.167715</td>\n",
       "      <td>1528.407141</td>\n",
       "      <td>6.0</td>\n",
       "      <td>118.0</td>\n",
       "      <td>103.0</td>\n",
       "      <td>42.0</td>\n",
       "    </tr>\n",
       "    <tr>\n",
       "      <th>Salta</th>\n",
       "      <td>NaN</td>\n",
       "      <td>1544.971419</td>\n",
       "      <td>1176.193497</td>\n",
       "      <td>NaN</td>\n",
       "      <td>NaN</td>\n",
       "      <td>35.0</td>\n",
       "      <td>28.0</td>\n",
       "      <td>NaN</td>\n",
       "    </tr>\n",
       "    <tr>\n",
       "      <th>San Juan</th>\n",
       "      <td>NaN</td>\n",
       "      <td>1672.282057</td>\n",
       "      <td>1589.037500</td>\n",
       "      <td>NaN</td>\n",
       "      <td>NaN</td>\n",
       "      <td>3.0</td>\n",
       "      <td>1.0</td>\n",
       "      <td>NaN</td>\n",
       "    </tr>\n",
       "    <tr>\n",
       "      <th>San Luis</th>\n",
       "      <td>NaN</td>\n",
       "      <td>1376.055177</td>\n",
       "      <td>1241.467240</td>\n",
       "      <td>1455.050197</td>\n",
       "      <td>NaN</td>\n",
       "      <td>12.0</td>\n",
       "      <td>123.0</td>\n",
       "      <td>8.0</td>\n",
       "    </tr>\n",
       "    <tr>\n",
       "      <th>Santa Cruz</th>\n",
       "      <td>NaN</td>\n",
       "      <td>NaN</td>\n",
       "      <td>1200.171103</td>\n",
       "      <td>NaN</td>\n",
       "      <td>NaN</td>\n",
       "      <td>NaN</td>\n",
       "      <td>8.0</td>\n",
       "      <td>NaN</td>\n",
       "    </tr>\n",
       "    <tr>\n",
       "      <th>Santa Fe</th>\n",
       "      <td>1424.971145</td>\n",
       "      <td>1894.946647</td>\n",
       "      <td>1184.803960</td>\n",
       "      <td>1717.464757</td>\n",
       "      <td>33.0</td>\n",
       "      <td>3709.0</td>\n",
       "      <td>722.0</td>\n",
       "      <td>62.0</td>\n",
       "    </tr>\n",
       "    <tr>\n",
       "      <th>Santiago Del Estero</th>\n",
       "      <td>NaN</td>\n",
       "      <td>NaN</td>\n",
       "      <td>1600.000000</td>\n",
       "      <td>NaN</td>\n",
       "      <td>NaN</td>\n",
       "      <td>NaN</td>\n",
       "      <td>1.0</td>\n",
       "      <td>NaN</td>\n",
       "    </tr>\n",
       "    <tr>\n",
       "      <th>Tierra Del Fuego</th>\n",
       "      <td>NaN</td>\n",
       "      <td>2051.745236</td>\n",
       "      <td>1383.761104</td>\n",
       "      <td>1329.186654</td>\n",
       "      <td>NaN</td>\n",
       "      <td>9.0</td>\n",
       "      <td>16.0</td>\n",
       "      <td>2.0</td>\n",
       "    </tr>\n",
       "    <tr>\n",
       "      <th>Tucumán</th>\n",
       "      <td>1791.561806</td>\n",
       "      <td>1501.270170</td>\n",
       "      <td>939.046378</td>\n",
       "      <td>874.951351</td>\n",
       "      <td>1.0</td>\n",
       "      <td>89.0</td>\n",
       "      <td>32.0</td>\n",
       "      <td>6.0</td>\n",
       "    </tr>\n",
       "  </tbody>\n",
       "</table>\n",
       "</div>"
      ],
      "text/plain": [
       "                                   USDxM2                            \\\n",
       "property_type                          PH    apartment        house   \n",
       "state_name                                                            \n",
       "Bs.As. G.B.A. Zona Norte      1713.966399  2629.562947  1607.094730   \n",
       "Bs.As. G.B.A. Zona Oeste      1444.047879  1881.104274  1303.765778   \n",
       "Bs.As. G.B.A. Zona Sur        1395.360192  1963.906449  1394.011460   \n",
       "Buenos Aires Costa Atlántica  1325.485132  2026.591561  1260.742425   \n",
       "Buenos Aires Interior         1334.574268  2032.951043  1198.242683   \n",
       "Capital Federal               2022.772193  2723.979912  1742.370443   \n",
       "Catamarca                             NaN  3679.920324  1337.869583   \n",
       "Chaco                                 NaN  1696.262705   971.749785   \n",
       "Chubut                                NaN  2296.093798  1472.287079   \n",
       "Corrientes                    1377.723699  2055.405461  1349.803154   \n",
       "Córdoba                       1196.293851  1645.330980  1021.968988   \n",
       "Entre Ríos                            NaN  1712.734065  1257.762765   \n",
       "Formosa                               NaN  1507.801886          NaN   \n",
       "Jujuy                                 NaN  1752.614792  2138.043071   \n",
       "La Pampa                              NaN  1287.022340  1008.373971   \n",
       "La Rioja                              NaN          NaN   544.444444   \n",
       "Mendoza                       1226.216814  1616.614941  1190.744745   \n",
       "Misiones                      1154.663824  1553.622402  1206.128943   \n",
       "Neuquén                       2392.643197  1960.286890  1515.181830   \n",
       "Río Negro                     1646.503177  2409.898104  1400.167715   \n",
       "Salta                                 NaN  1544.971419  1176.193497   \n",
       "San Juan                              NaN  1672.282057  1589.037500   \n",
       "San Luis                              NaN  1376.055177  1241.467240   \n",
       "Santa Cruz                            NaN          NaN  1200.171103   \n",
       "Santa Fe                      1424.971145  1894.946647  1184.803960   \n",
       "Santiago Del Estero                   NaN          NaN  1600.000000   \n",
       "Tierra Del Fuego                      NaN  2051.745236  1383.761104   \n",
       "Tucumán                       1791.561806  1501.270170   939.046378   \n",
       "\n",
       "                                          price_aprox_usd                     \\\n",
       "property_type                       store              PH apartment    house   \n",
       "state_name                                                                     \n",
       "Bs.As. G.B.A. Zona Norte      1650.476635           845.0    8631.0  11026.0   \n",
       "Bs.As. G.B.A. Zona Oeste      1643.453334           602.0    2670.0   3467.0   \n",
       "Bs.As. G.B.A. Zona Sur        1607.425500           571.0    3850.0   4561.0   \n",
       "Buenos Aires Costa Atlántica  1517.334793           440.0    5163.0   1859.0   \n",
       "Buenos Aires Interior         1133.025990            32.0     551.0    722.0   \n",
       "Capital Federal               2214.688303          1492.0   20220.0   1450.0   \n",
       "Catamarca                             NaN             NaN       9.0      6.0   \n",
       "Chaco                         1220.982511             NaN       7.0     16.0   \n",
       "Chubut                        1456.343590             NaN      18.0     86.0   \n",
       "Corrientes                    1896.367490            51.0     118.0    242.0   \n",
       "Córdoba                       1616.385524           114.0    3378.0   2332.0   \n",
       "Entre Ríos                    1462.853073             NaN      33.0     43.0   \n",
       "Formosa                               NaN             NaN       4.0      NaN   \n",
       "Jujuy                                 NaN             NaN       1.0      2.0   \n",
       "La Pampa                       616.920440             NaN       4.0     10.0   \n",
       "La Rioja                              NaN             NaN       NaN      1.0   \n",
       "Mendoza                       1650.804440             2.0     195.0    155.0   \n",
       "Misiones                              NaN             1.0      68.0    107.0   \n",
       "Neuquén                       2313.161376            50.0     104.0     75.0   \n",
       "Río Negro                     1528.407141             6.0     118.0    103.0   \n",
       "Salta                                 NaN             NaN      35.0     28.0   \n",
       "San Juan                              NaN             NaN       3.0      1.0   \n",
       "San Luis                      1455.050197             NaN      12.0    123.0   \n",
       "Santa Cruz                            NaN             NaN       NaN      8.0   \n",
       "Santa Fe                      1717.464757            33.0    3709.0    722.0   \n",
       "Santiago Del Estero                   NaN             NaN       NaN      1.0   \n",
       "Tierra Del Fuego              1329.186654             NaN       9.0     16.0   \n",
       "Tucumán                        874.951351             1.0      89.0     32.0   \n",
       "\n",
       "                                     \n",
       "property_type                 store  \n",
       "state_name                           \n",
       "Bs.As. G.B.A. Zona Norte      407.0  \n",
       "Bs.As. G.B.A. Zona Oeste      152.0  \n",
       "Bs.As. G.B.A. Zona Sur        349.0  \n",
       "Buenos Aires Costa Atlántica  165.0  \n",
       "Buenos Aires Interior          35.0  \n",
       "Capital Federal               805.0  \n",
       "Catamarca                       NaN  \n",
       "Chaco                           3.0  \n",
       "Chubut                         22.0  \n",
       "Corrientes                     11.0  \n",
       "Córdoba                       182.0  \n",
       "Entre Ríos                      5.0  \n",
       "Formosa                         NaN  \n",
       "Jujuy                           NaN  \n",
       "La Pampa                        2.0  \n",
       "La Rioja                        NaN  \n",
       "Mendoza                        12.0  \n",
       "Misiones                        NaN  \n",
       "Neuquén                         6.0  \n",
       "Río Negro                      42.0  \n",
       "Salta                           NaN  \n",
       "San Juan                        NaN  \n",
       "San Luis                        8.0  \n",
       "Santa Cruz                      NaN  \n",
       "Santa Fe                       62.0  \n",
       "Santiago Del Estero             NaN  \n",
       "Tierra Del Fuego                2.0  \n",
       "Tucumán                         6.0  "
      ]
     },
     "execution_count": 124,
     "metadata": {},
     "output_type": "execute_result"
    }
   ],
   "source": [
    "data.pivot_table(index='state_name', columns='property_type', aggfunc={'USDxM2':'mean', 'price_aprox_usd':'count'})"
   ]
  },
  {
   "cell_type": "markdown",
   "id": "0e04bace",
   "metadata": {},
   "source": [
    "### Análisis de Amenities"
   ]
  },
  {
   "cell_type": "markdown",
   "id": "8bbcc7c7",
   "metadata": {},
   "source": [
    "##### Búsqueda de Garage en description"
   ]
  },
  {
   "cell_type": "code",
   "execution_count": 125,
   "id": "d5ce5828",
   "metadata": {},
   "outputs": [],
   "source": [
    "garage_pattern = \"(?P<garage>cochera|garage|estacionamiento)\"\n",
    "garage_regex =  re.compile(garage_pattern)\n",
    "\n",
    "garage_match = data.description.apply(lambda x: x if x is np.NaN else garage_regex.search(x))\n",
    "garage_match_mask = garage_match.notnull()\n",
    "data.loc[garage_match_mask, \"Garage\"] = 1\n",
    "data[\"Garage\"].fillna(0,inplace=True)\n",
    "data.loc[:,\"Garage\"] = data.loc[:,\"Garage\"].astype(int)"
   ]
  },
  {
   "cell_type": "markdown",
   "id": "fd9fb7cb",
   "metadata": {},
   "source": [
    "##### Búsqueda de propiedades \"A estrenar\" en description"
   ]
  },
  {
   "cell_type": "code",
   "execution_count": 126,
   "id": "722d0d31",
   "metadata": {},
   "outputs": [],
   "source": [
    "estrenar_pattern = \"(?P<estrenar>(a estrenar)|(departamento nuevo))\"\n",
    "estrenar_regex =  re.compile(estrenar_pattern)\n",
    "\n",
    "estrenar_match = data.description.apply(lambda x: x if x is np.NaN else estrenar_regex.search(x))\n",
    "estrenar_match_mask = estrenar_match.notnull()\n",
    "data.loc[estrenar_match_mask, \"Estrenar\"] = 1\n",
    "data[\"Estrenar\"].fillna(0, inplace=True)\n",
    "data.loc[:,\"Estrenar\"] = data.loc[:,\"Estrenar\"].astype(int)"
   ]
  },
  {
   "cell_type": "markdown",
   "id": "823a2560",
   "metadata": {},
   "source": [
    "##### Búsqueda de Pileta en description"
   ]
  },
  {
   "cell_type": "code",
   "execution_count": 127,
   "id": "8085d7fd",
   "metadata": {},
   "outputs": [],
   "source": [
    "pileta_pattern = \"(?P<pileta>pileta|piscina|picina|pisina)\"\n",
    "pileta_regex =  re.compile(pileta_pattern)\n",
    "\n",
    "pileta_match = data.description.apply(lambda x: x if x is np.NaN else pileta_regex.search(x))\n",
    "pileta_match_mask = pileta_match.notnull()\n",
    "data.loc[pileta_match_mask, \"Pileta\"] = 1\n",
    "data[\"Pileta\"].fillna(0, inplace=True)\n",
    "data.loc[:,\"Pileta\"] = data.loc[:,\"Pileta\"].astype(int)"
   ]
  },
  {
   "cell_type": "markdown",
   "id": "4a9b26ae",
   "metadata": {},
   "source": [
    "##### Búsqueda de Balcón en description"
   ]
  },
  {
   "cell_type": "code",
   "execution_count": 128,
   "id": "b37b809b",
   "metadata": {},
   "outputs": [],
   "source": [
    "balcon_pattern = \"(?P<balcon>balcon|balcones|balcón)\"\n",
    "balcon_regex =  re.compile(balcon_pattern)\n",
    "\n",
    "balcon_match = data.description.apply(lambda x: x if x is np.NaN else balcon_regex.search(x))\n",
    "balcon_match_mask = balcon_match.notnull()\n",
    "data.loc[balcon_match_mask, \"Balcon\"] = 1\n",
    "data[\"Balcon\"].fillna(0, inplace=True)\n",
    "data.loc[:,\"Balcon\"] = data.loc[:,\"Balcon\"].astype(int)"
   ]
  },
  {
   "cell_type": "markdown",
   "id": "da9848f0",
   "metadata": {},
   "source": [
    "##### Búsqueda de Gimnasio en description"
   ]
  },
  {
   "cell_type": "code",
   "execution_count": 129,
   "id": "f3edbfbc",
   "metadata": {},
   "outputs": [],
   "source": [
    "gym_pattern = \"(?P<gym>gym|gimnasio|gimnacio)\"\n",
    "gym_regex =  re.compile(gym_pattern)\n",
    "\n",
    "gym_match = data.description.apply(lambda x: x if x is np.NaN else gym_regex.search(x))\n",
    "gym_match_mask = gym_match.notnull()\n",
    "data.loc[gym_match_mask, \"Gimnasio\"] = 1\n",
    "data[\"Gimnasio\"].fillna(0, inplace=True)\n",
    "data.loc[:,\"Gimnasio\"] = data.loc[:,\"Gimnasio\"].astype(int)"
   ]
  },
  {
   "cell_type": "markdown",
   "id": "8bfff587",
   "metadata": {},
   "source": [
    "##### Búsqueda de Quincho en description"
   ]
  },
  {
   "cell_type": "code",
   "execution_count": 130,
   "id": "584ead4e",
   "metadata": {},
   "outputs": [],
   "source": [
    "quincho_pattern = \"(?P<quincho>quincho|kincho|qincho|(\\ssum\\s))\"\n",
    "quincho_regex =  re.compile(quincho_pattern)\n",
    "\n",
    "quincho_match = data.description.apply(lambda x: x if x is np.NaN else quincho_regex.search(x))\n",
    "quincho_match_mask = quincho_match.notnull()\n",
    "data.loc[quincho_match_mask, \"Quincho\"] = 1\n",
    "data[\"Quincho\"].fillna(0, inplace=True)\n",
    "data.loc[:,\"Quincho\"] = data.loc[:,\"Quincho\"].astype(int)"
   ]
  },
  {
   "cell_type": "markdown",
   "id": "865f1a50",
   "metadata": {},
   "source": [
    "##### Búsqueda de Quincho en description"
   ]
  },
  {
   "cell_type": "code",
   "execution_count": 131,
   "id": "19ef2698",
   "metadata": {},
   "outputs": [],
   "source": [
    "parrilla_pattern = \"parrilla|parrila|orno de barro|barbecue|asador\"\n",
    "parrilla_regex =  re.compile(parrilla_pattern)\n",
    "\n",
    "parrilla_match = data.description.apply(lambda x: x if x is np.NaN else parrilla_regex.search(x))\n",
    "parrilla_match_mask = parrilla_match.notnull()\n",
    "data.loc[parrilla_match_mask, \"Parrilla\"] = 1\n",
    "data[\"Parrilla\"].fillna(0, inplace=True)\n",
    "data.loc[:,\"Parrilla\"] = data.loc[:,\"Parrilla\"].astype(int)"
   ]
  },
  {
   "cell_type": "markdown",
   "id": "aaaadf04",
   "metadata": {},
   "source": [
    "##### Búsqueda de Patio en description"
   ]
  },
  {
   "cell_type": "code",
   "execution_count": 132,
   "id": "05e70afb",
   "metadata": {},
   "outputs": [],
   "source": [
    "patio_pattern = \"patio|jardin|jardín|con parque|parque con|lindo parque|parque compartido|parque arbolado\"\n",
    "patio_regex =  re.compile(patio_pattern)\n",
    "\n",
    "patio_match = data.description.apply(lambda x: x if x is np.NaN else patio_regex.search(x))\n",
    "patio_match_mask = patio_match.notnull()\n",
    "data.loc[patio_match_mask, \"Patio\"] = 1\n",
    "data[\"Patio\"].fillna(0, inplace=True)\n",
    "data.loc[:,\"Patio\"] = data.loc[:,\"Patio\"].astype(int)"
   ]
  },
  {
   "cell_type": "markdown",
   "id": "0680aad1",
   "metadata": {},
   "source": [
    "##### Búsqueda de Lavadero en description"
   ]
  },
  {
   "cell_type": "code",
   "execution_count": 133,
   "id": "bd350717",
   "metadata": {},
   "outputs": [],
   "source": [
    "lavadero_pattern = \"(?P<lavadero>lavadero|labadero|laundry)\"\n",
    "lavadero_regex =  re.compile(lavadero_pattern)\n",
    "\n",
    "lavadero_match = data.description.apply(lambda x: x if x is np.NaN else lavadero_regex.search(x))\n",
    "lavadero_match_mask = lavadero_match.notnull()\n",
    "data.loc[lavadero_match_mask, \"Lavadero\"] = 1\n",
    "data[\"Lavadero\"].fillna(0, inplace=True)\n",
    "data.loc[:,\"Lavadero\"] = data.loc[:,\"Lavadero\"].astype(int)"
   ]
  },
  {
   "cell_type": "markdown",
   "id": "7fa2362e",
   "metadata": {},
   "source": [
    "Tanto Garage como Estrenar van a ser dos columnas separadas\n",
    "\n",
    "La forma es imputación es a traves de variables dummies. Es decir, para cada amenitie agregamos una columna con el nombre de la misma y la completamos con 1 si el anuncio la indica y 0 en caso contrario."
   ]
  },
  {
   "cell_type": "code",
   "execution_count": 134,
   "id": "9f00ecfe",
   "metadata": {},
   "outputs": [
    {
     "name": "stdout",
     "output_type": "stream",
     "text": [
      "Total de \"Quincho\" imputados: 5403\n",
      "Total de \"Gimnasio\" imputados: 3199\n",
      "Total de \"Balcon\" imputados: 21442\n",
      "Total de \"Pileta\" imputados: 13680\n",
      "Total de \"Garage\" imputados: 19047\n",
      "Total de \"Estrenar\" imputados: 4351\n",
      "Total de \"Parrilla\" imputados: 20329\n",
      "Total de \"Patio\" imputados: 16883\n",
      "Total de \"Lavadero\" imputados: 19004\n"
     ]
    }
   ],
   "source": [
    "print(\"Total de \\\"{0}\\\" imputados: {1}\".format(\"Quincho\", data[\"Quincho\"].sum()))\n",
    "print(\"Total de \\\"{0}\\\" imputados: {1}\".format(\"Gimnasio\", data[\"Gimnasio\"].sum()))\n",
    "print(\"Total de \\\"{0}\\\" imputados: {1}\".format(\"Balcon\", data[\"Balcon\"].sum()))\n",
    "print(\"Total de \\\"{0}\\\" imputados: {1}\".format(\"Pileta\", data[\"Pileta\"].sum()))\n",
    "print(\"Total de \\\"{0}\\\" imputados: {1}\".format(\"Garage\", data[\"Garage\"].sum()))\n",
    "print(\"Total de \\\"{0}\\\" imputados: {1}\".format(\"Estrenar\", data[\"Estrenar\"].sum()))\n",
    "print(\"Total de \\\"{0}\\\" imputados: {1}\".format(\"Parrilla\", data[\"Parrilla\"].sum()))\n",
    "print(\"Total de \\\"{0}\\\" imputados: {1}\".format(\"Patio\", data[\"Patio\"].sum()))\n",
    "print(\"Total de \\\"{0}\\\" imputados: {1}\".format(\"Lavadero\", data[\"Lavadero\"].sum()))\n",
    "data['Amenities'] = data['Pileta'] + data['Quincho'] + data['Balcon'] + data['Gimnasio'] + data[\"Parrilla\"] + data[\"Patio\"] + data[\"Lavadero\"]"
   ]
  },
  {
   "cell_type": "markdown",
   "id": "b9377234",
   "metadata": {},
   "source": [
    " 1ER CONCLUSION LAS COLUMNAS DE PRICE POR M2 NO SE CONSIDERARAN PORQUE SE GENERARON A PARTIR DE DATOS DE SUPERFICIE Y PRECIO YA LIMPIOS Y ANALIZADOS\n",
    " \n",
    " 3ER CONCLUSION LA COLUMNA ROOMS ES IMPORTANTE PORQUE DA VALOR AL DATASET, SE LLENARÀN LOS NULOS EN LA COLUMNA ROOMS."
   ]
  },
  {
   "cell_type": "markdown",
   "id": "9c3d9ac8",
   "metadata": {},
   "source": [
    "#### Busqueda de Ambientes en title y description"
   ]
  },
  {
   "cell_type": "code",
   "execution_count": 135,
   "id": "066c08aa",
   "metadata": {},
   "outputs": [],
   "source": [
    "rooms_pattern = \"\\s(?P<ambientes>\\d\\d?)(\\s?)(?P<sufijo>AMB|amb|Amb)\"\n",
    "rooms_regex =  re.compile(rooms_pattern)\n",
    "\n",
    "rooms_match = data.description.apply(lambda x: x if x is np.NaN else rooms_regex.search(x))\n",
    "rooms_match_mask = rooms_match.notnull()\n",
    "data.loc[rooms_match_mask, \"Ambientes\"] = rooms_match[rooms_match_mask].apply(lambda x: x.group(\"ambientes\"))"
   ]
  },
  {
   "cell_type": "code",
   "execution_count": 136,
   "id": "ac155fa6",
   "metadata": {},
   "outputs": [
    {
     "name": "stdout",
     "output_type": "stream",
     "text": [
      "Cantidad rooms null en data inicial: 34883\n"
     ]
    }
   ],
   "source": [
    "data[\"Ambientes\"] = data[\"Ambientes\"].astype(float)\n",
    "data.loc[(pd.isnull(data[\"rooms\"])),\"rooms\"] = data[\"Ambientes\"]\n",
    "print('Cantidad rooms null en data inicial:', data[\"rooms\"].isnull().sum())"
   ]
  },
  {
   "cell_type": "markdown",
   "id": "eefbfedb",
   "metadata": {},
   "source": [
    "Con el fin de buscar nulos por tipo de propiedad para ver cuanto peso tiene cada nulo por categorìa, generamos una mascara por columna analizada en esta seccion"
   ]
  },
  {
   "cell_type": "code",
   "execution_count": 137,
   "id": "49b861a0",
   "metadata": {},
   "outputs": [],
   "source": [
    "data['suptotnulo']= data.surface_total_in_m2.isnull()\n",
    "data['supcubnulo']= data.surface_covered_in_m2.isnull()\n",
    "data['ambnulo']= data.rooms.isnull()"
   ]
  },
  {
   "cell_type": "code",
   "execution_count": 138,
   "id": "b3eac5a6",
   "metadata": {},
   "outputs": [
    {
     "data": {
      "text/html": [
       "<div>\n",
       "<style scoped>\n",
       "    .dataframe tbody tr th:only-of-type {\n",
       "        vertical-align: middle;\n",
       "    }\n",
       "\n",
       "    .dataframe tbody tr th {\n",
       "        vertical-align: top;\n",
       "    }\n",
       "\n",
       "    .dataframe thead th {\n",
       "        text-align: right;\n",
       "    }\n",
       "</style>\n",
       "<table border=\"1\" class=\"dataframe\">\n",
       "  <thead>\n",
       "    <tr style=\"text-align: right;\">\n",
       "      <th></th>\n",
       "      <th>suptotnulo</th>\n",
       "      <th>supcubnulo</th>\n",
       "      <th>ambnulo</th>\n",
       "    </tr>\n",
       "    <tr>\n",
       "      <th>property_type</th>\n",
       "      <th></th>\n",
       "      <th></th>\n",
       "      <th></th>\n",
       "    </tr>\n",
       "  </thead>\n",
       "  <tbody>\n",
       "    <tr>\n",
       "      <th>PH</th>\n",
       "      <td>0</td>\n",
       "      <td>0</td>\n",
       "      <td>1120</td>\n",
       "    </tr>\n",
       "    <tr>\n",
       "      <th>apartment</th>\n",
       "      <td>0</td>\n",
       "      <td>0</td>\n",
       "      <td>15355</td>\n",
       "    </tr>\n",
       "    <tr>\n",
       "      <th>house</th>\n",
       "      <td>0</td>\n",
       "      <td>0</td>\n",
       "      <td>16288</td>\n",
       "    </tr>\n",
       "    <tr>\n",
       "      <th>store</th>\n",
       "      <td>0</td>\n",
       "      <td>0</td>\n",
       "      <td>2120</td>\n",
       "    </tr>\n",
       "  </tbody>\n",
       "</table>\n",
       "</div>"
      ],
      "text/plain": [
       "               suptotnulo  supcubnulo  ambnulo\n",
       "property_type                                 \n",
       "PH                      0           0     1120\n",
       "apartment               0           0    15355\n",
       "house                   0           0    16288\n",
       "store                   0           0     2120"
      ]
     },
     "execution_count": 138,
     "metadata": {},
     "output_type": "execute_result"
    }
   ],
   "source": [
    "#aca hago una tabla con nulos discriminado por tipo de propiedad\n",
    "data.groupby(['property_type']).aggregate({'suptotnulo': 'sum', 'supcubnulo': 'sum', 'ambnulo': 'sum'})"
   ]
  },
  {
   "cell_type": "markdown",
   "id": "d52d8c25",
   "metadata": {},
   "source": [
    "ANALISIS A: SUPERFICIE EN RELACION A LOS AMBIENTES\n"
   ]
  },
  {
   "cell_type": "markdown",
   "id": "55b75cc1",
   "metadata": {},
   "source": [
    "La idea es ver que por ejemplo los 2 ambientes tienen un rango de m2 y los 3 ambientes tambien se encuentran en cierto rango de m2, vamos a ver esa relacion \n",
    "graficando la relacion que hay entre cantidad de ambientes y superficie"
   ]
  },
  {
   "cell_type": "code",
   "execution_count": 139,
   "id": "0de0c97f",
   "metadata": {},
   "outputs": [
    {
     "data": {
      "text/plain": [
       "<AxesSubplot:xlabel='Ambientes', ylabel='surface_covered_in_m2'>"
      ]
     },
     "execution_count": 139,
     "metadata": {},
     "output_type": "execute_result"
    },
    {
     "data": {
      "image/png": "[encoded data removed]",
      "text/plain": [
       "<Figure size 432x288 with 1 Axes>"
      ]
     },
     "metadata": {},
     "output_type": "display_data"
    }
   ],
   "source": [
    "data.plot.scatter(x='Ambientes',y='surface_covered_in_m2', c='DarkBlue')"
   ]
  },
  {
   "cell_type": "markdown",
   "id": "f040d139",
   "metadata": {},
   "source": [
    "Conclusion: se pueden sacar outliers de propiedades de mas de 2000 m2 y propiedades de mas de 15 ambientes"
   ]
  },
  {
   "cell_type": "code",
   "execution_count": null,
   "id": "df5197e6",
   "metadata": {},
   "outputs": [],
   "source": []
  },
  {
   "cell_type": "code",
   "execution_count": 140,
   "id": "13d2290f",
   "metadata": {},
   "outputs": [
    {
     "data": {
      "text/plain": [
       "(82648, 38)"
      ]
     },
     "execution_count": 140,
     "metadata": {},
     "output_type": "execute_result"
    }
   ],
   "source": [
    "#superficie mayor a 10.000m2\n",
    "data = data[data['surface_covered_in_m2'] < 2000]\n",
    "data.shape"
   ]
  },
  {
   "cell_type": "code",
   "execution_count": 141,
   "id": "c6d04391",
   "metadata": {},
   "outputs": [
    {
     "data": {
      "text/plain": [
       "(82627, 38)"
      ]
     },
     "execution_count": 141,
     "metadata": {},
     "output_type": "execute_result"
    }
   ],
   "source": [
    "#hago una mascara para graficar valores de menos de 11 ambientes\n",
    "data = data[data['Ambientes'].fillna(0) <11]\n",
    "data.shape"
   ]
  },
  {
   "cell_type": "markdown",
   "id": "408b26b8",
   "metadata": {},
   "source": [
    "CONCLUSION, SE ELIMINAN DEL DATASET OUTLIERS DE INDICES DE MAS DE 15 AMBIENTES Y SUPERFICIES MAYORES A 2000M2"
   ]
  },
  {
   "cell_type": "code",
   "execution_count": 142,
   "id": "9e1daadb",
   "metadata": {},
   "outputs": [
    {
     "data": {
      "image/png": "[encoded data removed]",
      "text/plain": [
       "<Figure size 432x288 with 1 Axes>"
      ]
     },
     "metadata": {},
     "output_type": "display_data"
    }
   ],
   "source": [
    "ax2 = data.plot.scatter(x='Ambientes', y='surface_covered_in_m2', c='DarkBlue')"
   ]
  },
  {
   "cell_type": "code",
   "execution_count": 143,
   "id": "d1d89b60",
   "metadata": {},
   "outputs": [],
   "source": [
    "data.drop([\"suptotnulo\", \"suptotnulo\", \"supcubnulo\", \"ambnulo\"], axis=1, inplace = True)"
   ]
  },
  {
   "cell_type": "code",
   "execution_count": 144,
   "id": "ab5cc6e4",
   "metadata": {},
   "outputs": [
    {
     "data": {
      "text/plain": [
       "2.0     9418\n",
       "3.0     9191\n",
       "4.0     5113\n",
       "1.0     1634\n",
       "5.0     1379\n",
       "6.0      410\n",
       "7.0      159\n",
       "8.0       29\n",
       "9.0       18\n",
       "10.0       8\n",
       "Name: Ambientes, dtype: int64"
      ]
     },
     "execution_count": 144,
     "metadata": {},
     "output_type": "execute_result"
    }
   ],
   "source": [
    "data.Ambientes.value_counts()"
   ]
  },
  {
   "cell_type": "markdown",
   "id": "989bfb14",
   "metadata": {},
   "source": [
    "## CONCLUSIÓN: se genera un nuevo dataset final, el cual se va a exportar para el próximo análisis"
   ]
  },
  {
   "cell_type": "markdown",
   "id": "e0a85739",
   "metadata": {},
   "source": [
    "Primero se eliminan las columnas que no se van a utilizar, se dejan las nuevas columnas que se generaron luego del análisis del dataset original"
   ]
  },
  {
   "cell_type": "code",
   "execution_count": 145,
   "id": "334c70b0",
   "metadata": {},
   "outputs": [],
   "source": [
    "data.drop([\"operation\", \"country_name\", 'place_with_parent_names',\"geonames_id\",'currency',\n",
    "           'price','price_aprox_local_currency','price_usd_per_m2',\n",
    "           'price_per_m2','rooms','USDxM2C', 'USDxM2T'], axis=1, inplace = True)"
   ]
  },
  {
   "cell_type": "markdown",
   "id": "ef74e941",
   "metadata": {},
   "source": [
    "Luego se renombran las columnas, para generar el dataset final"
   ]
  },
  {
   "cell_type": "code",
   "execution_count": 146,
   "id": "2e2fb3d5",
   "metadata": {},
   "outputs": [],
   "source": [
    "data.rename(columns={'property_type':'Tipo_Propiedad','place_name':'Barrio','state_name':'Región','price_aprox_usd':'Precio','description':'Descripción','title':'Título','m2_calculated':'Metros_cuadrados','USDxM2':'Precio_por_m2','Estrenar':'Estado'},inplace=True)\n"
   ]
  },
  {
   "cell_type": "markdown",
   "id": "955c0ab5",
   "metadata": {},
   "source": [
    "Se hace una revisión del nuevo dataset con un \"info\""
   ]
  },
  {
   "cell_type": "code",
   "execution_count": 147,
   "id": "85b9437e",
   "metadata": {},
   "outputs": [
    {
     "name": "stdout",
     "output_type": "stream",
     "text": [
      "<class 'pandas.core.frame.DataFrame'>\n",
      "Int64Index: 82627 entries, 0 to 121219\n",
      "Data columns (total 23 columns):\n",
      " #   Column                 Non-Null Count  Dtype  \n",
      "---  ------                 --------------  -----  \n",
      " 0   Tipo_Propiedad         82627 non-null  object \n",
      " 1   Barrio                 82627 non-null  object \n",
      " 2   Región                 82627 non-null  object \n",
      " 3   lat-lon                48977 non-null  object \n",
      " 4   lat                    48977 non-null  float64\n",
      " 5   lon                    48977 non-null  float64\n",
      " 6   Precio                 82627 non-null  float64\n",
      " 7   surface_total_in_m2    82627 non-null  float64\n",
      " 8   surface_covered_in_m2  82627 non-null  float64\n",
      " 9   Descripción            82626 non-null  object \n",
      " 10  Título                 82627 non-null  object \n",
      " 11  Precio_por_m2          82627 non-null  float64\n",
      " 12  Garage                 82627 non-null  int64  \n",
      " 13  Estado                 82627 non-null  int64  \n",
      " 14  Pileta                 82627 non-null  int64  \n",
      " 15  Balcon                 82627 non-null  int64  \n",
      " 16  Gimnasio               82627 non-null  int64  \n",
      " 17  Quincho                82627 non-null  int64  \n",
      " 18  Parrilla               82627 non-null  int64  \n",
      " 19  Patio                  82627 non-null  int64  \n",
      " 20  Lavadero               82627 non-null  int64  \n",
      " 21  Amenities              82627 non-null  int64  \n",
      " 22  Ambientes              27359 non-null  float64\n",
      "dtypes: float64(7), int64(10), object(6)\n",
      "memory usage: 15.1+ MB\n"
     ]
    }
   ],
   "source": [
    "data.info()"
   ]
  },
  {
   "cell_type": "code",
   "execution_count": 148,
   "id": "2551ad63",
   "metadata": {},
   "outputs": [
    {
     "data": {
      "text/plain": [
       "Text(0.5, 1.0, 'Influencia de los amenities en el precio por m2')"
      ]
     },
     "execution_count": 148,
     "metadata": {},
     "output_type": "execute_result"
    },
    {
     "data": {
      "image/png": "[encoded data removed]",
      "text/plain": [
       "<Figure size 1008x720 with 1 Axes>"
      ]
     },
     "metadata": {},
     "output_type": "display_data"
    }
   ],
   "source": [
    "import warnings\n",
    "warnings.filterwarnings(\"ignore\")\n",
    "\n",
    "data1 = data[data[\"Tipo_Propiedad\"] != 'store']\n",
    "data1['amenities_binario'] = data1[\"Amenities\"] != 0 \n",
    "data1['amenities_binario'] = data1['amenities_binario'].astype(np.int)\n",
    "fig, axs = plt.subplots(figsize=(14, 10))\n",
    "sns.violinplot(\"Precio_por_m2\",\n",
    "    \"Tipo_Propiedad\",\n",
    "    hue=\"amenities_binario\",\n",
    "    data=data1,\n",
    "    bw = 0.25)\n",
    "axs.set_title('Influencia de los amenities en el precio por m2')"
   ]
  },
  {
   "cell_type": "markdown",
   "id": "14d7b089",
   "metadata": {},
   "source": [
    "Exportamos el dataset de todo ARGENTINA para el análisis final"
   ]
  },
  {
   "cell_type": "code",
   "execution_count": 149,
   "id": "53c70fa3",
   "metadata": {},
   "outputs": [],
   "source": [
    "data.to_csv('./data/properati-fase2.csv', sep=',', index=False)"
   ]
  },
  {
   "cell_type": "code",
   "execution_count": 150,
   "id": "0f83ec31",
   "metadata": {},
   "outputs": [
    {
     "data": {
      "text/plain": [
       "Región\n",
       "Bs.As. G.B.A. Zona Norte        20883\n",
       "Bs.As. G.B.A. Zona Oeste         6887\n",
       "Bs.As. G.B.A. Zona Sur           9320\n",
       "Buenos Aires Costa Atlántica     7624\n",
       "Buenos Aires Interior            1340\n",
       "Capital Federal                 23937\n",
       "Catamarca                          15\n",
       "Chaco                              26\n",
       "Chubut                            124\n",
       "Corrientes                        422\n",
       "Córdoba                          6002\n",
       "Entre Ríos                         81\n",
       "Formosa                             4\n",
       "Jujuy                               3\n",
       "La Pampa                           16\n",
       "La Rioja                            1\n",
       "Mendoza                           364\n",
       "Misiones                          176\n",
       "Neuquén                           235\n",
       "Río Negro                         268\n",
       "Salta                              63\n",
       "San Juan                            4\n",
       "San Luis                          142\n",
       "Santa Cruz                          8\n",
       "Santa Fe                         4526\n",
       "Santiago Del Estero                 1\n",
       "Tierra Del Fuego                   27\n",
       "Tucumán                           128\n",
       "Name: Región, dtype: int64"
      ]
     },
     "execution_count": 150,
     "metadata": {},
     "output_type": "execute_result"
    }
   ],
   "source": [
    "regiones = data.groupby('Región').Región.count()\n",
    "regiones"
   ]
  },
  {
   "cell_type": "code",
   "execution_count": null,
   "id": "8b89ac18",
   "metadata": {},
   "outputs": [],
   "source": []
  }
 ],
 "metadata": {
  "kernelspec": {
   "display_name": "Python 3",
   "language": "python",
   "name": "python3"
  },
  "language_info": {
   "codemirror_mode": {
    "name": "ipython",
    "version": 3
   },
   "file_extension": ".py",
   "mimetype": "text/x-python",
   "name": "python",
   "nbconvert_exporter": "python",
   "pygments_lexer": "ipython3",
   "version": "3.8.8"
  }
 },
 "nbformat": 4,
 "nbformat_minor": 5
}
